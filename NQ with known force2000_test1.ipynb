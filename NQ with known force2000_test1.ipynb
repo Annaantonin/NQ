{
 "cells": [
  {
   "cell_type": "code",
   "execution_count": 15,
   "id": "e322b318-2b90-46a0-9afe-8494aef96820",
   "metadata": {},
   "outputs": [],
   "source": [
    "# import tensorflow as tf"
   ]
  },
  {
   "cell_type": "code",
   "execution_count": 1,
   "id": "f61dc19c-5812-42e6-ad25-9026eeffbe1a",
   "metadata": {
    "scrolled": true
   },
   "outputs": [
    {
     "name": "stderr",
     "output_type": "stream",
     "text": [
      "2023-11-28 15:15:02.474728: I tensorflow/core/util/port.cc:111] oneDNN custom operations are on. You may see slightly different numerical results due to floating-point round-off errors from different computation orders. To turn them off, set the environment variable `TF_ENABLE_ONEDNN_OPTS=0`.\n",
      "2023-11-28 15:15:02.601732: E tensorflow/compiler/xla/stream_executor/cuda/cuda_dnn.cc:9342] Unable to register cuDNN factory: Attempting to register factory for plugin cuDNN when one has already been registered\n",
      "2023-11-28 15:15:02.601789: E tensorflow/compiler/xla/stream_executor/cuda/cuda_fft.cc:609] Unable to register cuFFT factory: Attempting to register factory for plugin cuFFT when one has already been registered\n",
      "2023-11-28 15:15:02.601993: E tensorflow/compiler/xla/stream_executor/cuda/cuda_blas.cc:1518] Unable to register cuBLAS factory: Attempting to register factory for plugin cuBLAS when one has already been registered\n",
      "2023-11-28 15:15:02.669126: I tensorflow/core/platform/cpu_feature_guard.cc:182] This TensorFlow binary is optimized to use available CPU instructions in performance-critical operations.\n",
      "To enable the following instructions: AVX2 AVX_VNNI FMA, in other operations, rebuild TensorFlow with the appropriate compiler flags.\n"
     ]
    },
    {
     "name": "stdout",
     "output_type": "stream",
     "text": [
      "[name: \"/device:CPU:0\"\n",
      "device_type: \"CPU\"\n",
      "memory_limit: 268435456\n",
      "locality {\n",
      "}\n",
      "incarnation: 8255406858459715518\n",
      "xla_global_id: -1\n",
      ", name: \"/device:GPU:0\"\n",
      "device_type: \"GPU\"\n",
      "memory_limit: 5607784448\n",
      "locality {\n",
      "  bus_id: 1\n",
      "  links {\n",
      "  }\n",
      "}\n",
      "incarnation: 5354920088878964614\n",
      "physical_device_desc: \"device: 0, name: NVIDIA GeForce RTX 4070 Laptop GPU, pci bus id: 0000:01:00.0, compute capability: 8.9\"\n",
      "xla_global_id: 416903419\n",
      "]\n"
     ]
    },
    {
     "name": "stderr",
     "output_type": "stream",
     "text": [
      "2023-11-28 15:15:04.983286: I tensorflow/compiler/xla/stream_executor/cuda/cuda_gpu_executor.cc:880] could not open file to read NUMA node: /sys/bus/pci/devices/0000:01:00.0/numa_node\n",
      "Your kernel may have been built without NUMA support.\n",
      "2023-11-28 15:15:05.062046: I tensorflow/compiler/xla/stream_executor/cuda/cuda_gpu_executor.cc:880] could not open file to read NUMA node: /sys/bus/pci/devices/0000:01:00.0/numa_node\n",
      "Your kernel may have been built without NUMA support.\n",
      "2023-11-28 15:15:05.062072: I tensorflow/compiler/xla/stream_executor/cuda/cuda_gpu_executor.cc:880] could not open file to read NUMA node: /sys/bus/pci/devices/0000:01:00.0/numa_node\n",
      "Your kernel may have been built without NUMA support.\n",
      "2023-11-28 15:15:06.974827: I tensorflow/compiler/xla/stream_executor/cuda/cuda_gpu_executor.cc:880] could not open file to read NUMA node: /sys/bus/pci/devices/0000:01:00.0/numa_node\n",
      "Your kernel may have been built without NUMA support.\n",
      "2023-11-28 15:15:06.975009: I tensorflow/compiler/xla/stream_executor/cuda/cuda_gpu_executor.cc:880] could not open file to read NUMA node: /sys/bus/pci/devices/0000:01:00.0/numa_node\n",
      "Your kernel may have been built without NUMA support.\n",
      "2023-11-28 15:15:06.975018: I tensorflow/core/common_runtime/gpu/gpu_device.cc:1977] Could not identify NUMA node of platform GPU id 0, defaulting to 0.  Your kernel may not have been built with NUMA support.\n",
      "2023-11-28 15:15:06.975058: I tensorflow/compiler/xla/stream_executor/cuda/cuda_gpu_executor.cc:880] could not open file to read NUMA node: /sys/bus/pci/devices/0000:01:00.0/numa_node\n",
      "Your kernel may have been built without NUMA support.\n",
      "2023-11-28 15:15:06.975174: I tensorflow/core/common_runtime/gpu/gpu_device.cc:1886] Created device /device:GPU:0 with 5348 MB memory:  -> device: 0, name: NVIDIA GeForce RTX 4070 Laptop GPU, pci bus id: 0000:01:00.0, compute capability: 8.9\n"
     ]
    }
   ],
   "source": [
    "from tensorflow.python.client import device_lib \n",
    "print(device_lib.list_local_devices())"
   ]
  },
  {
   "cell_type": "code",
   "execution_count": 2,
   "id": "7532903d-d511-422b-97d5-3a3f2a708c1d",
   "metadata": {},
   "outputs": [],
   "source": [
    "# os.chdir(\"/mnt/\")\n",
    "import neuraluq as neuq\n",
    "import neuraluq.variables as neuq_vars\n",
    "from neuraluq.config import tf\n",
    "\n",
    "import numpy as np\n",
    "import scipy.io as sio\n",
    "from scipy.io import loadmat\n",
    "import matplotlib.pyplot as plt"
   ]
  },
  {
   "cell_type": "code",
   "execution_count": 3,
   "id": "be4cc8e8-f845-4714-8b58-c74458a6af25",
   "metadata": {},
   "outputs": [
    {
     "name": "stdout",
     "output_type": "stream",
     "text": [
      "fatal: destination path 'Data' already exists and is not an empty directory.\n"
     ]
    }
   ],
   "source": [
    "!git clone https://github.com/Annaantonin/Data.git"
   ]
  },
  {
   "cell_type": "code",
   "execution_count": 5,
   "id": "93b9f1b7-e21e-4eb2-a1ca-971823b01db1",
   "metadata": {},
   "outputs": [],
   "source": [
    "# rm -rf Data"
   ]
  },
  {
   "cell_type": "code",
   "execution_count": 4,
   "id": "e4b37278-49a5-4032-a14d-0340efed0a57",
   "metadata": {},
   "outputs": [],
   "source": [
    "import Data as data\n",
    "data = sio.loadmat(\"Data/sdof_2000.mat\")"
   ]
  },
  {
   "cell_type": "code",
   "execution_count": null,
   "id": "86f2c4ab-fc67-4785-8d75-8670ae5dd47f",
   "metadata": {},
   "outputs": [],
   "source": [
    "!git clone https://github.com/Crunch-UQ4MI/neuraluq.git\n",
    "#!git clone https://github.com/Annaantonin/Data.git\n",
    "!pip install tensorflow-probability\n",
    "!pip install scipy\n",
    "import os\n",
    "os.chdir(\"/tf/neuraluq/\")\n",
    "!python setup.py install"
   ]
  },
  {
   "cell_type": "code",
   "execution_count": 9,
   "id": "e21a150d-287e-4f67-bd61-a0e9fbfc111d",
   "metadata": {},
   "outputs": [
    {
     "data": {
      "text/plain": [
       "['dataset',\n",
       " 'README.md',\n",
       " 'dist',\n",
       " 'build',\n",
       " 'output.mat',\n",
       " 'examples',\n",
       " 'NeuralUQ.egg-info',\n",
       " 'output_ukF.mat',\n",
       " '.git',\n",
       " 'setup.py',\n",
       " 'Data',\n",
       " 'neuraluq']"
      ]
     },
     "execution_count": 9,
     "metadata": {},
     "output_type": "execute_result"
    }
   ],
   "source": [
    "os.listdir(\".\")"
   ]
  },
  {
   "cell_type": "code",
   "execution_count": 9,
   "id": "063426be-c1d2-496c-b315-9e8ad05eb58e",
   "metadata": {},
   "outputs": [],
   "source": []
  },
  {
   "cell_type": "code",
   "execution_count": 76,
   "id": "4808f03e-0c15-4ccb-beff-bff94a5e64be",
   "metadata": {},
   "outputs": [
    {
     "name": "stderr",
     "output_type": "stream",
     "text": [
      "2023-11-28 16:12:18.820094: I tensorflow/compiler/xla/stream_executor/cuda/cuda_gpu_executor.cc:880] could not open file to read NUMA node: /sys/bus/pci/devices/0000:01:00.0/numa_node\n",
      "Your kernel may have been built without NUMA support.\n",
      "2023-11-28 16:12:18.820175: I tensorflow/compiler/xla/stream_executor/cuda/cuda_gpu_executor.cc:880] could not open file to read NUMA node: /sys/bus/pci/devices/0000:01:00.0/numa_node\n",
      "Your kernel may have been built without NUMA support.\n",
      "2023-11-28 16:12:18.820186: I tensorflow/compiler/xla/stream_executor/cuda/cuda_gpu_executor.cc:880] could not open file to read NUMA node: /sys/bus/pci/devices/0000:01:00.0/numa_node\n",
      "Your kernel may have been built without NUMA support.\n",
      "2023-11-28 16:12:18.820656: I tensorflow/compiler/xla/stream_executor/cuda/cuda_gpu_executor.cc:880] could not open file to read NUMA node: /sys/bus/pci/devices/0000:01:00.0/numa_node\n",
      "Your kernel may have been built without NUMA support.\n",
      "2023-11-28 16:12:18.820682: I tensorflow/core/common_runtime/gpu/gpu_device.cc:1977] Could not identify NUMA node of platform GPU id 0, defaulting to 0.  Your kernel may not have been built with NUMA support.\n",
      "2023-11-28 16:12:18.820702: I tensorflow/compiler/xla/stream_executor/cuda/cuda_gpu_executor.cc:880] could not open file to read NUMA node: /sys/bus/pci/devices/0000:01:00.0/numa_node\n",
      "Your kernel may have been built without NUMA support.\n",
      "2023-11-28 16:12:18.820720: I tensorflow/core/common_runtime/gpu/gpu_device.cc:1886] Created device /job:localhost/replica:0/task:0/device:GPU:0 with 5348 MB memory:  -> device: 0, name: NVIDIA GeForce RTX 4070 Laptop GPU, pci bus id: 0000:01:00.0, compute capability: 8.9\n"
     ]
    },
    {
     "name": "stdout",
     "output_type": "stream",
     "text": [
      "Supporting backend tensorflow.compat.v1\n",
      "\n",
      "Compiling a Ensemble method\n",
      "\n",
      "Generating 0th sample by deep ensemble...\n"
     ]
    },
    {
     "name": "stderr",
     "output_type": "stream",
     "text": [
      "2023-11-28 16:12:19.247400: W tensorflow/c/c_api.cc:305] Operation '{name:'Variable_105/Assign' id:9641 op device:{requested: '', assigned: ''} def:{{{node Variable_105/Assign}} = AssignVariableOp[_has_manual_control_dependencies=true, dtype=DT_FLOAT, validate_shape=false](Variable_105, zeros_52)}}' was changed by setting attribute after it was run by a session. This mutation will have no effect, and will trigger an error in the future. Either don't modify nodes after running them or create a new session.\n"
     ]
    },
    {
     "name": "stdout",
     "output_type": "stream",
     "text": [
      "Iteration:  0 , loss:  2.478455\n",
      "Iteration:  1000 , loss:  5.357683e-07\n",
      "Iteration:  2000 , loss:  1.012817e-07\n",
      "Iteration:  3000 , loss:  2.2524928e-08\n",
      "Iteration:  4000 , loss:  1.9225752e-06\n",
      "Iteration:  5000 , loss:  3.556952e-08\n",
      "Iteration:  6000 , loss:  1.8458843e-08\n",
      "Iteration:  7000 , loss:  1.9659263e-08\n",
      "Iteration:  8000 , loss:  2.4695469e-08\n",
      "Iteration:  9000 , loss:  6.165118e-09\n",
      "Execution time for 'Trainable' function is: 20.563 s, 0.343 mins\n"
     ]
    }
   ],
   "source": [
    "# -*- coding: utf-8 -*-\n",
    "\"\"\"\n",
    "Created on Wed Oct  4 16:14:30 2023\n",
    "\n",
    "@author: Antonina\n",
    "\"\"\"\n",
    "\n",
    "#%%\n",
    "# Simulated SDOF with:\n",
    "#K_true=10;\n",
    "# C_true=0.2236; %system damping ratio 5%\n",
    "\n",
    "# m=5; %mass for sdof example\n",
    "\n",
    "def load_data(noise_x, noise_f):\n",
    "\n",
    "    #data = sio.loadmat(r\"G:\\My Drive\\Python_codes\\NNs\\sdof_ymeas.mat\")\n",
    "    data = sio.loadmat(\"Data/sdof_2000.mat\")\n",
    "    #  t_x_train, t_f_train = data[\"t\"], data[\"ymeas\"]\n",
    "    # data = matdata['data']\n",
    "    x_tt_train, t_train = data[\"a\"], data[\"t\"]\n",
    "    x_train, f_train = data[\"u\"], data[\"force\"]\n",
    "    # Input_train=t, x_tt\n",
    "    # train_x_tt = t_x_tt_train, x_train\n",
    "    # train_f = t_f_train, f_train\n",
    "\n",
    "    return  x_tt_train.T, t_train.T, x_train.T, f_train.T\n",
    "\n",
    "#m=1\n",
    "# [0][..., 0:1]     \n",
    "\n",
    "def pde_fn(t, x):\n",
    "    # log_k=tf.clip_by_value(log_k,np.log(0),np.log(20)) # to make constrains for the parameters\n",
    "    # log_c=tf.clip_by_value(log_c,np.log(0),np.log(0.5))\n",
    "    x_t = tf.gradients(x, t)  [0][..., 0:1]         #velocity                                                                                                                                                                                                                   \n",
    "    x_tt = tf.gradients(x_t, t)  [0][..., 0:1]  \n",
    "\n",
    "    f = tf.multiply(x_tt, 5.0)+ tf.multiply(x_t, 0.22) * x_t + tf.multiply(x, 10)\n",
    "    # f - tf.multiply(x_tt, 5.0)+ tf.exp(log_c) * x_t + tf.exp(log_k) * x\n",
    "    # return [f,x_tt]\n",
    "    return f\n",
    "\n",
    "def pde_xtt(t,x,xtt):\n",
    "    x_t = tf.gradients(x, t)     #[0][..., 0:1]                                                                                                                                                                                                                    \n",
    "    x_tt = tf.gradients(x_t, t)  #[0][..., 0:1] \n",
    "\n",
    "    return x_tt-xtt\n",
    "    \n",
    "@neuq.utils.timer\n",
    "def Trainable(\n",
    "   x_tt_train, t_train, x_train, f_train, noise, layers, \n",
    "):\n",
    "    # build processes\n",
    "    \n",
    "    process_x = neuq.process.Process(\n",
    "        surrogate=neuq.surrogates.FNN(layers=layers),\n",
    "        # surrogate=neuq.surrogates.FNN(layers=layers,activation=RELu),\n",
    "        posterior=neuq_vars.fnn.Trainable(layers=layers),# displacement\n",
    "    # )\n",
    "         # posterior=neuq_vars.fnn.Trainable(\n",
    "         #    layers=layers, regularizer=tf.keras.regularizers.l2(1e-5)\n",
    "        # ),\n",
    "    )\n",
    "    process_xtt = neuq.process.Process(\n",
    "        surrogate=neuq.surrogates.FNN(layers=layers),\n",
    "        # surrogate=neuq.surrogates.FNN(layers=layers,activation=RELu),\n",
    "        posterior=neuq_vars.fnn.Trainable(layers=layers),# displacement\n",
    "\n",
    "    )\n",
    "    # process_log_c = neuq.process.Process(\n",
    "    #     surrogate=neuq.surrogates.Identity(),\n",
    "    #     posterior=neuq_vars.const.Trainable(value=0),\n",
    "    # )\n",
    "    # process_log_k = neuq.process.Process(\n",
    "    #     surrogate=neuq.surrogates.Identity(),\n",
    "    #     posterior=neuq_vars.const.Trainable(value=0),\n",
    "    # )\n",
    "    method = neuq.inferences.DEns(\n",
    "        num_samples=1, num_iterations=10000, optimizer=tf.train.AdamOptimizer(1e-2),\n",
    "    )\n",
    "\n",
    "    # build losses\n",
    "    loss_x = neuq.likelihoods.MSE(\n",
    "        inputs=t_train,\n",
    "        targets=np.zeros_like(t_train), # could be the problem\n",
    "        processes=[process_x, process_xtt],\n",
    "        pde=pde_xtt, # dotdot _X\n",
    "        multiplier=1.0,\n",
    "    )\n",
    "    \n",
    "    loss_f = neuq.likelihoods.MSE(\n",
    "        inputs=t_train,\n",
    "        targets=f_train, # minimizing the loss to be close to zero\n",
    "         # targets=np.zeros_like(t_train), # minimizing the loss to be close to zero\n",
    "        processes=[process_x], # tf train\n",
    "        pde=pde_fn,\n",
    "        multiplier=0,\n",
    "    )\n",
    "    # build model\n",
    "    model = neuq.models.Model(\n",
    "        processes=[process_x, process_xtt],\n",
    "        likelihoods=[loss_x, loss_f],\n",
    "    )\n",
    "    # assign and compile method\n",
    "    model.compile(method)\n",
    "    # obtain posterior samples\n",
    "    samples = model.run()\n",
    "    # samples,results = model.run()\n",
    "    # print(\"Acceptance rate: %.3f \\n\" % (np.mean(results)))\n",
    "    \n",
    "    processes = [process_x,process_xtt]\n",
    "    return processes, samples, model\n",
    "\n",
    "\n",
    "if __name__ == \"__main__\":\n",
    "\n",
    "    noise = 0\n",
    "\n",
    "    x_tt_train, t_train, x_train, f_train = load_data(noise, noise)\n",
    "\n",
    "    # t_x_tt_train, x_tt_train = train_x_tt\n",
    "    # t_f_train, f_train = train_f\n",
    "\n",
    "    layers = [1,50,50, 1]\n",
    "\n",
    "    processes, samples, model = Trainable( x_tt_train, t_train, x_train, f_train, noise, layers,\n",
    "    )\n",
    "\n",
    "    x_pred, xtt_pred = model.predict(t_train, samples, processes, pde_fn=None)\n"
   ]
  },
  {
   "cell_type": "code",
   "execution_count": null,
   "id": "45949f2f-70df-48fb-be1f-f256b5781de7",
   "metadata": {},
   "outputs": [],
   "source": [
    "# neuq.utils.plot1d(t_train,x_train,t_train,x_train,  x_pred[:, :, 0])"
   ]
  },
  {
   "cell_type": "code",
   "execution_count": 83,
   "id": "79627ead-5b27-4005-99a0-e04126bbfee1",
   "metadata": {},
   "outputs": [
    {
     "data": {
      "text/plain": [
       "Text(0.5, 1.0, 'acceleration')"
      ]
     },
     "execution_count": 83,
     "metadata": {},
     "output_type": "execute_result"
    },
    {
     "data": {
      "image/png": "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",
      "text/plain": [
       "<Figure size 640x480 with 1 Axes>"
      ]
     },
     "metadata": {},
     "output_type": "display_data"
    }
   ],
   "source": [
    "len(xtt_pred)\n",
    "plt.plot(xtt_pred[0].flatten())\n",
    "plt.title('acceleration')"
   ]
  },
  {
   "cell_type": "code",
   "execution_count": 84,
   "id": "4f5e9625-a801-45cc-9ae7-d8e04848ba34",
   "metadata": {},
   "outputs": [
    {
     "data": {
      "text/plain": [
       "Text(0.5, 1.0, 'displacement')"
      ]
     },
     "execution_count": 84,
     "metadata": {},
     "output_type": "execute_result"
    },
    {
     "data": {
      "image/png": "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",
      "text/plain": [
       "<Figure size 640x480 with 1 Axes>"
      ]
     },
     "metadata": {},
     "output_type": "display_data"
    }
   ],
   "source": [
    "plt.plot(x_pred[0].flatten())\n",
    "plt.title('displacement')"
   ]
  },
 
  
 "nbformat": 4,
 "nbformat_minor": 5
}
