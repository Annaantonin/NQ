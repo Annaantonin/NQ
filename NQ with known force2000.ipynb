{
 "cells": [
  {
   "cell_type": "code",
   "execution_count": 15,
   "id": "e322b318-2b90-46a0-9afe-8494aef96820",
   "metadata": {},
   "outputs": [],
   "source": [
    "# import tensorflow as tf"
   ]
  },
  {
   "cell_type": "code",
   "execution_count": 1,
   "id": "f61dc19c-5812-42e6-ad25-9026eeffbe1a",
   "metadata": {
    "scrolled": true
   },
   "outputs": [
    {
     "name": "stderr",
     "output_type": "stream",
     "text": [
      "2023-10-20 15:11:58.266892: I tensorflow/core/util/port.cc:111] oneDNN custom operations are on. You may see slightly different numerical results due to floating-point round-off errors from different computation orders. To turn them off, set the environment variable `TF_ENABLE_ONEDNN_OPTS=0`.\n",
      "2023-10-20 15:11:58.287114: E tensorflow/compiler/xla/stream_executor/cuda/cuda_dnn.cc:9342] Unable to register cuDNN factory: Attempting to register factory for plugin cuDNN when one has already been registered\n",
      "2023-10-20 15:11:58.287143: E tensorflow/compiler/xla/stream_executor/cuda/cuda_fft.cc:609] Unable to register cuFFT factory: Attempting to register factory for plugin cuFFT when one has already been registered\n",
      "2023-10-20 15:11:58.287156: E tensorflow/compiler/xla/stream_executor/cuda/cuda_blas.cc:1518] Unable to register cuBLAS factory: Attempting to register factory for plugin cuBLAS when one has already been registered\n",
      "2023-10-20 15:11:58.291175: I tensorflow/core/platform/cpu_feature_guard.cc:182] This TensorFlow binary is optimized to use available CPU instructions in performance-critical operations.\n",
      "To enable the following instructions: AVX2 AVX_VNNI FMA, in other operations, rebuild TensorFlow with the appropriate compiler flags.\n"
     ]
    },
    {
     "name": "stdout",
     "output_type": "stream",
     "text": [
      "[name: \"/device:CPU:0\"\n",
      "device_type: \"CPU\"\n",
      "memory_limit: 268435456\n",
      "locality {\n",
      "}\n",
      "incarnation: 15445386657115308813\n",
      "xla_global_id: -1\n",
      ", name: \"/device:GPU:0\"\n",
      "device_type: \"GPU\"\n",
      "memory_limit: 5607784448\n",
      "locality {\n",
      "  bus_id: 1\n",
      "  links {\n",
      "  }\n",
      "}\n",
      "incarnation: 10281905751822993994\n",
      "physical_device_desc: \"device: 0, name: NVIDIA GeForce RTX 4070 Laptop GPU, pci bus id: 0000:01:00.0, compute capability: 8.9\"\n",
      "xla_global_id: 416903419\n",
      "]\n"
     ]
    },
    {
     "name": "stderr",
     "output_type": "stream",
     "text": [
      "2023-10-20 15:11:59.298201: I tensorflow/compiler/xla/stream_executor/cuda/cuda_gpu_executor.cc:880] could not open file to read NUMA node: /sys/bus/pci/devices/0000:01:00.0/numa_node\n",
      "Your kernel may have been built without NUMA support.\n",
      "2023-10-20 15:11:59.300862: I tensorflow/compiler/xla/stream_executor/cuda/cuda_gpu_executor.cc:880] could not open file to read NUMA node: /sys/bus/pci/devices/0000:01:00.0/numa_node\n",
      "Your kernel may have been built without NUMA support.\n",
      "2023-10-20 15:11:59.300879: I tensorflow/compiler/xla/stream_executor/cuda/cuda_gpu_executor.cc:880] could not open file to read NUMA node: /sys/bus/pci/devices/0000:01:00.0/numa_node\n",
      "Your kernel may have been built without NUMA support.\n",
      "2023-10-20 15:11:59.732750: I tensorflow/compiler/xla/stream_executor/cuda/cuda_gpu_executor.cc:880] could not open file to read NUMA node: /sys/bus/pci/devices/0000:01:00.0/numa_node\n",
      "Your kernel may have been built without NUMA support.\n",
      "2023-10-20 15:11:59.732779: I tensorflow/compiler/xla/stream_executor/cuda/cuda_gpu_executor.cc:880] could not open file to read NUMA node: /sys/bus/pci/devices/0000:01:00.0/numa_node\n",
      "Your kernel may have been built without NUMA support.\n",
      "2023-10-20 15:11:59.732784: I tensorflow/core/common_runtime/gpu/gpu_device.cc:1977] Could not identify NUMA node of platform GPU id 0, defaulting to 0.  Your kernel may not have been built with NUMA support.\n",
      "2023-10-20 15:11:59.732801: I tensorflow/compiler/xla/stream_executor/cuda/cuda_gpu_executor.cc:880] could not open file to read NUMA node: /sys/bus/pci/devices/0000:01:00.0/numa_node\n",
      "Your kernel may have been built without NUMA support.\n",
      "2023-10-20 15:11:59.732814: I tensorflow/core/common_runtime/gpu/gpu_device.cc:1886] Created device /device:GPU:0 with 5348 MB memory:  -> device: 0, name: NVIDIA GeForce RTX 4070 Laptop GPU, pci bus id: 0000:01:00.0, compute capability: 8.9\n"
     ]
    }
   ],
   "source": [
    "from tensorflow.python.client import device_lib \n",
    "print(device_lib.list_local_devices())"
   ]
  },
  {
   "cell_type": "code",
   "execution_count": 9,
   "id": "7532903d-d511-422b-97d5-3a3f2a708c1d",
   "metadata": {},
   "outputs": [],
   "source": [
    "# os.chdir(\"/mnt/\")\n",
    "import neuraluq as neuq\n",
    "import neuraluq.variables as neuq_vars\n",
    "from neuraluq.config import tf\n",
    "\n",
    "import numpy as np\n",
    "import scipy.io as sio\n",
    "from scipy.io import loadmat\n",
    "import matplotlib.pyplot as plt"
   ]
  },
  {
   "cell_type": "code",
   "execution_count": 10,
   "id": "be4cc8e8-f845-4714-8b58-c74458a6af25",
   "metadata": {},
   "outputs": [
    {
     "name": "stdout",
     "output_type": "stream",
     "text": [
      "Cloning into 'Data'...\n",
      "remote: Enumerating objects: 15, done.\u001b[K\n",
      "remote: Counting objects: 100% (15/15), done.\u001b[K\n",
      "remote: Compressing objects: 100% (12/12), done.\u001b[K\n",
      "remote: Total 15 (delta 2), reused 0 (delta 0), pack-reused 0\u001b[K\n",
      "Receiving objects: 100% (15/15), 379.76 KiB | 9.99 MiB/s, done.\n",
      "Resolving deltas: 100% (2/2), done.\n"
     ]
    }
   ],
   "source": [
    "!git clone https://github.com/Annaantonin/Data.git"
   ]
  },
  {
   "cell_type": "code",
   "execution_count": 8,
   "id": "93b9f1b7-e21e-4eb2-a1ca-971823b01db1",
   "metadata": {},
   "outputs": [],
   "source": [
    "# rm -rf Data"
   ]
  },
  {
   "cell_type": "code",
   "execution_count": 11,
   "id": "e4b37278-49a5-4032-a14d-0340efed0a57",
   "metadata": {},
   "outputs": [],
   "source": [
    "import Data as data\n",
    "data = sio.loadmat(\"Data/sdof_2000.mat\")"
   ]
  },
  {
   "cell_type": "code",
   "execution_count": 12,
   "id": "86f2c4ab-fc67-4785-8d75-8670ae5dd47f",
   "metadata": {},
   "outputs": [
    {
     "name": "stdout",
     "output_type": "stream",
     "text": [
      "fatal: destination path 'neuraluq' already exists and is not an empty directory.\n",
      "Requirement already satisfied: tensorflow-probability in /usr/local/lib/python3.11/dist-packages (0.22.0)\n",
      "Requirement already satisfied: absl-py in /usr/local/lib/python3.11/dist-packages (from tensorflow-probability) (2.0.0)\n",
      "Requirement already satisfied: six>=1.10.0 in /usr/lib/python3/dist-packages (from tensorflow-probability) (1.16.0)\n",
      "Requirement already satisfied: numpy>=1.13.3 in /usr/local/lib/python3.11/dist-packages (from tensorflow-probability) (1.26.0)\n",
      "Requirement already satisfied: decorator in /usr/local/lib/python3.11/dist-packages (from tensorflow-probability) (5.1.1)\n",
      "Requirement already satisfied: cloudpickle>=1.3 in /usr/local/lib/python3.11/dist-packages (from tensorflow-probability) (3.0.0)\n",
      "Requirement already satisfied: gast>=0.3.2 in /usr/local/lib/python3.11/dist-packages (from tensorflow-probability) (0.5.4)\n",
      "Requirement already satisfied: dm-tree in /usr/local/lib/python3.11/dist-packages (from tensorflow-probability) (0.1.8)\n",
      "Requirement already satisfied: typing-extensions<4.6.0 in /usr/local/lib/python3.11/dist-packages (from tensorflow-probability) (4.5.0)\n",
      "\u001b[33mWARNING: Running pip as the 'root' user can result in broken permissions and conflicting behaviour with the system package manager. It is recommended to use a virtual environment instead: https://pip.pypa.io/warnings/venv\u001b[0m\u001b[33m\n",
      "\u001b[0m\n",
      "\u001b[1m[\u001b[0m\u001b[34;49mnotice\u001b[0m\u001b[1;39;49m]\u001b[0m\u001b[39;49m A new release of pip is available: \u001b[0m\u001b[31;49m23.2.1\u001b[0m\u001b[39;49m -> \u001b[0m\u001b[32;49m23.3\u001b[0m\n",
      "\u001b[1m[\u001b[0m\u001b[34;49mnotice\u001b[0m\u001b[1;39;49m]\u001b[0m\u001b[39;49m To update, run: \u001b[0m\u001b[32;49mpython3 -m pip install --upgrade pip\u001b[0m\n",
      "Requirement already satisfied: scipy in /usr/local/lib/python3.11/dist-packages (1.11.3)\n",
      "Requirement already satisfied: numpy<1.28.0,>=1.21.6 in /usr/local/lib/python3.11/dist-packages (from scipy) (1.26.0)\n",
      "\u001b[33mWARNING: Running pip as the 'root' user can result in broken permissions and conflicting behaviour with the system package manager. It is recommended to use a virtual environment instead: https://pip.pypa.io/warnings/venv\u001b[0m\u001b[33m\n",
      "\u001b[0m\n",
      "\u001b[1m[\u001b[0m\u001b[34;49mnotice\u001b[0m\u001b[1;39;49m]\u001b[0m\u001b[39;49m A new release of pip is available: \u001b[0m\u001b[31;49m23.2.1\u001b[0m\u001b[39;49m -> \u001b[0m\u001b[32;49m23.3\u001b[0m\n",
      "\u001b[1m[\u001b[0m\u001b[34;49mnotice\u001b[0m\u001b[1;39;49m]\u001b[0m\u001b[39;49m To update, run: \u001b[0m\u001b[32;49mpython3 -m pip install --upgrade pip\u001b[0m\n",
      "/usr/local/lib/python3.11/dist-packages/setuptools/dist.py:314: InformationOnly: Normalizing 'v0.1.0-beta' to '0.1.0b0'\n",
      "  self.metadata.version = self._normalize_version(\n",
      "running install\n",
      "/usr/local/lib/python3.11/dist-packages/setuptools/_distutils/cmd.py:66: SetuptoolsDeprecationWarning: setup.py install is deprecated.\n",
      "!!\n",
      "\n",
      "        ********************************************************************************\n",
      "        Please avoid running ``setup.py`` directly.\n",
      "        Instead, use pypa/build, pypa/installer or other\n",
      "        standards-based tools.\n",
      "\n",
      "        See https://blog.ganssle.io/articles/2021/10/setup-py-deprecated.html for details.\n",
      "        ********************************************************************************\n",
      "\n",
      "!!\n",
      "  self.initialize_options()\n",
      "/usr/local/lib/python3.11/dist-packages/setuptools/_distutils/cmd.py:66: EasyInstallDeprecationWarning: easy_install command is deprecated.\n",
      "!!\n",
      "\n",
      "        ********************************************************************************\n",
      "        Please avoid running ``setup.py`` and ``easy_install``.\n",
      "        Instead, use pypa/build, pypa/installer or other\n",
      "        standards-based tools.\n",
      "\n",
      "        See https://github.com/pypa/setuptools/issues/917 for details.\n",
      "        ********************************************************************************\n",
      "\n",
      "!!\n",
      "  self.initialize_options()\n",
      "running bdist_egg\n",
      "running egg_info\n",
      "writing NeuralUQ.egg-info/PKG-INFO\n",
      "writing dependency_links to NeuralUQ.egg-info/dependency_links.txt\n",
      "writing top-level names to NeuralUQ.egg-info/top_level.txt\n",
      "reading manifest file 'NeuralUQ.egg-info/SOURCES.txt'\n",
      "writing manifest file 'NeuralUQ.egg-info/SOURCES.txt'\n",
      "installing library code to build/bdist.linux-x86_64/egg\n",
      "running install_lib\n",
      "running build_py\n",
      "creating build/bdist.linux-x86_64/egg\n",
      "creating build/bdist.linux-x86_64/egg/neuraluq\n",
      "creating build/bdist.linux-x86_64/egg/neuraluq/surrogates\n",
      "copying build/lib/neuraluq/surrogates/deeponet.py -> build/bdist.linux-x86_64/egg/neuraluq/surrogates\n",
      "copying build/lib/neuraluq/surrogates/surrogate.py -> build/bdist.linux-x86_64/egg/neuraluq/surrogates\n",
      "copying build/lib/neuraluq/surrogates/__init__.py -> build/bdist.linux-x86_64/egg/neuraluq/surrogates\n",
      "copying build/lib/neuraluq/surrogates/generator.py -> build/bdist.linux-x86_64/egg/neuraluq/surrogates\n",
      "copying build/lib/neuraluq/surrogates/fnn.py -> build/bdist.linux-x86_64/egg/neuraluq/surrogates\n",
      "creating build/bdist.linux-x86_64/egg/neuraluq/inferences\n",
      "copying build/lib/neuraluq/inferences/vi.py -> build/bdist.linux-x86_64/egg/neuraluq/inferences\n",
      "copying build/lib/neuraluq/inferences/inference.py -> build/bdist.linux-x86_64/egg/neuraluq/inferences\n",
      "copying build/lib/neuraluq/inferences/__init__.py -> build/bdist.linux-x86_64/egg/neuraluq/inferences\n",
      "copying build/lib/neuraluq/inferences/ensemble.py -> build/bdist.linux-x86_64/egg/neuraluq/inferences\n",
      "copying build/lib/neuraluq/inferences/mcmc.py -> build/bdist.linux-x86_64/egg/neuraluq/inferences\n",
      "copying build/lib/neuraluq/config.py -> build/bdist.linux-x86_64/egg/neuraluq\n",
      "copying build/lib/neuraluq/metrics.py -> build/bdist.linux-x86_64/egg/neuraluq\n",
      "copying build/lib/neuraluq/__init__.py -> build/bdist.linux-x86_64/egg/neuraluq\n",
      "copying build/lib/neuraluq/likelihoods.py -> build/bdist.linux-x86_64/egg/neuraluq\n",
      "copying build/lib/neuraluq/models.py -> build/bdist.linux-x86_64/egg/neuraluq\n",
      "creating build/bdist.linux-x86_64/egg/neuraluq/variables\n",
      "copying build/lib/neuraluq/variables/const.py -> build/bdist.linux-x86_64/egg/neuraluq/variables\n",
      "copying build/lib/neuraluq/variables/pconst.py -> build/bdist.linux-x86_64/egg/neuraluq/variables\n",
      "copying build/lib/neuraluq/variables/pfnn.py -> build/bdist.linux-x86_64/egg/neuraluq/variables\n",
      "copying build/lib/neuraluq/variables/__init__.py -> build/bdist.linux-x86_64/egg/neuraluq/variables\n",
      "copying build/lib/neuraluq/variables/variables.py -> build/bdist.linux-x86_64/egg/neuraluq/variables\n",
      "copying build/lib/neuraluq/variables/fnn.py -> build/bdist.linux-x86_64/egg/neuraluq/variables\n",
      "copying build/lib/neuraluq/process.py -> build/bdist.linux-x86_64/egg/neuraluq\n",
      "copying build/lib/neuraluq/calibrations.py -> build/bdist.linux-x86_64/egg/neuraluq\n",
      "copying build/lib/neuraluq/utils.py -> build/bdist.linux-x86_64/egg/neuraluq\n",
      "byte-compiling build/bdist.linux-x86_64/egg/neuraluq/surrogates/deeponet.py to deeponet.cpython-311.pyc\n",
      "byte-compiling build/bdist.linux-x86_64/egg/neuraluq/surrogates/surrogate.py to surrogate.cpython-311.pyc\n",
      "byte-compiling build/bdist.linux-x86_64/egg/neuraluq/surrogates/__init__.py to __init__.cpython-311.pyc\n",
      "byte-compiling build/bdist.linux-x86_64/egg/neuraluq/surrogates/generator.py to generator.cpython-311.pyc\n",
      "byte-compiling build/bdist.linux-x86_64/egg/neuraluq/surrogates/fnn.py to fnn.cpython-311.pyc\n",
      "byte-compiling build/bdist.linux-x86_64/egg/neuraluq/inferences/vi.py to vi.cpython-311.pyc\n",
      "byte-compiling build/bdist.linux-x86_64/egg/neuraluq/inferences/inference.py to inference.cpython-311.pyc\n",
      "byte-compiling build/bdist.linux-x86_64/egg/neuraluq/inferences/__init__.py to __init__.cpython-311.pyc\n",
      "byte-compiling build/bdist.linux-x86_64/egg/neuraluq/inferences/ensemble.py to ensemble.cpython-311.pyc\n",
      "byte-compiling build/bdist.linux-x86_64/egg/neuraluq/inferences/mcmc.py to mcmc.cpython-311.pyc\n",
      "byte-compiling build/bdist.linux-x86_64/egg/neuraluq/config.py to config.cpython-311.pyc\n",
      "byte-compiling build/bdist.linux-x86_64/egg/neuraluq/metrics.py to metrics.cpython-311.pyc\n",
      "byte-compiling build/bdist.linux-x86_64/egg/neuraluq/__init__.py to __init__.cpython-311.pyc\n",
      "byte-compiling build/bdist.linux-x86_64/egg/neuraluq/likelihoods.py to likelihoods.cpython-311.pyc\n",
      "byte-compiling build/bdist.linux-x86_64/egg/neuraluq/models.py to models.cpython-311.pyc\n",
      "byte-compiling build/bdist.linux-x86_64/egg/neuraluq/variables/const.py to const.cpython-311.pyc\n",
      "byte-compiling build/bdist.linux-x86_64/egg/neuraluq/variables/pconst.py to pconst.cpython-311.pyc\n",
      "byte-compiling build/bdist.linux-x86_64/egg/neuraluq/variables/pfnn.py to pfnn.cpython-311.pyc\n",
      "byte-compiling build/bdist.linux-x86_64/egg/neuraluq/variables/__init__.py to __init__.cpython-311.pyc\n",
      "byte-compiling build/bdist.linux-x86_64/egg/neuraluq/variables/variables.py to variables.cpython-311.pyc\n",
      "byte-compiling build/bdist.linux-x86_64/egg/neuraluq/variables/fnn.py to fnn.cpython-311.pyc\n",
      "byte-compiling build/bdist.linux-x86_64/egg/neuraluq/process.py to process.cpython-311.pyc\n",
      "byte-compiling build/bdist.linux-x86_64/egg/neuraluq/calibrations.py to calibrations.cpython-311.pyc\n",
      "byte-compiling build/bdist.linux-x86_64/egg/neuraluq/utils.py to utils.cpython-311.pyc\n",
      "creating build/bdist.linux-x86_64/egg/EGG-INFO\n",
      "copying NeuralUQ.egg-info/PKG-INFO -> build/bdist.linux-x86_64/egg/EGG-INFO\n",
      "copying NeuralUQ.egg-info/SOURCES.txt -> build/bdist.linux-x86_64/egg/EGG-INFO\n",
      "copying NeuralUQ.egg-info/dependency_links.txt -> build/bdist.linux-x86_64/egg/EGG-INFO\n",
      "copying NeuralUQ.egg-info/top_level.txt -> build/bdist.linux-x86_64/egg/EGG-INFO\n",
      "zip_safe flag not set; analyzing archive contents...\n",
      "creating 'dist/NeuralUQ-0.1.0b0-py3.11.egg' and adding 'build/bdist.linux-x86_64/egg' to it\n",
      "removing 'build/bdist.linux-x86_64/egg' (and everything under it)\n",
      "Processing NeuralUQ-0.1.0b0-py3.11.egg\n",
      "Removing /usr/local/lib/python3.11/dist-packages/NeuralUQ-0.1.0b0-py3.11.egg\n",
      "Copying NeuralUQ-0.1.0b0-py3.11.egg to /usr/local/lib/python3.11/dist-packages\n",
      "Adding NeuralUQ 0.1.0b0 to easy-install.pth file\n",
      "\n",
      "Installed /usr/local/lib/python3.11/dist-packages/NeuralUQ-0.1.0b0-py3.11.egg\n",
      "Processing dependencies for NeuralUQ==0.1.0b0\n",
      "Finished processing dependencies for NeuralUQ==0.1.0b0\n"
     ]
    }
   ],
   "source": [
    "!git clone https://github.com/Crunch-UQ4MI/neuraluq.git\n",
    "#!git clone https://github.com/Annaantonin/Data.git\n",
    "!pip install tensorflow-probability\n",
    "!pip install scipy\n",
    "import os\n",
    "os.chdir(\"/tf/neuraluq/\")\n",
    "!python setup.py install"
   ]
  },
  {
   "cell_type": "code",
   "execution_count": 8,
   "id": "e21a150d-287e-4f67-bd61-a0e9fbfc111d",
   "metadata": {},
   "outputs": [
    {
     "data": {
      "text/plain": [
       "['dataset',\n",
       " 'README.md',\n",
       " 'dist',\n",
       " 'build',\n",
       " 'output.mat',\n",
       " 'examples',\n",
       " 'NeuralUQ.egg-info',\n",
       " 'output_ukF.mat',\n",
       " '.git',\n",
       " 'setup.py',\n",
       " 'Data',\n",
       " 'neuraluq']"
      ]
     },
     "execution_count": 8,
     "metadata": {},
     "output_type": "execute_result"
    }
   ],
   "source": [
    "os.listdir(\".\")"
   ]
  },
  {
   "cell_type": "code",
   "execution_count": 9,
   "id": "063426be-c1d2-496c-b315-9e8ad05eb58e",
   "metadata": {},
   "outputs": [],
   "source": []
  },
  {
   "cell_type": "code",
   "execution_count": 24,
   "id": "4808f03e-0c15-4ccb-beff-bff94a5e64be",
   "metadata": {},
   "outputs": [
    {
     "name": "stderr",
     "output_type": "stream",
     "text": [
      "2023-10-20 16:00:08.570616: I tensorflow/compiler/xla/stream_executor/cuda/cuda_gpu_executor.cc:880] could not open file to read NUMA node: /sys/bus/pci/devices/0000:01:00.0/numa_node\n",
      "Your kernel may have been built without NUMA support.\n",
      "2023-10-20 16:00:08.570679: I tensorflow/compiler/xla/stream_executor/cuda/cuda_gpu_executor.cc:880] could not open file to read NUMA node: /sys/bus/pci/devices/0000:01:00.0/numa_node\n",
      "Your kernel may have been built without NUMA support.\n",
      "2023-10-20 16:00:08.570689: I tensorflow/compiler/xla/stream_executor/cuda/cuda_gpu_executor.cc:880] could not open file to read NUMA node: /sys/bus/pci/devices/0000:01:00.0/numa_node\n",
      "Your kernel may have been built without NUMA support.\n",
      "2023-10-20 16:00:08.570949: I tensorflow/compiler/xla/stream_executor/cuda/cuda_gpu_executor.cc:880] could not open file to read NUMA node: /sys/bus/pci/devices/0000:01:00.0/numa_node\n",
      "Your kernel may have been built without NUMA support.\n",
      "2023-10-20 16:00:08.570966: I tensorflow/core/common_runtime/gpu/gpu_device.cc:1977] Could not identify NUMA node of platform GPU id 0, defaulting to 0.  Your kernel may not have been built with NUMA support.\n",
      "2023-10-20 16:00:08.570979: I tensorflow/compiler/xla/stream_executor/cuda/cuda_gpu_executor.cc:880] could not open file to read NUMA node: /sys/bus/pci/devices/0000:01:00.0/numa_node\n",
      "Your kernel may have been built without NUMA support.\n",
      "2023-10-20 16:00:08.570988: I tensorflow/core/common_runtime/gpu/gpu_device.cc:1886] Created device /job:localhost/replica:0/task:0/device:GPU:0 with 5348 MB memory:  -> device: 0, name: NVIDIA GeForce RTX 4070 Laptop GPU, pci bus id: 0000:01:00.0, compute capability: 8.9\n"
     ]
    },
    {
     "name": "stdout",
     "output_type": "stream",
     "text": [
      "Supporting backend tensorflow.compat.v1\n",
      "\n",
      "Compiling a Ensemble method\n",
      "\n",
      "Generating 0th sample by deep ensemble...\n"
     ]
    },
    {
     "name": "stderr",
     "output_type": "stream",
     "text": [
      "2023-10-20 16:00:08.820109: W tensorflow/c/c_api.cc:305] Operation '{name:'Variable_59/Assign' id:3770 op device:{requested: '', assigned: ''} def:{{{node Variable_59/Assign}} = AssignVariableOp[_has_manual_control_dependencies=true, dtype=DT_FLOAT, validate_shape=false](Variable_59, Const_53)}}' was changed by setting attribute after it was run by a session. This mutation will have no effect, and will trigger an error in the future. Either don't modify nodes after running them or create a new session.\n"
     ]
    },
    {
     "name": "stdout",
     "output_type": "stream",
     "text": [
      "Iteration:  0 , loss:  1867.6226\n",
      "Iteration:  1000 , loss:  1423.1913\n",
      "Iteration:  2000 , loss:  1272.7238\n",
      "Iteration:  3000 , loss:  1237.0645\n",
      "Iteration:  4000 , loss:  1205.2139\n",
      "Iteration:  5000 , loss:  1183.9988\n",
      "Iteration:  6000 , loss:  1172.1904\n",
      "Iteration:  7000 , loss:  1171.1351\n",
      "Iteration:  8000 , loss:  1171.4043\n",
      "Iteration:  9000 , loss:  1171.1655\n",
      "Iteration:  10000 , loss:  1171.0481\n",
      "Iteration:  11000 , loss:  1169.2534\n",
      "Iteration:  12000 , loss:  1105.05\n",
      "Iteration:  13000 , loss:  1098.6855\n",
      "Iteration:  14000 , loss:  1095.731\n",
      "Iteration:  15000 , loss:  1094.5416\n",
      "Iteration:  16000 , loss:  1094.8553\n",
      "Iteration:  17000 , loss:  1020.78735\n",
      "Iteration:  18000 , loss:  993.97\n",
      "Iteration:  19000 , loss:  992.6548\n",
      "Generating 1th sample by deep ensemble...\n",
      "Iteration:  0 , loss:  1867.3105\n"
     ]
    },
    {
     "name": "stderr",
     "output_type": "stream",
     "text": [
      "2023-10-20 16:00:43.352925: W tensorflow/c/c_api.cc:305] Operation '{name:'beta2_power_4/Assign' id:4441 op device:{requested: '', assigned: ''} def:{{{node beta2_power_4/Assign}} = AssignVariableOp[_has_manual_control_dependencies=true, dtype=DT_FLOAT, validate_shape=false](beta2_power_4, beta2_power_4/Initializer/initial_value)}}' was changed by setting attribute after it was run by a session. This mutation will have no effect, and will trigger an error in the future. Either don't modify nodes after running them or create a new session.\n"
     ]
    },
    {
     "name": "stdout",
     "output_type": "stream",
     "text": [
      "Iteration:  1000 , loss:  1421.8962\n",
      "Iteration:  2000 , loss:  1186.3832\n",
      "Iteration:  3000 , loss:  1128.274\n",
      "Iteration:  4000 , loss:  1124.741\n",
      "Iteration:  5000 , loss:  1123.1472\n",
      "Iteration:  6000 , loss:  1121.1813\n",
      "Iteration:  7000 , loss:  1093.854\n",
      "Iteration:  8000 , loss:  1070.3298\n",
      "Iteration:  9000 , loss:  1056.5553\n",
      "Iteration:  10000 , loss:  1031.8206\n",
      "Iteration:  11000 , loss:  1017.4325\n",
      "Iteration:  12000 , loss:  1015.9247\n",
      "Iteration:  13000 , loss:  1014.4323\n",
      "Iteration:  14000 , loss:  1012.5723\n",
      "Iteration:  15000 , loss:  1011.39026\n",
      "Iteration:  16000 , loss:  1010.0231\n",
      "Iteration:  17000 , loss:  1009.3315\n",
      "Iteration:  18000 , loss:  1011.9484\n",
      "Iteration:  19000 , loss:  1008.3925\n",
      "Generating 2th sample by deep ensemble...\n",
      "Iteration:  0 , loss:  1867.4772\n"
     ]
    },
    {
     "name": "stderr",
     "output_type": "stream",
     "text": [
      "2023-10-20 16:01:17.897483: W tensorflow/c/c_api.cc:305] Operation '{name:'beta2_power_4/Assign' id:4441 op device:{requested: '', assigned: ''} def:{{{node beta2_power_4/Assign}} = AssignVariableOp[_has_manual_control_dependencies=true, dtype=DT_FLOAT, validate_shape=false](beta2_power_4, beta2_power_4/Initializer/initial_value)}}' was changed by setting attribute after it was run by a session. This mutation will have no effect, and will trigger an error in the future. Either don't modify nodes after running them or create a new session.\n"
     ]
    },
    {
     "name": "stdout",
     "output_type": "stream",
     "text": [
      "Iteration:  1000 , loss:  1410.1785\n",
      "Iteration:  2000 , loss:  1276.1838\n",
      "Iteration:  3000 , loss:  1263.9851\n",
      "Iteration:  4000 , loss:  1254.7869\n",
      "Iteration:  5000 , loss:  1243.4194\n",
      "Iteration:  6000 , loss:  1243.2483\n",
      "Iteration:  7000 , loss:  1242.2705\n",
      "Iteration:  8000 , loss:  1241.0485\n",
      "Iteration:  9000 , loss:  1218.7036\n",
      "Iteration:  10000 , loss:  1204.6028\n",
      "Iteration:  11000 , loss:  1192.4143\n",
      "Iteration:  12000 , loss:  1173.0015\n",
      "Iteration:  13000 , loss:  1171.5388\n",
      "Iteration:  14000 , loss:  1171.2258\n",
      "Iteration:  15000 , loss:  1171.0038\n",
      "Iteration:  16000 , loss:  1170.9934\n",
      "Iteration:  17000 , loss:  1170.7516\n",
      "Iteration:  18000 , loss:  1170.9971\n",
      "Iteration:  19000 , loss:  1170.587\n",
      "Generating 3th sample by deep ensemble...\n",
      "Iteration:  0 , loss:  1867.5729\n"
     ]
    },
    {
     "name": "stderr",
     "output_type": "stream",
     "text": [
      "2023-10-20 16:01:51.816565: W tensorflow/c/c_api.cc:305] Operation '{name:'beta2_power_4/Assign' id:4441 op device:{requested: '', assigned: ''} def:{{{node beta2_power_4/Assign}} = AssignVariableOp[_has_manual_control_dependencies=true, dtype=DT_FLOAT, validate_shape=false](beta2_power_4, beta2_power_4/Initializer/initial_value)}}' was changed by setting attribute after it was run by a session. This mutation will have no effect, and will trigger an error in the future. Either don't modify nodes after running them or create a new session.\n"
     ]
    },
    {
     "name": "stdout",
     "output_type": "stream",
     "text": [
      "Iteration:  1000 , loss:  1392.2898\n",
      "Iteration:  2000 , loss:  1247.7179\n",
      "Iteration:  3000 , loss:  1118.3224\n",
      "Iteration:  4000 , loss:  1092.449\n",
      "Iteration:  5000 , loss:  1082.9885\n",
      "Iteration:  6000 , loss:  1076.4976\n",
      "Iteration:  7000 , loss:  1073.8469\n",
      "Iteration:  8000 , loss:  1069.7168\n",
      "Iteration:  9000 , loss:  1063.8959\n",
      "Iteration:  10000 , loss:  1053.3416\n",
      "Iteration:  11000 , loss:  1038.3448\n",
      "Iteration:  12000 , loss:  1026.2003\n",
      "Iteration:  13000 , loss:  1013.9437\n",
      "Iteration:  14000 , loss:  1000.2861\n",
      "Iteration:  15000 , loss:  995.6417\n",
      "Iteration:  16000 , loss:  982.84827\n",
      "Iteration:  17000 , loss:  975.12854\n",
      "Iteration:  18000 , loss:  974.10693\n",
      "Iteration:  19000 , loss:  973.2754\n",
      "Generating 4th sample by deep ensemble...\n",
      "Iteration:  0 , loss:  1869.5514\n"
     ]
    },
    {
     "name": "stderr",
     "output_type": "stream",
     "text": [
      "2023-10-20 16:02:26.416077: W tensorflow/c/c_api.cc:305] Operation '{name:'beta2_power_4/Assign' id:4441 op device:{requested: '', assigned: ''} def:{{{node beta2_power_4/Assign}} = AssignVariableOp[_has_manual_control_dependencies=true, dtype=DT_FLOAT, validate_shape=false](beta2_power_4, beta2_power_4/Initializer/initial_value)}}' was changed by setting attribute after it was run by a session. This mutation will have no effect, and will trigger an error in the future. Either don't modify nodes after running them or create a new session.\n"
     ]
    },
    {
     "name": "stdout",
     "output_type": "stream",
     "text": [
      "Iteration:  1000 , loss:  1422.3826\n",
      "Iteration:  2000 , loss:  1280.9084\n",
      "Iteration:  3000 , loss:  1218.3186\n",
      "Iteration:  4000 , loss:  1172.8623\n",
      "Iteration:  5000 , loss:  1169.8522\n",
      "Iteration:  6000 , loss:  1167.5875\n",
      "Iteration:  7000 , loss:  1166.1824\n",
      "Iteration:  8000 , loss:  1161.7064\n",
      "Iteration:  9000 , loss:  1154.1418\n",
      "Iteration:  10000 , loss:  1135.0986\n",
      "Iteration:  11000 , loss:  1123.139\n",
      "Iteration:  12000 , loss:  1117.2456\n",
      "Iteration:  13000 , loss:  1101.981\n",
      "Iteration:  14000 , loss:  1096.5496\n",
      "Iteration:  15000 , loss:  1092.1403\n",
      "Iteration:  16000 , loss:  1081.4769\n",
      "Iteration:  17000 , loss:  1072.5309\n",
      "Iteration:  18000 , loss:  1070.1981\n",
      "Iteration:  19000 , loss:  1064.7777\n",
      "Generating 5th sample by deep ensemble...\n",
      "Iteration:  0 , loss:  1868.1951\n"
     ]
    },
    {
     "name": "stderr",
     "output_type": "stream",
     "text": [
      "2023-10-20 16:03:06.413217: W tensorflow/c/c_api.cc:305] Operation '{name:'beta2_power_4/Assign' id:4441 op device:{requested: '', assigned: ''} def:{{{node beta2_power_4/Assign}} = AssignVariableOp[_has_manual_control_dependencies=true, dtype=DT_FLOAT, validate_shape=false](beta2_power_4, beta2_power_4/Initializer/initial_value)}}' was changed by setting attribute after it was run by a session. This mutation will have no effect, and will trigger an error in the future. Either don't modify nodes after running them or create a new session.\n"
     ]
    },
    {
     "name": "stdout",
     "output_type": "stream",
     "text": [
      "Iteration:  1000 , loss:  1444.0555\n",
      "Iteration:  2000 , loss:  1303.513\n",
      "Iteration:  3000 , loss:  1268.4918\n",
      "Iteration:  4000 , loss:  1265.6342\n",
      "Iteration:  5000 , loss:  1254.9182\n",
      "Iteration:  6000 , loss:  1241.3439\n",
      "Iteration:  7000 , loss:  1207.3489\n",
      "Iteration:  8000 , loss:  1176.2573\n",
      "Iteration:  9000 , loss:  1171.1398\n",
      "Iteration:  10000 , loss:  1170.5143\n",
      "Iteration:  11000 , loss:  1170.024\n",
      "Iteration:  12000 , loss:  1169.4727\n",
      "Iteration:  13000 , loss:  1162.6699\n",
      "Iteration:  14000 , loss:  1150.7878\n",
      "Iteration:  15000 , loss:  1149.4417\n",
      "Iteration:  16000 , loss:  1147.1277\n",
      "Iteration:  17000 , loss:  1130.9172\n",
      "Iteration:  18000 , loss:  1083.1882\n",
      "Iteration:  19000 , loss:  1078.4875\n",
      "Generating 6th sample by deep ensemble...\n",
      "Iteration:  0 , loss:  1867.394\n"
     ]
    },
    {
     "name": "stderr",
     "output_type": "stream",
     "text": [
      "2023-10-20 16:03:41.944608: W tensorflow/c/c_api.cc:305] Operation '{name:'beta2_power_4/Assign' id:4441 op device:{requested: '', assigned: ''} def:{{{node beta2_power_4/Assign}} = AssignVariableOp[_has_manual_control_dependencies=true, dtype=DT_FLOAT, validate_shape=false](beta2_power_4, beta2_power_4/Initializer/initial_value)}}' was changed by setting attribute after it was run by a session. This mutation will have no effect, and will trigger an error in the future. Either don't modify nodes after running them or create a new session.\n"
     ]
    },
    {
     "name": "stdout",
     "output_type": "stream",
     "text": [
      "Iteration:  1000 , loss:  1453.7284\n",
      "Iteration:  2000 , loss:  1200.9578\n",
      "Iteration:  3000 , loss:  1126.8799\n",
      "Iteration:  4000 , loss:  1124.2379\n",
      "Iteration:  5000 , loss:  1122.6575\n",
      "Iteration:  6000 , loss:  1124.3916\n",
      "Iteration:  7000 , loss:  1116.865\n",
      "Iteration:  8000 , loss:  1109.7805\n",
      "Iteration:  9000 , loss:  1062.8391\n",
      "Iteration:  10000 , loss:  1039.0967\n",
      "Iteration:  11000 , loss:  1033.9187\n",
      "Iteration:  12000 , loss:  988.7946\n",
      "Iteration:  13000 , loss:  986.50977\n",
      "Iteration:  14000 , loss:  984.623\n",
      "Iteration:  15000 , loss:  983.40234\n",
      "Iteration:  16000 , loss:  982.4234\n",
      "Iteration:  17000 , loss:  981.65045\n",
      "Iteration:  18000 , loss:  981.2757\n",
      "Iteration:  19000 , loss:  980.9722\n",
      "Generating 7th sample by deep ensemble...\n",
      "Iteration:  0 , loss:  1867.4438\n"
     ]
    },
    {
     "name": "stderr",
     "output_type": "stream",
     "text": [
      "2023-10-20 16:04:17.297988: W tensorflow/c/c_api.cc:305] Operation '{name:'beta2_power_4/Assign' id:4441 op device:{requested: '', assigned: ''} def:{{{node beta2_power_4/Assign}} = AssignVariableOp[_has_manual_control_dependencies=true, dtype=DT_FLOAT, validate_shape=false](beta2_power_4, beta2_power_4/Initializer/initial_value)}}' was changed by setting attribute after it was run by a session. This mutation will have no effect, and will trigger an error in the future. Either don't modify nodes after running them or create a new session.\n"
     ]
    },
    {
     "name": "stdout",
     "output_type": "stream",
     "text": [
      "Iteration:  1000 , loss:  1398.0693\n",
      "Iteration:  2000 , loss:  1261.7837\n",
      "Iteration:  3000 , loss:  1223.0831\n",
      "Iteration:  4000 , loss:  1199.9713\n",
      "Iteration:  5000 , loss:  1171.7319\n",
      "Iteration:  6000 , loss:  1152.0532\n",
      "Iteration:  7000 , loss:  1148.1699\n",
      "Iteration:  8000 , loss:  1145.6934\n",
      "Iteration:  9000 , loss:  1142.4824\n",
      "Iteration:  10000 , loss:  1138.7915\n",
      "Iteration:  11000 , loss:  1133.3595\n",
      "Iteration:  12000 , loss:  1125.3904\n",
      "Iteration:  13000 , loss:  1116.9691\n",
      "Iteration:  14000 , loss:  1106.4066\n",
      "Iteration:  15000 , loss:  1101.2583\n",
      "Iteration:  16000 , loss:  1099.2672\n",
      "Iteration:  17000 , loss:  1097.3646\n",
      "Iteration:  18000 , loss:  1096.1334\n",
      "Iteration:  19000 , loss:  1094.5607\n",
      "Generating 8th sample by deep ensemble...\n",
      "Iteration:  0 , loss:  1867.279\n"
     ]
    },
    {
     "name": "stderr",
     "output_type": "stream",
     "text": [
      "2023-10-20 16:04:53.050976: W tensorflow/c/c_api.cc:305] Operation '{name:'beta2_power_4/Assign' id:4441 op device:{requested: '', assigned: ''} def:{{{node beta2_power_4/Assign}} = AssignVariableOp[_has_manual_control_dependencies=true, dtype=DT_FLOAT, validate_shape=false](beta2_power_4, beta2_power_4/Initializer/initial_value)}}' was changed by setting attribute after it was run by a session. This mutation will have no effect, and will trigger an error in the future. Either don't modify nodes after running them or create a new session.\n"
     ]
    },
    {
     "name": "stdout",
     "output_type": "stream",
     "text": [
      "Iteration:  1000 , loss:  1349.0042\n",
      "Iteration:  2000 , loss:  1239.5482\n",
      "Iteration:  3000 , loss:  1036.7306\n",
      "Iteration:  4000 , loss:  990.14526\n",
      "Iteration:  5000 , loss:  948.14594\n",
      "Iteration:  6000 , loss:  919.4915\n",
      "Iteration:  7000 , loss:  917.30176\n",
      "Iteration:  8000 , loss:  914.35913\n",
      "Iteration:  9000 , loss:  913.5962\n",
      "Iteration:  10000 , loss:  915.7494\n",
      "Iteration:  11000 , loss:  897.68744\n",
      "Iteration:  12000 , loss:  850.5554\n",
      "Iteration:  13000 , loss:  798.4763\n",
      "Iteration:  14000 , loss:  788.70996\n",
      "Iteration:  15000 , loss:  770.0188\n",
      "Iteration:  16000 , loss:  762.65356\n",
      "Iteration:  17000 , loss:  757.94305\n",
      "Iteration:  18000 , loss:  755.1582\n",
      "Iteration:  19000 , loss:  751.4492\n",
      "Generating 9th sample by deep ensemble...\n",
      "Iteration:  0 , loss:  1867.4579\n"
     ]
    },
    {
     "name": "stderr",
     "output_type": "stream",
     "text": [
      "2023-10-20 16:05:35.710349: W tensorflow/c/c_api.cc:305] Operation '{name:'beta2_power_4/Assign' id:4441 op device:{requested: '', assigned: ''} def:{{{node beta2_power_4/Assign}} = AssignVariableOp[_has_manual_control_dependencies=true, dtype=DT_FLOAT, validate_shape=false](beta2_power_4, beta2_power_4/Initializer/initial_value)}}' was changed by setting attribute after it was run by a session. This mutation will have no effect, and will trigger an error in the future. Either don't modify nodes after running them or create a new session.\n"
     ]
    },
    {
     "name": "stdout",
     "output_type": "stream",
     "text": [
      "Iteration:  1000 , loss:  1404.4336\n",
      "Iteration:  2000 , loss:  1165.9957\n",
      "Iteration:  3000 , loss:  1147.1497\n",
      "Iteration:  4000 , loss:  1130.3179\n",
      "Iteration:  5000 , loss:  1110.7322\n",
      "Iteration:  6000 , loss:  1076.0483\n",
      "Iteration:  7000 , loss:  1072.4108\n",
      "Iteration:  8000 , loss:  1067.1996\n",
      "Iteration:  9000 , loss:  1060.1477\n",
      "Iteration:  10000 , loss:  1048.9749\n",
      "Iteration:  11000 , loss:  1034.1226\n",
      "Iteration:  12000 , loss:  1030.7494\n",
      "Iteration:  13000 , loss:  1025.4423\n",
      "Iteration:  14000 , loss:  1023.57153\n",
      "Iteration:  15000 , loss:  1022.10895\n",
      "Iteration:  16000 , loss:  1020.92114\n",
      "Iteration:  17000 , loss:  1019.69824\n",
      "Iteration:  18000 , loss:  1019.09326\n",
      "Iteration:  19000 , loss:  1018.93115\n",
      "Execution time for 'Trainable' function is: 367.304 s, 6.122 mins\n"
     ]
    }
   ],
   "source": [
    "# -*- coding: utf-8 -*-\n",
    "\"\"\"\n",
    "Created on Wed Oct  4 16:14:30 2023\n",
    "\n",
    "@author: Antonina\n",
    "\"\"\"\n",
    "\n",
    "#%%\n",
    "# Simulated SDOF with:\n",
    "#K_true=5;\n",
    "# C_true=0.2236; %system damping ratio 5%\n",
    "\n",
    "# m=5; %mass for sdof example\n",
    "\n",
    "def load_data(noise_x, noise_f):\n",
    "\n",
    "    #data = sio.loadmat(r\"G:\\My Drive\\Python_codes\\NNs\\sdof_ymeas.mat\")\n",
    "    data = sio.loadmat(\"Data/sdof_2000.mat\")\n",
    "    #  t_x_train, t_f_train = data[\"t\"], data[\"ymeas\"]\n",
    "    # data = matdata['data']\n",
    "    \n",
    "    x_tt_train, t_train = data[\"a\"], data[\"t\"]\n",
    "    x_train, f_train = data[\"u\"], data[\"force\"]\n",
    "    # train_x_tt = t_x_tt_train, x_train\n",
    "    # train_f = t_f_train, f_train\n",
    "\n",
    "    return  x_tt_train.T, t_train.T, x_train.T, f_train.T\n",
    "\n",
    "#m=1\n",
    "# [0][..., 0:1]     \n",
    "\n",
    "def pde_fn(t, x, log_c, log_k):\n",
    "    # log_k=tf.clip(np.log(3),np.log(20)) # to make constrains for the parameters\n",
    "    x_t = tf.gradients(x, t)                                                                                                                                                                                                                            \n",
    "    x_tt = tf.gradients(x_t, t)\n",
    "\n",
    "    f = tf.multiply(x_tt, 5.0)+ tf.exp(log_c) * x_t + tf.exp(log_k) * x\n",
    "\n",
    "    # return [f,x_tt]\n",
    "    return f\n",
    "\n",
    "def pde_xtt(t,x):\n",
    "    x_t = tf.gradients(x, t)                                                                                                                                                                                                                        \n",
    "    x_tt = tf.gradients(x_t, t)\n",
    "    \n",
    "    return x_tt\n",
    "    \n",
    "\n",
    "@neuq.utils.timer\n",
    "def Trainable(\n",
    "    x_tt_train, t_train, x_train, f_train, noise, layers, \n",
    "):\n",
    "    # build processes\n",
    "    \n",
    "    process_x = neuq.process.Process(\n",
    "        surrogate=neuq.surrogates.FNN(layers=layers),\n",
    "        # surrogate=neuq.surrogates.FNN(layers=layers,activation=RELu),\n",
    "        posterior=neuq_vars.fnn.Trainable(layers=layers),# displacement\n",
    "    # )\n",
    "         # posterior=neuq_vars.fnn.Trainable(\n",
    "         #    layers=layers, regularizer=tf.keras.regularizers.l2(1e-5)\n",
    "        # ),\n",
    "    )\n",
    "    process_log_c = neuq.process.Process(\n",
    "        surrogate=neuq.surrogates.Identity(),\n",
    "        posterior=neuq_vars.const.Trainable(value=0),\n",
    "    )\n",
    "    process_log_k = neuq.process.Process(\n",
    "        surrogate=neuq.surrogates.Identity(),\n",
    "        posterior=neuq_vars.const.Trainable(value=0),\n",
    "    )\n",
    "    method = neuq.inferences.DEns(\n",
    "        num_samples=10, num_iterations=20000, optimizer=tf.train.AdamOptimizer(1e-3),\n",
    "    )\n",
    "\n",
    "    # build losses\n",
    "    loss_x = neuq.likelihoods.MSE(\n",
    "        inputs=t_train,\n",
    "        targets=x_tt_train, # could be the problem\n",
    "        processes=[process_x],\n",
    "        pde=pde_xtt, # dotdot _X\n",
    "        multiplier=1.0,\n",
    "    )\n",
    "    \n",
    "    loss_f = neuq.likelihoods.MSE(\n",
    "        inputs=t_train,\n",
    "        targets=f_train, \n",
    "        processes=[process_x, process_log_c, process_log_k], # tf train\n",
    "        pde=pde_fn,\n",
    "        multiplier=1.0,\n",
    "    )\n",
    "    # build model\n",
    "    model = neuq.models.Model(\n",
    "        processes=[process_x, process_log_c, process_log_k],\n",
    "        likelihoods=[loss_x, loss_f],\n",
    "    )\n",
    "    # assign and compile method\n",
    "    model.compile(method)\n",
    "    # obtain posterior samples\n",
    "    samples = model.run()\n",
    "    # samples,results = model.run()\n",
    "    # print(\"Acceptance rate: %.3f \\n\" % (np.mean(results)))\n",
    "    \n",
    "    processes = [process_x, process_log_c, process_log_k]\n",
    "    return processes, samples, model\n",
    "\n",
    "\n",
    "if __name__ == \"__main__\":\n",
    "\n",
    "    noise = 0\n",
    "\n",
    "    x_tt_train, t_train, x_train, f_train = load_data(noise, noise)\n",
    "\n",
    "    # t_x_tt_train, x_tt_train = train_x_tt\n",
    "    # t_f_train, f_train = train_f\n",
    "\n",
    "    layers = [1,128,128 ,1]\n",
    "\n",
    "    processes, samples, model = Trainable(\n",
    "        x_tt_train, t_train, x_train, f_train, noise, layers,\n",
    "    )\n",
    "\n",
    "    x_pred, logc_pred, logk_pred = model.predict(t_train, samples, processes, pde_fn=None)\n"
   ]
  },
  {
   "cell_type": "code",
   "execution_count": null,
   "id": "dffe425c-51e2-4b35-9a19-35bd6df57b42",
   "metadata": {},
   "outputs": [],
   "source": [
    "# [a.shape for a in samples]"
   ]
  },
  {
   "cell_type": "code",
   "execution_count": null,
   "id": "73f60af6-22e4-4626-abb4-a038e1b6b7d9",
   "metadata": {},
   "outputs": [],
   "source": [
    "# x_pred, logc_pred, logk_pred = model.predict(t_train, samples, processes, pde_fn=None)\n",
    "# x_pred, logc_pred, logk_pred = model.predict(t_train, samples, processes, pde_fn=pde_fn)"
   ]
  },
  {
   "cell_type": "code",
   "execution_count": 25,
   "id": "5ed87f00-b366-42cd-bf10-195553192995",
   "metadata": {},
   "outputs": [
    {
     "data": {
      "image/png": "[encoded data removed]",
      "text/plain": [
       "<Figure size 640x480 with 1 Axes>"
      ]
     },
     "metadata": {},
     "output_type": "display_data"
    },
    {
     "data": {
      "image/png": "[encoded data removed]",
      "text/plain": [
       "<Figure size 640x480 with 1 Axes>"
      ]
     },
     "metadata": {},
     "output_type": "display_data"
    }
   ],
   "source": [
    "neuq.utils.hist(np.exp(logk_pred).flatten(), name=\"value of $k$\")\n",
    "neuq.utils.hist(np.exp(logc_pred).flatten(), name=\"value of $c$\")"
   ]
  },
  {
   "cell_type": "code",
   "execution_count": 26,
   "id": "f120771f-9a44-4a42-9ac5-f6e3b75c22d8",
   "metadata": {},
   "outputs": [
    {
     "name": "stdout",
     "output_type": "stream",
     "text": [
      "C_true=0.22(Ns/m) and C_post = 0.8978342\n",
      "K_true=10(N/m) and K_post = 34.450584\n"
     ]
    }
   ],
   "source": [
    "Csamp=samples[6]    \n",
    "Ksamp=samples[7]\n",
    "C_post=np.exp(np.mean(Csamp))\n",
    "print(\"C_true=0.22(Ns/m) and C_post =\", C_post) \n",
    "K_post=np.exp(np.mean(Ksamp))\n",
    "print(\"K_true=10(N/m) and K_post =\", K_post) \n"
   ]
  },
  {
   "cell_type": "code",
   "execution_count": 27,
   "id": "732928dd-1b36-456d-9aa2-fe8e833ceea7",
   "metadata": {},
   "outputs": [
    {
     "data": {
      "text/plain": [
       "<matplotlib.legend.Legend at 0x7fb8a5632c50>"
      ]
     },
     "execution_count": 27,
     "metadata": {},
     "output_type": "execute_result"
    },
    {
     "data": {
      "image/png": "[encoded data removed]",
      "text/plain": [
       "<Figure size 640x480 with 1 Axes>"
      ]
     },
     "metadata": {},
     "output_type": "display_data"
    }
   ],
   "source": [
    "plt.plot(t_train,np.mean(x_pred,axis=(0, 2)),label='Predicted displacement')\n",
    "plt.plot(t_train,x_train,'r',label='Actual displacement')\n",
    "plt.legend()"
   ]
  },
  {
   "cell_type": "code",
   "execution_count": null,
   "id": "74fbd26a-01f7-4810-b45b-f35bd7540fb9",
   "metadata": {},
   "outputs": [],
   "source": [
    "# sio.savemat(\"G:/My Drive/Python_codes/sdof0.mat\", {\"x_pred\":x_pred, \"k\":samples[7].flatten(),\"c\":samples[6].flatten()})"
   ]
  },
  {
   "cell_type": "code",
   "execution_count": 31,
   "id": "bc3056f7-1fe0-4143-bf03-4b850017b1b1",
   "metadata": {},
   "outputs": [],
   "source": [
    "data_to_save = {\n",
    "   \"x_pred\":x_pred, \"c\":samples[6].flatten(),\"k\":samples[7].flatten()\n",
    "}\n",
    "file_name = 'output.mat'\n",
    "sio.savemat(file_name, data_to_save)"
   ]
  },
  {
   "cell_type": "code",
   "execution_count": null,
   "id": "0dd58ed1-af1b-49ef-b55a-da7ce3d68f31",
   "metadata": {},
   "outputs": [],
   "source": []
  }
 ],
 "metadata": {
  "kernelspec": {
   "display_name": "Python 3 (ipykernel)",
   "language": "python",
   "name": "python3"
  },
  "language_info": {
   "codemirror_mode": {
    "name": "ipython",
    "version": 3
   },
   "file_extension": ".py",
   "mimetype": "text/x-python",
   "name": "python",
   "nbconvert_exporter": "python",
   "pygments_lexer": "ipython3",
   "version": "3.11.0rc1"
  }
 },
 "nbformat": 4,
 "nbformat_minor": 5
}
