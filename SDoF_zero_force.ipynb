{
 "cells": [
  {
   "cell_type": "code",
   "execution_count": null,
   "id": "e322b318-2b90-46a0-9afe-8494aef96820",
   "metadata": {},
   "outputs": [],
   "source": [
    "# import tensorflow as tf"
   ]
  },
  {
   "cell_type": "code",
   "execution_count": 1,
   "id": "f61dc19c-5812-42e6-ad25-9026eeffbe1a",
   "metadata": {
    "scrolled": true
   },
   "outputs": [
    {
     "name": "stderr",
     "output_type": "stream",
     "text": [
      "2023-11-29 19:57:42.684014: I tensorflow/core/util/port.cc:111] oneDNN custom operations are on. You may see slightly different numerical results due to floating-point round-off errors from different computation orders. To turn them off, set the environment variable `TF_ENABLE_ONEDNN_OPTS=0`.\n",
      "2023-11-29 19:57:42.958658: E tensorflow/compiler/xla/stream_executor/cuda/cuda_dnn.cc:9342] Unable to register cuDNN factory: Attempting to register factory for plugin cuDNN when one has already been registered\n",
      "2023-11-29 19:57:42.958694: E tensorflow/compiler/xla/stream_executor/cuda/cuda_fft.cc:609] Unable to register cuFFT factory: Attempting to register factory for plugin cuFFT when one has already been registered\n",
      "2023-11-29 19:57:42.960332: E tensorflow/compiler/xla/stream_executor/cuda/cuda_blas.cc:1518] Unable to register cuBLAS factory: Attempting to register factory for plugin cuBLAS when one has already been registered\n",
      "2023-11-29 19:57:43.057231: I tensorflow/core/platform/cpu_feature_guard.cc:182] This TensorFlow binary is optimized to use available CPU instructions in performance-critical operations.\n",
      "To enable the following instructions: AVX2 AVX_VNNI FMA, in other operations, rebuild TensorFlow with the appropriate compiler flags.\n"
     ]
    },
    {
     "name": "stdout",
     "output_type": "stream",
     "text": [
      "[name: \"/device:CPU:0\"\n",
      "device_type: \"CPU\"\n",
      "memory_limit: 268435456\n",
      "locality {\n",
      "}\n",
      "incarnation: 11736196595604194159\n",
      "xla_global_id: -1\n",
      ", name: \"/device:GPU:0\"\n",
      "device_type: \"GPU\"\n",
      "memory_limit: 5607784448\n",
      "locality {\n",
      "  bus_id: 1\n",
      "  links {\n",
      "  }\n",
      "}\n",
      "incarnation: 4315539940285101432\n",
      "physical_device_desc: \"device: 0, name: NVIDIA GeForce RTX 4070 Laptop GPU, pci bus id: 0000:01:00.0, compute capability: 8.9\"\n",
      "xla_global_id: 416903419\n",
      "]\n"
     ]
    },
    {
     "name": "stderr",
     "output_type": "stream",
     "text": [
      "2023-11-29 19:57:53.371415: I tensorflow/compiler/xla/stream_executor/cuda/cuda_gpu_executor.cc:880] could not open file to read NUMA node: /sys/bus/pci/devices/0000:01:00.0/numa_node\n",
      "Your kernel may have been built without NUMA support.\n",
      "2023-11-29 19:57:53.401773: I tensorflow/compiler/xla/stream_executor/cuda/cuda_gpu_executor.cc:880] could not open file to read NUMA node: /sys/bus/pci/devices/0000:01:00.0/numa_node\n",
      "Your kernel may have been built without NUMA support.\n",
      "2023-11-29 19:57:53.401814: I tensorflow/compiler/xla/stream_executor/cuda/cuda_gpu_executor.cc:880] could not open file to read NUMA node: /sys/bus/pci/devices/0000:01:00.0/numa_node\n",
      "Your kernel may have been built without NUMA support.\n",
      "2023-11-29 19:58:00.424122: I tensorflow/compiler/xla/stream_executor/cuda/cuda_gpu_executor.cc:880] could not open file to read NUMA node: /sys/bus/pci/devices/0000:01:00.0/numa_node\n",
      "Your kernel may have been built without NUMA support.\n",
      "2023-11-29 19:58:00.424162: I tensorflow/compiler/xla/stream_executor/cuda/cuda_gpu_executor.cc:880] could not open file to read NUMA node: /sys/bus/pci/devices/0000:01:00.0/numa_node\n",
      "Your kernel may have been built without NUMA support.\n",
      "2023-11-29 19:58:00.424168: I tensorflow/core/common_runtime/gpu/gpu_device.cc:1977] Could not identify NUMA node of platform GPU id 0, defaulting to 0.  Your kernel may not have been built with NUMA support.\n",
      "2023-11-29 19:58:00.424194: I tensorflow/compiler/xla/stream_executor/cuda/cuda_gpu_executor.cc:880] could not open file to read NUMA node: /sys/bus/pci/devices/0000:01:00.0/numa_node\n",
      "Your kernel may have been built without NUMA support.\n",
      "2023-11-29 19:58:00.424210: I tensorflow/core/common_runtime/gpu/gpu_device.cc:1886] Created device /device:GPU:0 with 5348 MB memory:  -> device: 0, name: NVIDIA GeForce RTX 4070 Laptop GPU, pci bus id: 0000:01:00.0, compute capability: 8.9\n"
     ]
    }
   ],
   "source": [
    "from tensorflow.python.client import device_lib \n",
    "print(device_lib.list_local_devices())"
   ]
  },
  {
   "cell_type": "code",
   "execution_count": 1,
   "id": "7532903d-d511-422b-97d5-3a3f2a708c1d",
   "metadata": {},
   "outputs": [
    {
     "name": "stderr",
     "output_type": "stream",
     "text": [
      "2023-11-29 20:14:43.935296: I tensorflow/core/util/port.cc:111] oneDNN custom operations are on. You may see slightly different numerical results due to floating-point round-off errors from different computation orders. To turn them off, set the environment variable `TF_ENABLE_ONEDNN_OPTS=0`.\n",
      "2023-11-29 20:14:43.969789: E tensorflow/compiler/xla/stream_executor/cuda/cuda_dnn.cc:9342] Unable to register cuDNN factory: Attempting to register factory for plugin cuDNN when one has already been registered\n",
      "2023-11-29 20:14:43.969822: E tensorflow/compiler/xla/stream_executor/cuda/cuda_fft.cc:609] Unable to register cuFFT factory: Attempting to register factory for plugin cuFFT when one has already been registered\n",
      "2023-11-29 20:14:43.969842: E tensorflow/compiler/xla/stream_executor/cuda/cuda_blas.cc:1518] Unable to register cuBLAS factory: Attempting to register factory for plugin cuBLAS when one has already been registered\n",
      "2023-11-29 20:14:43.977365: I tensorflow/core/platform/cpu_feature_guard.cc:182] This TensorFlow binary is optimized to use available CPU instructions in performance-critical operations.\n",
      "To enable the following instructions: AVX2 AVX_VNNI FMA, in other operations, rebuild TensorFlow with the appropriate compiler flags.\n"
     ]
    }
   ],
   "source": [
    "# os.chdir(\"/mnt/\")\n",
    "import neuraluq as neuq\n",
    "import neuraluq.variables as neuq_vars\n",
    "from neuraluq.config import tf\n",
    "\n",
    "import numpy as np\n",
    "import scipy.io as sio\n",
    "from scipy.io import loadmat\n",
    "\n",
    "import matplotlib.pyplot as plt"
   ]
  },
  {
   "cell_type": "code",
   "execution_count": 5,
   "id": "be4cc8e8-f845-4714-8b58-c74458a6af25",
   "metadata": {},
   "outputs": [
    {
     "name": "stdout",
     "output_type": "stream",
     "text": [
      "Cloning into 'Data'...\n",
      "remote: Enumerating objects: 31, done.\u001b[K\n",
      "remote: Counting objects: 100% (31/31), done.\u001b[K\n",
      "remote: Compressing objects: 100% (28/28), done.\u001b[K\n",
      "remote: Total 31 (delta 8), reused 0 (delta 0), pack-reused 0\u001b[K\n",
      "Receiving objects: 100% (31/31), 607.49 KiB | 8.10 MiB/s, done.\n",
      "Resolving deltas: 100% (8/8), done.\n"
     ]
    }
   ],
   "source": [
    "!git clone https://github.com/Annaantonin/Data.git"
   ]
  },
  {
   "cell_type": "code",
   "execution_count": 4,
   "id": "93b9f1b7-e21e-4eb2-a1ca-971823b01db1",
   "metadata": {},
   "outputs": [],
   "source": [
    "rm -rf Data"
   ]
  },
  {
   "cell_type": "code",
   "execution_count": null,
   "id": "cd0a06a5",
   "metadata": {},
   "outputs": [],
   "source": [
    "!git clone https://github.com/Crunch-UQ4MI/neuraluq.git"
   ]
  },
  {
   "cell_type": "code",
   "execution_count": null,
   "id": "e4b37278-49a5-4032-a14d-0340efed0a57",
   "metadata": {},
   "outputs": [],
   "source": [
    "import Data as data\n",
    "# data = sio.loadmat(\"Data/sdof_2000.mat\")"
   ]
  },
  {
   "cell_type": "code",
   "execution_count": null,
   "id": "86f2c4ab-fc67-4785-8d75-8670ae5dd47f",
   "metadata": {},
   "outputs": [],
   "source": [
    "!git clone https://github.com/Crunch-UQ4MI/neuraluq.git\n",
    "#!git clone https://github.com/Annaantonin/Data.git\n",
    "!pip install tensorflow-probability\n",
    "!pip install scipy\n",
    "import os\n",
    "# os.chdir(\"/tf/neuraluq/\")\n",
    "!python setup.py install"
   ]
  },
  {
   "cell_type": "code",
   "execution_count": null,
   "id": "e21a150d-287e-4f67-bd61-a0e9fbfc111d",
   "metadata": {},
   "outputs": [],
   "source": [
    "os.listdir(\".\")"
   ]
  },
  {
   "cell_type": "code",
   "execution_count": null,
   "id": "063426be-c1d2-496c-b315-9e8ad05eb58e",
   "metadata": {},
   "outputs": [],
   "source": []
  },
  {
   "cell_type": "code",
   "execution_count": 7,
   "id": "4808f03e-0c15-4ccb-beff-bff94a5e64be",
   "metadata": {},
   "outputs": [
    {
     "name": "stdout",
     "output_type": "stream",
     "text": [
      "Supporting backend tensorflow.compat.v1\n",
      "\n",
      "Compiling a Ensemble method\n",
      "\n",
      "Generating 0th sample by deep ensemble...\n"
     ]
    },
    {
     "name": "stderr",
     "output_type": "stream",
     "text": [
      "2023-11-29 23:18:37.763956: W tensorflow/c/c_api.cc:305] Operation '{name:'Variable_23/Assign' id:1823 op device:{requested: '', assigned: ''} def:{{{node Variable_23/Assign}} = AssignVariableOp[_has_manual_control_dependencies=true, dtype=DT_FLOAT, validate_shape=false](Variable_23, Const_26)}}' was changed by setting attribute after it was run by a session. This mutation will have no effect, and will trigger an error in the future. Either don't modify nodes after running them or create a new session.\n"
     ]
    },
    {
     "name": "stdout",
     "output_type": "stream",
     "text": [
      "Iteration:  0 , loss:  16.345932\n",
      "Iteration:  1000 , loss:  0.31329212\n",
      "Iteration:  2000 , loss:  0.1968445\n",
      "Iteration:  3000 , loss:  0.14456227\n",
      "Iteration:  4000 , loss:  0.121050745\n",
      "Iteration:  5000 , loss:  0.107511416\n",
      "Iteration:  6000 , loss:  0.10363899\n",
      "Iteration:  7000 , loss:  0.10180811\n",
      "Iteration:  8000 , loss:  0.10153109\n",
      "Iteration:  9000 , loss:  0.099870145\n",
      "Generating 1th sample by deep ensemble...\n",
      "Iteration:  0 , loss:  16.023842\n"
     ]
    },
    {
     "name": "stderr",
     "output_type": "stream",
     "text": [
      "2023-11-29 23:20:02.378421: W tensorflow/c/c_api.cc:305] Operation '{name:'beta2_power_2/Assign' id:2493 op device:{requested: '', assigned: ''} def:{{{node beta2_power_2/Assign}} = AssignVariableOp[_has_manual_control_dependencies=true, dtype=DT_FLOAT, validate_shape=false](beta2_power_2, beta2_power_2/Initializer/initial_value)}}' was changed by setting attribute after it was run by a session. This mutation will have no effect, and will trigger an error in the future. Either don't modify nodes after running them or create a new session.\n"
     ]
    },
    {
     "name": "stdout",
     "output_type": "stream",
     "text": [
      "Iteration:  1000 , loss:  0.24440251\n",
      "Iteration:  2000 , loss:  0.1365663\n",
      "Iteration:  3000 , loss:  0.11497247\n",
      "Iteration:  4000 , loss:  0.10531742\n",
      "Iteration:  5000 , loss:  0.102590874\n",
      "Iteration:  6000 , loss:  0.10056375\n",
      "Iteration:  7000 , loss:  0.09998241\n",
      "Iteration:  8000 , loss:  0.099589795\n",
      "Iteration:  9000 , loss:  0.09929371\n",
      "Generating 2th sample by deep ensemble...\n",
      "Iteration:  0 , loss:  16.150085\n"
     ]
    },
    {
     "name": "stderr",
     "output_type": "stream",
     "text": [
      "2023-11-29 23:21:27.167029: W tensorflow/c/c_api.cc:305] Operation '{name:'beta2_power_2/Assign' id:2493 op device:{requested: '', assigned: ''} def:{{{node beta2_power_2/Assign}} = AssignVariableOp[_has_manual_control_dependencies=true, dtype=DT_FLOAT, validate_shape=false](beta2_power_2, beta2_power_2/Initializer/initial_value)}}' was changed by setting attribute after it was run by a session. This mutation will have no effect, and will trigger an error in the future. Either don't modify nodes after running them or create a new session.\n"
     ]
    },
    {
     "name": "stdout",
     "output_type": "stream",
     "text": [
      "Iteration:  1000 , loss:  0.25319883\n",
      "Iteration:  2000 , loss:  0.1823047\n",
      "Iteration:  3000 , loss:  0.13898873\n",
      "Iteration:  4000 , loss:  0.12273885\n",
      "Iteration:  5000 , loss:  0.1118757\n",
      "Iteration:  6000 , loss:  0.104489446\n",
      "Iteration:  7000 , loss:  0.10369323\n",
      "Iteration:  8000 , loss:  0.103170544\n",
      "Iteration:  9000 , loss:  0.10173601\n",
      "Generating 3th sample by deep ensemble...\n",
      "Iteration:  0 , loss:  15.979045\n"
     ]
    },
    {
     "name": "stderr",
     "output_type": "stream",
     "text": [
      "2023-11-29 23:22:51.002197: W tensorflow/c/c_api.cc:305] Operation '{name:'beta2_power_2/Assign' id:2493 op device:{requested: '', assigned: ''} def:{{{node beta2_power_2/Assign}} = AssignVariableOp[_has_manual_control_dependencies=true, dtype=DT_FLOAT, validate_shape=false](beta2_power_2, beta2_power_2/Initializer/initial_value)}}' was changed by setting attribute after it was run by a session. This mutation will have no effect, and will trigger an error in the future. Either don't modify nodes after running them or create a new session.\n"
     ]
    },
    {
     "name": "stdout",
     "output_type": "stream",
     "text": [
      "Iteration:  1000 , loss:  0.28565216\n",
      "Iteration:  2000 , loss:  0.1491699\n",
      "Iteration:  3000 , loss:  0.12406412\n",
      "Iteration:  4000 , loss:  0.109515786\n",
      "Iteration:  5000 , loss:  0.103215955\n",
      "Iteration:  6000 , loss:  0.101345345\n",
      "Iteration:  7000 , loss:  0.10263999\n",
      "Iteration:  8000 , loss:  0.09987704\n",
      "Iteration:  9000 , loss:  0.10041639\n",
      "Generating 4th sample by deep ensemble...\n",
      "Iteration:  0 , loss:  16.095009\n"
     ]
    },
    {
     "name": "stderr",
     "output_type": "stream",
     "text": [
      "2023-11-29 23:24:15.547528: W tensorflow/c/c_api.cc:305] Operation '{name:'beta2_power_2/Assign' id:2493 op device:{requested: '', assigned: ''} def:{{{node beta2_power_2/Assign}} = AssignVariableOp[_has_manual_control_dependencies=true, dtype=DT_FLOAT, validate_shape=false](beta2_power_2, beta2_power_2/Initializer/initial_value)}}' was changed by setting attribute after it was run by a session. This mutation will have no effect, and will trigger an error in the future. Either don't modify nodes after running them or create a new session.\n"
     ]
    },
    {
     "name": "stdout",
     "output_type": "stream",
     "text": [
      "Iteration:  1000 , loss:  0.2637675\n",
      "Iteration:  2000 , loss:  0.15258577\n",
      "Iteration:  3000 , loss:  0.124836266\n",
      "Iteration:  4000 , loss:  0.11338395\n",
      "Iteration:  5000 , loss:  0.115113795\n",
      "Iteration:  6000 , loss:  0.10561937\n",
      "Iteration:  7000 , loss:  0.10330039\n",
      "Iteration:  8000 , loss:  0.10540264\n",
      "Iteration:  9000 , loss:  0.1017873\n",
      "Generating 5th sample by deep ensemble...\n",
      "Iteration:  0 , loss:  15.991516\n"
     ]
    },
    {
     "name": "stderr",
     "output_type": "stream",
     "text": [
      "2023-11-29 23:25:46.214153: W tensorflow/c/c_api.cc:305] Operation '{name:'beta2_power_2/Assign' id:2493 op device:{requested: '', assigned: ''} def:{{{node beta2_power_2/Assign}} = AssignVariableOp[_has_manual_control_dependencies=true, dtype=DT_FLOAT, validate_shape=false](beta2_power_2, beta2_power_2/Initializer/initial_value)}}' was changed by setting attribute after it was run by a session. This mutation will have no effect, and will trigger an error in the future. Either don't modify nodes after running them or create a new session.\n"
     ]
    },
    {
     "name": "stdout",
     "output_type": "stream",
     "text": [
      "Iteration:  1000 , loss:  0.33507824\n",
      "Iteration:  2000 , loss:  0.17152302\n",
      "Iteration:  3000 , loss:  0.12720431\n",
      "Iteration:  4000 , loss:  0.11101323\n",
      "Iteration:  5000 , loss:  0.10545973\n",
      "Iteration:  6000 , loss:  0.10247423\n",
      "Iteration:  7000 , loss:  0.10076556\n",
      "Iteration:  8000 , loss:  0.099961326\n",
      "Iteration:  9000 , loss:  0.09946804\n",
      "Generating 6th sample by deep ensemble...\n",
      "Iteration:  0 , loss:  15.9662285\n"
     ]
    },
    {
     "name": "stderr",
     "output_type": "stream",
     "text": [
      "2023-11-29 23:27:12.803161: W tensorflow/c/c_api.cc:305] Operation '{name:'beta2_power_2/Assign' id:2493 op device:{requested: '', assigned: ''} def:{{{node beta2_power_2/Assign}} = AssignVariableOp[_has_manual_control_dependencies=true, dtype=DT_FLOAT, validate_shape=false](beta2_power_2, beta2_power_2/Initializer/initial_value)}}' was changed by setting attribute after it was run by a session. This mutation will have no effect, and will trigger an error in the future. Either don't modify nodes after running them or create a new session.\n"
     ]
    },
    {
     "name": "stdout",
     "output_type": "stream",
     "text": [
      "Iteration:  1000 , loss:  0.23946969\n",
      "Iteration:  2000 , loss:  0.1585367\n",
      "Iteration:  3000 , loss:  0.12598461\n",
      "Iteration:  4000 , loss:  0.11118303\n",
      "Iteration:  5000 , loss:  0.10435963\n",
      "Iteration:  6000 , loss:  0.10185684\n",
      "Iteration:  7000 , loss:  0.1010407\n",
      "Iteration:  8000 , loss:  0.1003266\n",
      "Iteration:  9000 , loss:  0.10113406\n",
      "Generating 7th sample by deep ensemble...\n",
      "Iteration:  0 , loss:  18.635666\n"
     ]
    },
    {
     "name": "stderr",
     "output_type": "stream",
     "text": [
      "2023-11-29 23:28:37.418818: W tensorflow/c/c_api.cc:305] Operation '{name:'beta2_power_2/Assign' id:2493 op device:{requested: '', assigned: ''} def:{{{node beta2_power_2/Assign}} = AssignVariableOp[_has_manual_control_dependencies=true, dtype=DT_FLOAT, validate_shape=false](beta2_power_2, beta2_power_2/Initializer/initial_value)}}' was changed by setting attribute after it was run by a session. This mutation will have no effect, and will trigger an error in the future. Either don't modify nodes after running them or create a new session.\n"
     ]
    },
    {
     "name": "stdout",
     "output_type": "stream",
     "text": [
      "Iteration:  1000 , loss:  0.5006211\n",
      "Iteration:  2000 , loss:  0.17543785\n",
      "Iteration:  3000 , loss:  0.14695118\n",
      "Iteration:  4000 , loss:  0.13019627\n",
      "Iteration:  5000 , loss:  0.12018143\n",
      "Iteration:  6000 , loss:  0.11112027\n",
      "Iteration:  7000 , loss:  0.10513207\n",
      "Iteration:  8000 , loss:  0.102583855\n",
      "Iteration:  9000 , loss:  0.10005984\n",
      "Generating 8th sample by deep ensemble...\n",
      "Iteration:  0 , loss:  15.961862\n"
     ]
    },
    {
     "name": "stderr",
     "output_type": "stream",
     "text": [
      "2023-11-29 23:30:02.342301: W tensorflow/c/c_api.cc:305] Operation '{name:'beta2_power_2/Assign' id:2493 op device:{requested: '', assigned: ''} def:{{{node beta2_power_2/Assign}} = AssignVariableOp[_has_manual_control_dependencies=true, dtype=DT_FLOAT, validate_shape=false](beta2_power_2, beta2_power_2/Initializer/initial_value)}}' was changed by setting attribute after it was run by a session. This mutation will have no effect, and will trigger an error in the future. Either don't modify nodes after running them or create a new session.\n"
     ]
    },
    {
     "name": "stdout",
     "output_type": "stream",
     "text": [
      "Iteration:  1000 , loss:  0.2597158\n",
      "Iteration:  2000 , loss:  0.1426242\n",
      "Iteration:  3000 , loss:  0.12134357\n",
      "Iteration:  4000 , loss:  0.111626\n",
      "Iteration:  5000 , loss:  0.10705893\n",
      "Iteration:  6000 , loss:  0.10622418\n",
      "Iteration:  7000 , loss:  0.1021065\n",
      "Iteration:  8000 , loss:  0.10125026\n",
      "Iteration:  9000 , loss:  0.1007362\n",
      "Generating 9th sample by deep ensemble...\n",
      "Iteration:  0 , loss:  15.975674\n"
     ]
    },
    {
     "name": "stderr",
     "output_type": "stream",
     "text": [
      "2023-11-29 23:31:27.128205: W tensorflow/c/c_api.cc:305] Operation '{name:'beta2_power_2/Assign' id:2493 op device:{requested: '', assigned: ''} def:{{{node beta2_power_2/Assign}} = AssignVariableOp[_has_manual_control_dependencies=true, dtype=DT_FLOAT, validate_shape=false](beta2_power_2, beta2_power_2/Initializer/initial_value)}}' was changed by setting attribute after it was run by a session. This mutation will have no effect, and will trigger an error in the future. Either don't modify nodes after running them or create a new session.\n"
     ]
    },
    {
     "name": "stdout",
     "output_type": "stream",
     "text": [
      "Iteration:  1000 , loss:  0.24838938\n",
      "Iteration:  2000 , loss:  0.1818375\n",
      "Iteration:  3000 , loss:  0.14890333\n",
      "Iteration:  4000 , loss:  0.12927194\n",
      "Iteration:  5000 , loss:  0.115513235\n",
      "Iteration:  6000 , loss:  0.109256536\n",
      "Iteration:  7000 , loss:  0.106158435\n",
      "Iteration:  8000 , loss:  0.10356526\n",
      "Iteration:  9000 , loss:  0.10164977\n",
      "Generating 10th sample by deep ensemble...\n",
      "Iteration:  0 , loss:  16.017593\n"
     ]
    },
    {
     "name": "stderr",
     "output_type": "stream",
     "text": [
      "2023-11-29 23:32:56.085670: W tensorflow/c/c_api.cc:305] Operation '{name:'beta2_power_2/Assign' id:2493 op device:{requested: '', assigned: ''} def:{{{node beta2_power_2/Assign}} = AssignVariableOp[_has_manual_control_dependencies=true, dtype=DT_FLOAT, validate_shape=false](beta2_power_2, beta2_power_2/Initializer/initial_value)}}' was changed by setting attribute after it was run by a session. This mutation will have no effect, and will trigger an error in the future. Either don't modify nodes after running them or create a new session.\n"
     ]
    },
    {
     "name": "stdout",
     "output_type": "stream",
     "text": [
      "Iteration:  1000 , loss:  0.25694498\n",
      "Iteration:  2000 , loss:  0.19167104\n",
      "Iteration:  3000 , loss:  0.1319258\n",
      "Iteration:  4000 , loss:  0.11656654\n",
      "Iteration:  5000 , loss:  0.1094681\n",
      "Iteration:  6000 , loss:  0.10571082\n",
      "Iteration:  7000 , loss:  0.10652772\n",
      "Iteration:  8000 , loss:  0.10095067\n",
      "Iteration:  9000 , loss:  0.1000498\n",
      "Generating 11th sample by deep ensemble...\n",
      "Iteration:  0 , loss:  16.06203\n"
     ]
    },
    {
     "name": "stderr",
     "output_type": "stream",
     "text": [
      "2023-11-29 23:34:19.384658: W tensorflow/c/c_api.cc:305] Operation '{name:'beta2_power_2/Assign' id:2493 op device:{requested: '', assigned: ''} def:{{{node beta2_power_2/Assign}} = AssignVariableOp[_has_manual_control_dependencies=true, dtype=DT_FLOAT, validate_shape=false](beta2_power_2, beta2_power_2/Initializer/initial_value)}}' was changed by setting attribute after it was run by a session. This mutation will have no effect, and will trigger an error in the future. Either don't modify nodes after running them or create a new session.\n"
     ]
    },
    {
     "name": "stdout",
     "output_type": "stream",
     "text": [
      "Iteration:  1000 , loss:  0.2669191\n",
      "Iteration:  2000 , loss:  0.17774285\n",
      "Iteration:  3000 , loss:  0.13644442\n",
      "Iteration:  4000 , loss:  0.12287035\n",
      "Iteration:  5000 , loss:  0.11722946\n",
      "Iteration:  6000 , loss:  0.113356024\n",
      "Iteration:  7000 , loss:  0.10985342\n",
      "Iteration:  8000 , loss:  0.10620259\n",
      "Iteration:  9000 , loss:  0.10194515\n",
      "Generating 12th sample by deep ensemble...\n",
      "Iteration:  0 , loss:  16.020739\n"
     ]
    },
    {
     "name": "stderr",
     "output_type": "stream",
     "text": [
      "2023-11-29 23:35:44.605974: W tensorflow/c/c_api.cc:305] Operation '{name:'beta2_power_2/Assign' id:2493 op device:{requested: '', assigned: ''} def:{{{node beta2_power_2/Assign}} = AssignVariableOp[_has_manual_control_dependencies=true, dtype=DT_FLOAT, validate_shape=false](beta2_power_2, beta2_power_2/Initializer/initial_value)}}' was changed by setting attribute after it was run by a session. This mutation will have no effect, and will trigger an error in the future. Either don't modify nodes after running them or create a new session.\n"
     ]
    },
    {
     "name": "stdout",
     "output_type": "stream",
     "text": [
      "Iteration:  1000 , loss:  0.23920393\n",
      "Iteration:  2000 , loss:  0.1652137\n",
      "Iteration:  3000 , loss:  0.13909775\n",
      "Iteration:  4000 , loss:  0.12285828\n",
      "Iteration:  5000 , loss:  0.111915424\n",
      "Iteration:  6000 , loss:  0.10751215\n",
      "Iteration:  7000 , loss:  0.105814174\n",
      "Iteration:  8000 , loss:  0.10811096\n",
      "Iteration:  9000 , loss:  0.10137789\n",
      "Generating 13th sample by deep ensemble...\n",
      "Iteration:  0 , loss:  17.477272\n"
     ]
    },
    {
     "name": "stderr",
     "output_type": "stream",
     "text": [
      "2023-11-29 23:37:09.999398: W tensorflow/c/c_api.cc:305] Operation '{name:'beta2_power_2/Assign' id:2493 op device:{requested: '', assigned: ''} def:{{{node beta2_power_2/Assign}} = AssignVariableOp[_has_manual_control_dependencies=true, dtype=DT_FLOAT, validate_shape=false](beta2_power_2, beta2_power_2/Initializer/initial_value)}}' was changed by setting attribute after it was run by a session. This mutation will have no effect, and will trigger an error in the future. Either don't modify nodes after running them or create a new session.\n"
     ]
    },
    {
     "name": "stdout",
     "output_type": "stream",
     "text": [
      "Iteration:  1000 , loss:  0.49013293\n",
      "Iteration:  2000 , loss:  0.21573915\n",
      "Iteration:  3000 , loss:  0.136808\n",
      "Iteration:  4000 , loss:  0.114174604\n",
      "Iteration:  5000 , loss:  0.10645842\n",
      "Iteration:  6000 , loss:  0.103018895\n",
      "Iteration:  7000 , loss:  0.101116024\n",
      "Iteration:  8000 , loss:  0.10002395\n",
      "Iteration:  9000 , loss:  0.09931757\n",
      "Generating 14th sample by deep ensemble...\n",
      "Iteration:  0 , loss:  16.00705\n"
     ]
    },
    {
     "name": "stderr",
     "output_type": "stream",
     "text": [
      "2023-11-29 23:38:35.838080: W tensorflow/c/c_api.cc:305] Operation '{name:'beta2_power_2/Assign' id:2493 op device:{requested: '', assigned: ''} def:{{{node beta2_power_2/Assign}} = AssignVariableOp[_has_manual_control_dependencies=true, dtype=DT_FLOAT, validate_shape=false](beta2_power_2, beta2_power_2/Initializer/initial_value)}}' was changed by setting attribute after it was run by a session. This mutation will have no effect, and will trigger an error in the future. Either don't modify nodes after running them or create a new session.\n"
     ]
    },
    {
     "name": "stdout",
     "output_type": "stream",
     "text": [
      "Iteration:  1000 , loss:  0.23705924\n",
      "Iteration:  2000 , loss:  0.13218623\n",
      "Iteration:  3000 , loss:  0.11309402\n",
      "Iteration:  4000 , loss:  0.10438855\n",
      "Iteration:  5000 , loss:  0.101520285\n",
      "Iteration:  6000 , loss:  0.10035598\n",
      "Iteration:  7000 , loss:  0.0996621\n",
      "Iteration:  8000 , loss:  0.09976851\n",
      "Iteration:  9000 , loss:  0.098956615\n",
      "Generating 15th sample by deep ensemble...\n",
      "Iteration:  0 , loss:  16.273804\n"
     ]
    },
    {
     "name": "stderr",
     "output_type": "stream",
     "text": [
      "2023-11-29 23:40:03.709153: W tensorflow/c/c_api.cc:305] Operation '{name:'beta2_power_2/Assign' id:2493 op device:{requested: '', assigned: ''} def:{{{node beta2_power_2/Assign}} = AssignVariableOp[_has_manual_control_dependencies=true, dtype=DT_FLOAT, validate_shape=false](beta2_power_2, beta2_power_2/Initializer/initial_value)}}' was changed by setting attribute after it was run by a session. This mutation will have no effect, and will trigger an error in the future. Either don't modify nodes after running them or create a new session.\n"
     ]
    },
    {
     "name": "stdout",
     "output_type": "stream",
     "text": [
      "Iteration:  1000 , loss:  0.24275056\n",
      "Iteration:  2000 , loss:  0.17560384\n",
      "Iteration:  3000 , loss:  0.13813007\n",
      "Iteration:  4000 , loss:  0.11852203\n",
      "Iteration:  5000 , loss:  0.10813871\n",
      "Iteration:  6000 , loss:  0.10210566\n",
      "Iteration:  7000 , loss:  0.10019693\n",
      "Iteration:  8000 , loss:  0.101465836\n",
      "Iteration:  9000 , loss:  0.09900587\n",
      "Generating 16th sample by deep ensemble...\n",
      "Iteration:  0 , loss:  15.974854\n"
     ]
    },
    {
     "name": "stderr",
     "output_type": "stream",
     "text": [
      "2023-11-29 23:41:30.424939: W tensorflow/c/c_api.cc:305] Operation '{name:'beta2_power_2/Assign' id:2493 op device:{requested: '', assigned: ''} def:{{{node beta2_power_2/Assign}} = AssignVariableOp[_has_manual_control_dependencies=true, dtype=DT_FLOAT, validate_shape=false](beta2_power_2, beta2_power_2/Initializer/initial_value)}}' was changed by setting attribute after it was run by a session. This mutation will have no effect, and will trigger an error in the future. Either don't modify nodes after running them or create a new session.\n"
     ]
    },
    {
     "name": "stdout",
     "output_type": "stream",
     "text": [
      "Iteration:  1000 , loss:  0.25047386\n",
      "Iteration:  2000 , loss:  0.13845816\n",
      "Iteration:  3000 , loss:  0.112635195\n",
      "Iteration:  4000 , loss:  0.10368859\n",
      "Iteration:  5000 , loss:  0.1015625\n",
      "Iteration:  6000 , loss:  0.10055855\n",
      "Iteration:  7000 , loss:  0.100003645\n",
      "Iteration:  8000 , loss:  0.09959661\n",
      "Iteration:  9000 , loss:  0.099330395\n",
      "Generating 17th sample by deep ensemble...\n",
      "Iteration:  0 , loss:  16.505217\n"
     ]
    },
    {
     "name": "stderr",
     "output_type": "stream",
     "text": [
      "2023-11-29 23:42:56.907541: W tensorflow/c/c_api.cc:305] Operation '{name:'beta2_power_2/Assign' id:2493 op device:{requested: '', assigned: ''} def:{{{node beta2_power_2/Assign}} = AssignVariableOp[_has_manual_control_dependencies=true, dtype=DT_FLOAT, validate_shape=false](beta2_power_2, beta2_power_2/Initializer/initial_value)}}' was changed by setting attribute after it was run by a session. This mutation will have no effect, and will trigger an error in the future. Either don't modify nodes after running them or create a new session.\n"
     ]
    },
    {
     "name": "stdout",
     "output_type": "stream",
     "text": [
      "Iteration:  1000 , loss:  0.33138937\n",
      "Iteration:  2000 , loss:  0.17777084\n",
      "Iteration:  3000 , loss:  0.1392874\n",
      "Iteration:  4000 , loss:  0.12208504\n",
      "Iteration:  5000 , loss:  0.11721375\n",
      "Iteration:  6000 , loss:  0.10385709\n",
      "Iteration:  7000 , loss:  0.100665145\n",
      "Iteration:  8000 , loss:  0.10039841\n",
      "Iteration:  9000 , loss:  0.09913377\n",
      "Generating 18th sample by deep ensemble...\n",
      "Iteration:  0 , loss:  15.958477\n"
     ]
    },
    {
     "name": "stderr",
     "output_type": "stream",
     "text": [
      "2023-11-29 23:44:22.676916: W tensorflow/c/c_api.cc:305] Operation '{name:'beta2_power_2/Assign' id:2493 op device:{requested: '', assigned: ''} def:{{{node beta2_power_2/Assign}} = AssignVariableOp[_has_manual_control_dependencies=true, dtype=DT_FLOAT, validate_shape=false](beta2_power_2, beta2_power_2/Initializer/initial_value)}}' was changed by setting attribute after it was run by a session. This mutation will have no effect, and will trigger an error in the future. Either don't modify nodes after running them or create a new session.\n"
     ]
    },
    {
     "name": "stdout",
     "output_type": "stream",
     "text": [
      "Iteration:  1000 , loss:  0.28202972\n",
      "Iteration:  2000 , loss:  0.14714815\n",
      "Iteration:  3000 , loss:  0.119274125\n",
      "Iteration:  4000 , loss:  0.10961938\n",
      "Iteration:  5000 , loss:  0.10555878\n",
      "Iteration:  6000 , loss:  0.10315087\n",
      "Iteration:  7000 , loss:  0.106284976\n",
      "Iteration:  8000 , loss:  0.101469144\n",
      "Iteration:  9000 , loss:  0.100066826\n",
      "Generating 19th sample by deep ensemble...\n",
      "Iteration:  0 , loss:  15.964509\n"
     ]
    },
    {
     "name": "stderr",
     "output_type": "stream",
     "text": [
      "2023-11-29 23:45:47.633513: W tensorflow/c/c_api.cc:305] Operation '{name:'beta2_power_2/Assign' id:2493 op device:{requested: '', assigned: ''} def:{{{node beta2_power_2/Assign}} = AssignVariableOp[_has_manual_control_dependencies=true, dtype=DT_FLOAT, validate_shape=false](beta2_power_2, beta2_power_2/Initializer/initial_value)}}' was changed by setting attribute after it was run by a session. This mutation will have no effect, and will trigger an error in the future. Either don't modify nodes after running them or create a new session.\n"
     ]
    },
    {
     "name": "stdout",
     "output_type": "stream",
     "text": [
      "Iteration:  1000 , loss:  0.25562742\n",
      "Iteration:  2000 , loss:  0.14571281\n",
      "Iteration:  3000 , loss:  0.11685239\n",
      "Iteration:  4000 , loss:  0.108049095\n",
      "Iteration:  5000 , loss:  0.10413223\n",
      "Iteration:  6000 , loss:  0.10165632\n",
      "Iteration:  7000 , loss:  0.10212577\n",
      "Iteration:  8000 , loss:  0.10016971\n",
      "Iteration:  9000 , loss:  0.09975213\n",
      "Execution time for 'Trainable' function is: 1715.922 s, 28.599 mins\n"
     ]
    },
    {
     "data": {
      "text/plain": [
       "<matplotlib.legend.Legend at 0x7fd9342dca90>"
      ]
     },
     "execution_count": 7,
     "metadata": {},
     "output_type": "execute_result"
    },
    {
     "data": {
      "image/png": "[encoded data removed]",
      "text/plain": [
       "<Figure size 640x480 with 1 Axes>"
      ]
     },
     "metadata": {},
     "output_type": "display_data"
    }
   ],
   "source": [
    "# -*- coding: utf-8 -*-\n",
    "\"\"\"\n",
    "Created on Wed Oct  4 16:14:30 2023\n",
    "\n",
    "@author: Antonina\n",
    "\"\"\"\n",
    "\n",
    "#%%\n",
    "# Simulated SDOF with:\n",
    "#K_true=10;\n",
    "# C_true=0.2236; %system damping ratio 5%\n",
    "\n",
    "# m=5; %mass for sdof example\n",
    "\n",
    "def load_data(noise):\n",
    "\n",
    "    #data = sio.loadmat(r\"G:\\My Drive\\Python_codes\\NNs\\sdof_ymeas.mat\")\n",
    "    data = sio.loadmat(\"Data/sdof_noforce.mat\")\n",
    "    #  t_x_train, t_f_train = data[\"t\"], data[\"ymeas\"]\n",
    "    # data = matdata['data']\n",
    "    x_tt_train, t_train = data[\"a\"], data[\"t\"]\n",
    "    x_train, f_train = data[\"u\"], data[\"force\"]\n",
    "    # Input_train=t, x_tt\n",
    "    # train_x_tt = t_x_tt_train, x_train\n",
    "    # train_f = t_f_train, f_train\n",
    "\n",
    "    return  x_tt_train, t_train.T, x_train, f_train.T\n",
    "\n",
    "#m=1\n",
    "# [0][..., 0:1]     \n",
    "\n",
    "def pde_fn(t, x, log_c, log_k):\n",
    "    m=5\n",
    "    # log_k=tf.clip_by_value(log_k,np.log(0),np.log(20)) # to make constrains for the parameters\n",
    "    # log_c=tf.clip_by_value(log_c,np.log(0),np.log(0.5))\n",
    "    x_t = tf.gradients(x, t)         #velocity                                                                                                                                                                                                                   \n",
    "    x_tt = tf.gradients(x_t, t)\n",
    "\n",
    "    # f = m*x_tt+c*x_t+k*x\n",
    "    f =m*x_tt+ tf.exp(log_c) * x_t + tf.exp(log_k) * x\n",
    "    # return [f,x_tt]\n",
    "    return f\n",
    "\n",
    "def pde_xtt(t,x):\n",
    "    x_t = tf.gradients(x, t)                                                                                                                                                                                                                        \n",
    "    x_tt = tf.gradients(x_t, t)\n",
    "    \n",
    "    return x_tt\n",
    "    \n",
    "@neuq.utils.timer\n",
    "def Trainable(\n",
    "   x_tt_train, t_train, x_train, f_train, noise, layers, \n",
    "):\n",
    "    # build processes\n",
    "    \n",
    "    process_x = neuq.process.Process(\n",
    "        surrogate=neuq.surrogates.FNN(layers=layers),\n",
    "        # surrogate=neuq.surrogates.FNN(layers=layers,activation=RELu),\n",
    "        posterior=neuq_vars.fnn.Trainable(layers=layers),# displacement\n",
    "    # )\n",
    "         # posterior=neuq_vars.fnn.Trainable(\n",
    "         #    layers=layers, regularizer=tf.keras.regularizers.l2(1e-5)\n",
    "        # ),\n",
    "    )\n",
    "    process_log_c = neuq.process.Process(\n",
    "        surrogate=neuq.surrogates.Identity(),\n",
    "        posterior=neuq_vars.const.Trainable(value=0),\n",
    "    )\n",
    "    process_log_k = neuq.process.Process(\n",
    "        surrogate=neuq.surrogates.Identity(),\n",
    "        posterior=neuq_vars.const.Trainable(value=0),\n",
    "    )\n",
    "    method = neuq.inferences.DEns(\n",
    "        num_samples=20, num_iterations=10000, optimizer=tf.train.AdamOptimizer(1e-3),\n",
    "    )\n",
    "\n",
    "    # build losses\n",
    "    loss_x = neuq.likelihoods.MSE(\n",
    "        inputs=t_train,\n",
    "        targets=x_tt_train, # could be the problem\n",
    "        processes=[process_x],\n",
    "        pde=pde_xtt, # dotdot _X\n",
    "        multiplier=1,\n",
    "    )\n",
    "    \n",
    "    loss_f = neuq.likelihoods.MSE(\n",
    "        inputs=t_train,\n",
    "        targets=f_train, # minimizing the loss to be close to zero\n",
    "         # targets=np.zeros_like(t_train), # minimizing the loss to be close to zero\n",
    "        processes=[process_x, process_log_c, process_log_k], # tf train\n",
    "        pde=pde_fn,\n",
    "        multiplier=1,\n",
    "    )\n",
    "    # build model\n",
    "    model = neuq.models.Model(\n",
    "        processes=[process_x, process_log_c, process_log_k],\n",
    "        likelihoods=[loss_x, loss_f],\n",
    "    )\n",
    "    # assign and compile method\n",
    "    model.compile(method)\n",
    "    # obtain posterior samples\n",
    "    samples = model.run()\n",
    "    # samples,results = model.run()\n",
    "    # print(\"Acceptance rate: %.3f \\n\" % (np.mean(results)))\n",
    "    \n",
    "    processes = [process_x, process_log_c, process_log_k]\n",
    "    return processes, samples, model\n",
    "\n",
    "\n",
    "if __name__ == \"__main__\":\n",
    "\n",
    "    noise = 0\n",
    "\n",
    "    x_tt_train, t_train, x_train, f_train = load_data(noise)\n",
    "\n",
    "    # t_x_tt_train, x_tt_train = train_x_tt\n",
    "    # t_f_train, f_train = train_f\n",
    "\n",
    "    layers = [1,50,50,1]\n",
    "\n",
    "    processes, samples, model = Trainable( x_tt_train, t_train, x_train, f_train, noise, layers,    )\n",
    "\n",
    "    x_pred, logc_pred, logk_pred = model.predict(t_train, samples, processes, pde_fn=None)\n",
    "    # (f_pred,) = model.predict(t_train, samples, processes, pde_fn=pde_fn)\n",
    "\n",
    "plt.plot(t_train,np.mean(x_pred,axis=(0, 2)),label='Predicted displacement')\n",
    "plt.plot(t_train,x_train,'r',label='Actual displacement')\n",
    "plt.legend()"
   ]
  },
  {
   "cell_type": "code",
   "execution_count": 8,
   "id": "dffe425c-51e2-4b35-9a19-35bd6df57b42",
   "metadata": {},
   "outputs": [
    {
     "data": {
      "text/plain": [
       "<matplotlib.legend.Legend at 0x7fd93412cb50>"
      ]
     },
     "execution_count": 8,
     "metadata": {},
     "output_type": "execute_result"
    },
    {
     "data": {
      "image/png": "[encoded data removed]",
      "text/plain": [
       "<Figure size 640x480 with 1 Axes>"
      ]
     },
     "metadata": {},
     "output_type": "display_data"
    }
   ],
   "source": [
    "# [a.shape for a in samples]\n",
    "plt.plot(t_train,np.mean(x_pred,axis=(0, 2)),label='Predicted displacement')\n",
    "plt.plot(t_train,x_train,'r',label='Actual displacement')\n",
    "plt.legend()"
   ]
  },
  {
   "cell_type": "code",
   "execution_count": null,
   "id": "d0420552",
   "metadata": {},
   "outputs": [],
   "source": [
    "# plt.plot(x_pred.flatten())"
   ]
  },
  {
   "cell_type": "code",
   "execution_count": null,
   "id": "b51b187c",
   "metadata": {},
   "outputs": [],
   "source": [
    "# plt.plot(f_pred.flatten())\n",
    "# plt.plot(f_train,'r')"
   ]
  },
  {
   "cell_type": "code",
   "execution_count": null,
   "id": "73f60af6-22e4-4626-abb4-a038e1b6b7d9",
   "metadata": {},
   "outputs": [],
   "source": [
    "# x_pred, logc_pred, logk_pred = model.predict(t_train, samples, processes, pde_fn=None)\n",
    "# x_pred, logc_pred, logk_pred = model.predict(t_train, samples, processes, pde_fn=pde_fn)"
   ]
  },
  {
   "cell_type": "code",
   "execution_count": 10,
   "id": "5ed87f00-b366-42cd-bf10-195553192995",
   "metadata": {},
   "outputs": [
    {
     "data": {
      "image/png": "[encoded data removed]",
      "text/plain": [
       "<Figure size 640x480 with 1 Axes>"
      ]
     },
     "metadata": {},
     "output_type": "display_data"
    },
    {
     "data": {
      "image/png": "[encoded data removed]",
      "text/plain": [
       "<Figure size 640x480 with 1 Axes>"
      ]
     },
     "metadata": {},
     "output_type": "display_data"
    }
   ],
   "source": [
    "neuq.utils.hist(np.exp(logk_pred).flatten(), name=\"value of $k$\")\n",
    "neuq.utils.hist(np.exp(logc_pred).flatten(), name=\"value of $c$\")"
   ]
  },
  {
   "cell_type": "code",
   "execution_count": 15,
   "id": "0ad9146e-8fcc-4f60-a93a-a23044749e96",
   "metadata": {},
   "outputs": [
    {
     "data": {
      "text/plain": [
       "-0.5108256237659907"
      ]
     },
     "execution_count": 15,
     "metadata": {},
     "output_type": "execute_result"
    }
   ],
   "source": [
    "np.log(0.6)"
   ]
  },
  {
   "cell_type": "code",
   "execution_count": null,
   "id": "392fc0db-8182-4f8b-8c3e-4ba565a6b404",
   "metadata": {},
   "outputs": [],
   "source": []
  }
 ],
 "metadata": {
  "kernelspec": {
   "display_name": "Python 3 (ipykernel)",
   "language": "python",
   "name": "python3"
  },
  "language_info": {
   "codemirror_mode": {
    "name": "ipython",
    "version": 3
   },
   "file_extension": ".py",
   "mimetype": "text/x-python",
   "name": "python",
   "nbconvert_exporter": "python",
   "pygments_lexer": "ipython3",
   "version": "3.11.0rc1"
  }
 },
 "nbformat": 4,
 "nbformat_minor": 5
}
