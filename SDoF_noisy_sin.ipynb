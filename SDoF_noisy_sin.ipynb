{
 "cells": [
  {
   "cell_type": "code",
   "execution_count": null,
   "id": "e322b318-2b90-46a0-9afe-8494aef96820",
   "metadata": {},
   "outputs": [],
   "source": [
    "# import tensorflow as tf"
   ]
  },
  {
   "cell_type": "code",
   "execution_count": null,
   "id": "f61dc19c-5812-42e6-ad25-9026eeffbe1a",
   "metadata": {
    "scrolled": true
   },
   "outputs": [],
   "source": [
    "from tensorflow.python.client import device_lib \n",
    "print(device_lib.list_local_devices())"
   ]
  },
  {
   "cell_type": "code",
   "execution_count": null,
   "id": "7532903d-d511-422b-97d5-3a3f2a708c1d",
   "metadata": {},
   "outputs": [],
   "source": [
    "# os.chdir(\"/mnt/\")\n",
    "import neuraluq as neuq\n",
    "import neuraluq.variables as neuq_vars\n",
    "from neuraluq.config import tf\n",
    "\n",
    "import numpy as np\n",
    "import scipy.io as sio\n",
    "from scipy.io import loadmat\n",
    "import matplotlib.pyplot as plt"
   ]
  },
  {
   "cell_type": "code",
   "execution_count": null,
   "id": "be4cc8e8-f845-4714-8b58-c74458a6af25",
   "metadata": {},
   "outputs": [],
   "source": [
    "!git clone https://github.com/Annaantonin/Data.git"
   ]
  },
  {
   "cell_type": "code",
   "execution_count": null,
   "id": "93b9f1b7-e21e-4eb2-a1ca-971823b01db1",
   "metadata": {},
   "outputs": [],
   "source": [
    "rm -rf Data"
   ]
  },
  {
   "cell_type": "code",
   "execution_count": null,
   "id": "e4b37278-49a5-4032-a14d-0340efed0a57",
   "metadata": {},
   "outputs": [],
   "source": [
    "import Data as data\n",
    "# data = sio.loadmat(\"Data/sdof_2000.mat\")"
   ]
  },
  {
   "cell_type": "code",
   "execution_count": null,
   "id": "86f2c4ab-fc67-4785-8d75-8670ae5dd47f",
   "metadata": {},
   "outputs": [],
   "source": [
    "!git clone https://github.com/Crunch-UQ4MI/neuraluq.git\n",
    "#!git clone https://github.com/Annaantonin/Data.git\n",
    "!pip install tensorflow-probability\n",
    "!pip install scipy\n",
    "import os\n",
    "os.chdir(\"/tf/neuraluq/\")\n",
    "!python setup.py install"
   ]
  },
  {
   "cell_type": "code",
   "execution_count": null,
   "id": "e21a150d-287e-4f67-bd61-a0e9fbfc111d",
   "metadata": {},
   "outputs": [],
   "source": [
    "os.listdir(\".\")"
   ]
  },
  {
   "cell_type": "code",
   "execution_count": null,
   "id": "063426be-c1d2-496c-b315-9e8ad05eb58e",
   "metadata": {},
   "outputs": [],
   "source": []
  },
  {
   "cell_type": "code",
   "execution_count": 23,
   "id": "4808f03e-0c15-4ccb-beff-bff94a5e64be",
   "metadata": {},
   "outputs": [
    {
     "name": "stderr",
     "output_type": "stream",
     "text": [
      "2023-11-30 02:04:09.877507: I tensorflow/compiler/xla/stream_executor/cuda/cuda_gpu_executor.cc:880] could not open file to read NUMA node: /sys/bus/pci/devices/0000:01:00.0/numa_node\n",
      "Your kernel may have been built without NUMA support.\n",
      "2023-11-30 02:04:09.877565: I tensorflow/compiler/xla/stream_executor/cuda/cuda_gpu_executor.cc:880] could not open file to read NUMA node: /sys/bus/pci/devices/0000:01:00.0/numa_node\n",
      "Your kernel may have been built without NUMA support.\n",
      "2023-11-30 02:04:09.877576: I tensorflow/compiler/xla/stream_executor/cuda/cuda_gpu_executor.cc:880] could not open file to read NUMA node: /sys/bus/pci/devices/0000:01:00.0/numa_node\n",
      "Your kernel may have been built without NUMA support.\n",
      "2023-11-30 02:04:09.877968: I tensorflow/compiler/xla/stream_executor/cuda/cuda_gpu_executor.cc:880] could not open file to read NUMA node: /sys/bus/pci/devices/0000:01:00.0/numa_node\n",
      "Your kernel may have been built without NUMA support.\n",
      "2023-11-30 02:04:09.877994: I tensorflow/core/common_runtime/gpu/gpu_device.cc:1977] Could not identify NUMA node of platform GPU id 0, defaulting to 0.  Your kernel may not have been built with NUMA support.\n",
      "2023-11-30 02:04:09.878009: I tensorflow/compiler/xla/stream_executor/cuda/cuda_gpu_executor.cc:880] could not open file to read NUMA node: /sys/bus/pci/devices/0000:01:00.0/numa_node\n",
      "Your kernel may have been built without NUMA support.\n",
      "2023-11-30 02:04:09.878020: I tensorflow/core/common_runtime/gpu/gpu_device.cc:1886] Created device /job:localhost/replica:0/task:0/device:GPU:0 with 5298 MB memory:  -> device: 0, name: NVIDIA GeForce RTX 4070 Laptop GPU, pci bus id: 0000:01:00.0, compute capability: 8.9\n"
     ]
    },
    {
     "name": "stdout",
     "output_type": "stream",
     "text": [
      "Supporting backend tensorflow.compat.v1\n",
      "\n",
      "Compiling a Ensemble method\n",
      "\n",
      "Generating 0th sample by deep ensemble...\n"
     ]
    },
    {
     "name": "stderr",
     "output_type": "stream",
     "text": [
      "2023-11-30 02:04:10.125246: W tensorflow/c/c_api.cc:305] Operation '{name:'Variable_39/Assign' id:3072 op device:{requested: '', assigned: ''} def:{{{node Variable_39/Assign}} = AssignVariableOp[_has_manual_control_dependencies=true, dtype=DT_FLOAT, validate_shape=false](Variable_39, Const_69)}}' was changed by setting attribute after it was run by a session. This mutation will have no effect, and will trigger an error in the future. Either don't modify nodes after running them or create a new session.\n"
     ]
    },
    {
     "name": "stdout",
     "output_type": "stream",
     "text": [
      "Iteration:  0 , loss:  6.270998\n",
      "Iteration:  1000 , loss:  4.580052\n",
      "Iteration:  2000 , loss:  1.8355701\n",
      "Iteration:  3000 , loss:  1.6461514\n",
      "Iteration:  4000 , loss:  1.3199078\n",
      "Iteration:  5000 , loss:  1.2988874\n",
      "Iteration:  6000 , loss:  1.2905703\n",
      "Iteration:  7000 , loss:  1.2803792\n",
      "Iteration:  8000 , loss:  1.2400004\n",
      "Iteration:  9000 , loss:  1.0623972\n",
      "Generating 1th sample by deep ensemble...\n",
      "Iteration:  0 , loss:  5.9946957\n"
     ]
    },
    {
     "name": "stderr",
     "output_type": "stream",
     "text": [
      "2023-11-30 02:04:35.250209: W tensorflow/c/c_api.cc:305] Operation '{name:'beta2_power_4/Assign' id:3725 op device:{requested: '', assigned: ''} def:{{{node beta2_power_4/Assign}} = AssignVariableOp[_has_manual_control_dependencies=true, dtype=DT_FLOAT, validate_shape=false](beta2_power_4, beta2_power_4/Initializer/initial_value)}}' was changed by setting attribute after it was run by a session. This mutation will have no effect, and will trigger an error in the future. Either don't modify nodes after running them or create a new session.\n"
     ]
    },
    {
     "name": "stdout",
     "output_type": "stream",
     "text": [
      "Iteration:  1000 , loss:  2.5991895\n",
      "Iteration:  2000 , loss:  1.7659687\n",
      "Iteration:  3000 , loss:  1.3032582\n",
      "Iteration:  4000 , loss:  1.287888\n",
      "Iteration:  5000 , loss:  1.1972339\n",
      "Iteration:  6000 , loss:  1.1617947\n",
      "Iteration:  7000 , loss:  1.1249766\n",
      "Iteration:  8000 , loss:  1.0499765\n",
      "Iteration:  9000 , loss:  1.0180714\n",
      "Generating 2th sample by deep ensemble...\n",
      "Iteration:  0 , loss:  6.242595\n"
     ]
    },
    {
     "name": "stderr",
     "output_type": "stream",
     "text": [
      "2023-11-30 02:04:58.272306: W tensorflow/c/c_api.cc:305] Operation '{name:'beta2_power_4/Assign' id:3725 op device:{requested: '', assigned: ''} def:{{{node beta2_power_4/Assign}} = AssignVariableOp[_has_manual_control_dependencies=true, dtype=DT_FLOAT, validate_shape=false](beta2_power_4, beta2_power_4/Initializer/initial_value)}}' was changed by setting attribute after it was run by a session. This mutation will have no effect, and will trigger an error in the future. Either don't modify nodes after running them or create a new session.\n"
     ]
    },
    {
     "name": "stdout",
     "output_type": "stream",
     "text": [
      "Iteration:  1000 , loss:  4.0794053\n",
      "Iteration:  2000 , loss:  2.1768124\n",
      "Iteration:  3000 , loss:  1.9680115\n",
      "Iteration:  4000 , loss:  1.8345659\n",
      "Iteration:  5000 , loss:  1.7263929\n",
      "Iteration:  6000 , loss:  1.2931247\n",
      "Iteration:  7000 , loss:  1.2754055\n",
      "Iteration:  8000 , loss:  1.2397943\n",
      "Iteration:  9000 , loss:  1.1882044\n",
      "Generating 3th sample by deep ensemble...\n",
      "Iteration:  0 , loss:  6.021049\n"
     ]
    },
    {
     "name": "stderr",
     "output_type": "stream",
     "text": [
      "2023-11-30 02:05:19.967645: W tensorflow/c/c_api.cc:305] Operation '{name:'beta2_power_4/Assign' id:3725 op device:{requested: '', assigned: ''} def:{{{node beta2_power_4/Assign}} = AssignVariableOp[_has_manual_control_dependencies=true, dtype=DT_FLOAT, validate_shape=false](beta2_power_4, beta2_power_4/Initializer/initial_value)}}' was changed by setting attribute after it was run by a session. This mutation will have no effect, and will trigger an error in the future. Either don't modify nodes after running them or create a new session.\n"
     ]
    },
    {
     "name": "stdout",
     "output_type": "stream",
     "text": [
      "Iteration:  1000 , loss:  2.7524803\n",
      "Iteration:  2000 , loss:  1.9021349\n",
      "Iteration:  3000 , loss:  1.6486067\n",
      "Iteration:  4000 , loss:  1.300439\n",
      "Iteration:  5000 , loss:  1.2812405\n",
      "Iteration:  6000 , loss:  1.2654996\n",
      "Iteration:  7000 , loss:  1.209634\n",
      "Iteration:  8000 , loss:  1.0423948\n",
      "Iteration:  9000 , loss:  0.9356278\n",
      "Generating 4th sample by deep ensemble...\n",
      "Iteration:  0 , loss:  6.1336\n"
     ]
    },
    {
     "name": "stderr",
     "output_type": "stream",
     "text": [
      "2023-11-30 02:05:42.750115: W tensorflow/c/c_api.cc:305] Operation '{name:'beta2_power_4/Assign' id:3725 op device:{requested: '', assigned: ''} def:{{{node beta2_power_4/Assign}} = AssignVariableOp[_has_manual_control_dependencies=true, dtype=DT_FLOAT, validate_shape=false](beta2_power_4, beta2_power_4/Initializer/initial_value)}}' was changed by setting attribute after it was run by a session. This mutation will have no effect, and will trigger an error in the future. Either don't modify nodes after running them or create a new session.\n"
     ]
    },
    {
     "name": "stdout",
     "output_type": "stream",
     "text": [
      "Iteration:  1000 , loss:  3.3109093\n",
      "Iteration:  2000 , loss:  1.8606384\n",
      "Iteration:  3000 , loss:  1.5005672\n",
      "Iteration:  4000 , loss:  1.2978257\n",
      "Iteration:  5000 , loss:  1.2717695\n",
      "Iteration:  6000 , loss:  1.2139633\n",
      "Iteration:  7000 , loss:  1.0570078\n",
      "Iteration:  8000 , loss:  1.0056779\n",
      "Iteration:  9000 , loss:  0.9243865\n",
      "Generating 5th sample by deep ensemble...\n",
      "Iteration:  0 , loss:  6.4156914\n"
     ]
    },
    {
     "name": "stderr",
     "output_type": "stream",
     "text": [
      "2023-11-30 02:06:03.661653: W tensorflow/c/c_api.cc:305] Operation '{name:'beta2_power_4/Assign' id:3725 op device:{requested: '', assigned: ''} def:{{{node beta2_power_4/Assign}} = AssignVariableOp[_has_manual_control_dependencies=true, dtype=DT_FLOAT, validate_shape=false](beta2_power_4, beta2_power_4/Initializer/initial_value)}}' was changed by setting attribute after it was run by a session. This mutation will have no effect, and will trigger an error in the future. Either don't modify nodes after running them or create a new session.\n"
     ]
    },
    {
     "name": "stdout",
     "output_type": "stream",
     "text": [
      "Iteration:  1000 , loss:  4.6447897\n",
      "Iteration:  2000 , loss:  2.2284815\n",
      "Iteration:  3000 , loss:  1.9693795\n",
      "Iteration:  4000 , loss:  1.6220803\n",
      "Iteration:  5000 , loss:  1.3820176\n",
      "Iteration:  6000 , loss:  1.3077765\n",
      "Iteration:  7000 , loss:  1.2941983\n",
      "Iteration:  8000 , loss:  1.2662076\n",
      "Iteration:  9000 , loss:  1.2147927\n",
      "Generating 6th sample by deep ensemble...\n",
      "Iteration:  0 , loss:  6.185566\n"
     ]
    },
    {
     "name": "stderr",
     "output_type": "stream",
     "text": [
      "2023-11-30 02:06:24.973238: W tensorflow/c/c_api.cc:305] Operation '{name:'beta2_power_4/Assign' id:3725 op device:{requested: '', assigned: ''} def:{{{node beta2_power_4/Assign}} = AssignVariableOp[_has_manual_control_dependencies=true, dtype=DT_FLOAT, validate_shape=false](beta2_power_4, beta2_power_4/Initializer/initial_value)}}' was changed by setting attribute after it was run by a session. This mutation will have no effect, and will trigger an error in the future. Either don't modify nodes after running them or create a new session.\n"
     ]
    },
    {
     "name": "stdout",
     "output_type": "stream",
     "text": [
      "Iteration:  1000 , loss:  4.1755257\n",
      "Iteration:  2000 , loss:  2.062794\n",
      "Iteration:  3000 , loss:  1.6661754\n",
      "Iteration:  4000 , loss:  1.3788822\n",
      "Iteration:  5000 , loss:  1.2925707\n",
      "Iteration:  6000 , loss:  1.2677417\n",
      "Iteration:  7000 , loss:  1.0779442\n",
      "Iteration:  8000 , loss:  1.1508932\n",
      "Iteration:  9000 , loss:  0.9349786\n",
      "Generating 7th sample by deep ensemble...\n",
      "Iteration:  0 , loss:  6.394021\n"
     ]
    },
    {
     "name": "stderr",
     "output_type": "stream",
     "text": [
      "2023-11-30 02:06:48.445743: W tensorflow/c/c_api.cc:305] Operation '{name:'beta2_power_4/Assign' id:3725 op device:{requested: '', assigned: ''} def:{{{node beta2_power_4/Assign}} = AssignVariableOp[_has_manual_control_dependencies=true, dtype=DT_FLOAT, validate_shape=false](beta2_power_4, beta2_power_4/Initializer/initial_value)}}' was changed by setting attribute after it was run by a session. This mutation will have no effect, and will trigger an error in the future. Either don't modify nodes after running them or create a new session.\n"
     ]
    },
    {
     "name": "stdout",
     "output_type": "stream",
     "text": [
      "Iteration:  1000 , loss:  5.012576\n",
      "Iteration:  2000 , loss:  2.1990705\n",
      "Iteration:  3000 , loss:  1.6352193\n",
      "Iteration:  4000 , loss:  1.2715453\n",
      "Iteration:  5000 , loss:  1.2356119\n",
      "Iteration:  6000 , loss:  1.0503135\n",
      "Iteration:  7000 , loss:  0.9404881\n",
      "Iteration:  8000 , loss:  0.93134964\n",
      "Iteration:  9000 , loss:  0.92936224\n",
      "Generating 8th sample by deep ensemble...\n",
      "Iteration:  0 , loss:  6.1572304\n"
     ]
    },
    {
     "name": "stderr",
     "output_type": "stream",
     "text": [
      "2023-11-30 02:07:09.860598: W tensorflow/c/c_api.cc:305] Operation '{name:'beta2_power_4/Assign' id:3725 op device:{requested: '', assigned: ''} def:{{{node beta2_power_4/Assign}} = AssignVariableOp[_has_manual_control_dependencies=true, dtype=DT_FLOAT, validate_shape=false](beta2_power_4, beta2_power_4/Initializer/initial_value)}}' was changed by setting attribute after it was run by a session. This mutation will have no effect, and will trigger an error in the future. Either don't modify nodes after running them or create a new session.\n"
     ]
    },
    {
     "name": "stdout",
     "output_type": "stream",
     "text": [
      "Iteration:  1000 , loss:  3.9071178\n",
      "Iteration:  2000 , loss:  1.9961897\n",
      "Iteration:  3000 , loss:  1.3609458\n",
      "Iteration:  4000 , loss:  1.2954041\n",
      "Iteration:  5000 , loss:  1.2826082\n",
      "Iteration:  6000 , loss:  1.2551428\n",
      "Iteration:  7000 , loss:  1.0701896\n",
      "Iteration:  8000 , loss:  1.0079027\n",
      "Iteration:  9000 , loss:  0.9362203\n",
      "Generating 9th sample by deep ensemble...\n",
      "Iteration:  0 , loss:  6.0758576\n"
     ]
    },
    {
     "name": "stderr",
     "output_type": "stream",
     "text": [
      "2023-11-30 02:07:31.087565: W tensorflow/c/c_api.cc:305] Operation '{name:'beta2_power_4/Assign' id:3725 op device:{requested: '', assigned: ''} def:{{{node beta2_power_4/Assign}} = AssignVariableOp[_has_manual_control_dependencies=true, dtype=DT_FLOAT, validate_shape=false](beta2_power_4, beta2_power_4/Initializer/initial_value)}}' was changed by setting attribute after it was run by a session. This mutation will have no effect, and will trigger an error in the future. Either don't modify nodes after running them or create a new session.\n"
     ]
    },
    {
     "name": "stdout",
     "output_type": "stream",
     "text": [
      "Iteration:  1000 , loss:  3.7590303\n",
      "Iteration:  2000 , loss:  1.8699276\n",
      "Iteration:  3000 , loss:  1.6815536\n",
      "Iteration:  4000 , loss:  1.32167\n",
      "Iteration:  5000 , loss:  1.2966472\n",
      "Iteration:  6000 , loss:  1.2683623\n",
      "Iteration:  7000 , loss:  1.1889627\n",
      "Iteration:  8000 , loss:  1.0430156\n",
      "Iteration:  9000 , loss:  1.0298012\n",
      "Generating 10th sample by deep ensemble...\n",
      "Iteration:  0 , loss:  6.0341797\n"
     ]
    },
    {
     "name": "stderr",
     "output_type": "stream",
     "text": [
      "2023-11-30 02:07:52.290014: W tensorflow/c/c_api.cc:305] Operation '{name:'beta2_power_4/Assign' id:3725 op device:{requested: '', assigned: ''} def:{{{node beta2_power_4/Assign}} = AssignVariableOp[_has_manual_control_dependencies=true, dtype=DT_FLOAT, validate_shape=false](beta2_power_4, beta2_power_4/Initializer/initial_value)}}' was changed by setting attribute after it was run by a session. This mutation will have no effect, and will trigger an error in the future. Either don't modify nodes after running them or create a new session.\n"
     ]
    },
    {
     "name": "stdout",
     "output_type": "stream",
     "text": [
      "Iteration:  1000 , loss:  3.1301157\n",
      "Iteration:  2000 , loss:  1.7787559\n",
      "Iteration:  3000 , loss:  1.2943702\n",
      "Iteration:  4000 , loss:  1.0475068\n",
      "Iteration:  5000 , loss:  1.0241964\n",
      "Iteration:  6000 , loss:  0.9946128\n",
      "Iteration:  7000 , loss:  0.95123696\n",
      "Iteration:  8000 , loss:  0.986341\n",
      "Iteration:  9000 , loss:  0.9273011\n",
      "Generating 11th sample by deep ensemble...\n",
      "Iteration:  0 , loss:  5.93027\n"
     ]
    },
    {
     "name": "stderr",
     "output_type": "stream",
     "text": [
      "2023-11-30 02:08:13.462672: W tensorflow/c/c_api.cc:305] Operation '{name:'beta2_power_4/Assign' id:3725 op device:{requested: '', assigned: ''} def:{{{node beta2_power_4/Assign}} = AssignVariableOp[_has_manual_control_dependencies=true, dtype=DT_FLOAT, validate_shape=false](beta2_power_4, beta2_power_4/Initializer/initial_value)}}' was changed by setting attribute after it was run by a session. This mutation will have no effect, and will trigger an error in the future. Either don't modify nodes after running them or create a new session.\n"
     ]
    },
    {
     "name": "stdout",
     "output_type": "stream",
     "text": [
      "Iteration:  1000 , loss:  2.3350902\n",
      "Iteration:  2000 , loss:  1.650946\n",
      "Iteration:  3000 , loss:  1.3079058\n",
      "Iteration:  4000 , loss:  1.2765889\n",
      "Iteration:  5000 , loss:  1.2265944\n",
      "Iteration:  6000 , loss:  1.193086\n",
      "Iteration:  7000 , loss:  1.0849003\n",
      "Iteration:  8000 , loss:  1.0471065\n",
      "Iteration:  9000 , loss:  1.0301216\n",
      "Generating 12th sample by deep ensemble...\n",
      "Iteration:  0 , loss:  6.034017\n"
     ]
    },
    {
     "name": "stderr",
     "output_type": "stream",
     "text": [
      "2023-11-30 02:08:35.240895: W tensorflow/c/c_api.cc:305] Operation '{name:'beta2_power_4/Assign' id:3725 op device:{requested: '', assigned: ''} def:{{{node beta2_power_4/Assign}} = AssignVariableOp[_has_manual_control_dependencies=true, dtype=DT_FLOAT, validate_shape=false](beta2_power_4, beta2_power_4/Initializer/initial_value)}}' was changed by setting attribute after it was run by a session. This mutation will have no effect, and will trigger an error in the future. Either don't modify nodes after running them or create a new session.\n"
     ]
    },
    {
     "name": "stdout",
     "output_type": "stream",
     "text": [
      "Iteration:  1000 , loss:  3.310783\n",
      "Iteration:  2000 , loss:  2.0910108\n",
      "Iteration:  3000 , loss:  1.662748\n",
      "Iteration:  4000 , loss:  1.5025539\n",
      "Iteration:  5000 , loss:  1.4380643\n",
      "Iteration:  6000 , loss:  1.380338\n",
      "Iteration:  7000 , loss:  1.292742\n",
      "Iteration:  8000 , loss:  1.1994462\n",
      "Iteration:  9000 , loss:  1.0526453\n",
      "Generating 13th sample by deep ensemble...\n",
      "Iteration:  0 , loss:  6.745399\n"
     ]
    },
    {
     "name": "stderr",
     "output_type": "stream",
     "text": [
      "2023-11-30 02:08:56.965933: W tensorflow/c/c_api.cc:305] Operation '{name:'beta2_power_4/Assign' id:3725 op device:{requested: '', assigned: ''} def:{{{node beta2_power_4/Assign}} = AssignVariableOp[_has_manual_control_dependencies=true, dtype=DT_FLOAT, validate_shape=false](beta2_power_4, beta2_power_4/Initializer/initial_value)}}' was changed by setting attribute after it was run by a session. This mutation will have no effect, and will trigger an error in the future. Either don't modify nodes after running them or create a new session.\n"
     ]
    },
    {
     "name": "stdout",
     "output_type": "stream",
     "text": [
      "Iteration:  1000 , loss:  5.206175\n",
      "Iteration:  2000 , loss:  2.0856051\n",
      "Iteration:  3000 , loss:  1.5879674\n",
      "Iteration:  4000 , loss:  1.229763\n",
      "Iteration:  5000 , loss:  1.1437278\n",
      "Iteration:  6000 , loss:  1.0434743\n",
      "Iteration:  7000 , loss:  1.0101504\n",
      "Iteration:  8000 , loss:  0.93648076\n",
      "Iteration:  9000 , loss:  0.92418283\n",
      "Generating 14th sample by deep ensemble...\n",
      "Iteration:  0 , loss:  8.321611\n"
     ]
    },
    {
     "name": "stderr",
     "output_type": "stream",
     "text": [
      "2023-11-30 02:09:18.694548: W tensorflow/c/c_api.cc:305] Operation '{name:'beta2_power_4/Assign' id:3725 op device:{requested: '', assigned: ''} def:{{{node beta2_power_4/Assign}} = AssignVariableOp[_has_manual_control_dependencies=true, dtype=DT_FLOAT, validate_shape=false](beta2_power_4, beta2_power_4/Initializer/initial_value)}}' was changed by setting attribute after it was run by a session. This mutation will have no effect, and will trigger an error in the future. Either don't modify nodes after running them or create a new session.\n"
     ]
    },
    {
     "name": "stdout",
     "output_type": "stream",
     "text": [
      "Iteration:  1000 , loss:  5.551431\n",
      "Iteration:  2000 , loss:  2.2026129\n",
      "Iteration:  3000 , loss:  1.7424645\n",
      "Iteration:  4000 , loss:  1.6345236\n",
      "Iteration:  5000 , loss:  1.5333763\n",
      "Iteration:  6000 , loss:  1.4590061\n",
      "Iteration:  7000 , loss:  1.3236891\n",
      "Iteration:  8000 , loss:  1.3016462\n",
      "Iteration:  9000 , loss:  1.2859844\n",
      "Generating 15th sample by deep ensemble...\n",
      "Iteration:  0 , loss:  6.6797366\n"
     ]
    },
    {
     "name": "stderr",
     "output_type": "stream",
     "text": [
      "2023-11-30 02:09:40.556394: W tensorflow/c/c_api.cc:305] Operation '{name:'beta2_power_4/Assign' id:3725 op device:{requested: '', assigned: ''} def:{{{node beta2_power_4/Assign}} = AssignVariableOp[_has_manual_control_dependencies=true, dtype=DT_FLOAT, validate_shape=false](beta2_power_4, beta2_power_4/Initializer/initial_value)}}' was changed by setting attribute after it was run by a session. This mutation will have no effect, and will trigger an error in the future. Either don't modify nodes after running them or create a new session.\n"
     ]
    },
    {
     "name": "stdout",
     "output_type": "stream",
     "text": [
      "Iteration:  1000 , loss:  5.2076135\n",
      "Iteration:  2000 , loss:  1.8790636\n",
      "Iteration:  3000 , loss:  1.6531826\n",
      "Iteration:  4000 , loss:  1.2828282\n",
      "Iteration:  5000 , loss:  1.2492714\n",
      "Iteration:  6000 , loss:  1.2038319\n",
      "Iteration:  7000 , loss:  1.0700976\n",
      "Iteration:  8000 , loss:  1.034786\n",
      "Iteration:  9000 , loss:  1.0118076\n",
      "Generating 16th sample by deep ensemble...\n",
      "Iteration:  0 , loss:  6.508053\n"
     ]
    },
    {
     "name": "stderr",
     "output_type": "stream",
     "text": [
      "2023-11-30 02:10:01.667183: W tensorflow/c/c_api.cc:305] Operation '{name:'beta2_power_4/Assign' id:3725 op device:{requested: '', assigned: ''} def:{{{node beta2_power_4/Assign}} = AssignVariableOp[_has_manual_control_dependencies=true, dtype=DT_FLOAT, validate_shape=false](beta2_power_4, beta2_power_4/Initializer/initial_value)}}' was changed by setting attribute after it was run by a session. This mutation will have no effect, and will trigger an error in the future. Either don't modify nodes after running them or create a new session.\n"
     ]
    },
    {
     "name": "stdout",
     "output_type": "stream",
     "text": [
      "Iteration:  1000 , loss:  4.851411\n",
      "Iteration:  2000 , loss:  2.1827357\n",
      "Iteration:  3000 , loss:  1.5836273\n",
      "Iteration:  4000 , loss:  1.3319173\n",
      "Iteration:  5000 , loss:  1.2656128\n",
      "Iteration:  6000 , loss:  1.1951828\n",
      "Iteration:  7000 , loss:  1.0555655\n",
      "Iteration:  8000 , loss:  1.0349686\n",
      "Iteration:  9000 , loss:  1.0172882\n",
      "Generating 17th sample by deep ensemble...\n",
      "Iteration:  0 , loss:  5.9491653\n"
     ]
    },
    {
     "name": "stderr",
     "output_type": "stream",
     "text": [
      "2023-11-30 02:10:25.021793: W tensorflow/c/c_api.cc:305] Operation '{name:'beta2_power_4/Assign' id:3725 op device:{requested: '', assigned: ''} def:{{{node beta2_power_4/Assign}} = AssignVariableOp[_has_manual_control_dependencies=true, dtype=DT_FLOAT, validate_shape=false](beta2_power_4, beta2_power_4/Initializer/initial_value)}}' was changed by setting attribute after it was run by a session. This mutation will have no effect, and will trigger an error in the future. Either don't modify nodes after running them or create a new session.\n"
     ]
    },
    {
     "name": "stdout",
     "output_type": "stream",
     "text": [
      "Iteration:  1000 , loss:  2.7829869\n",
      "Iteration:  2000 , loss:  2.20817\n",
      "Iteration:  3000 , loss:  2.1565278\n",
      "Iteration:  4000 , loss:  1.7495368\n",
      "Iteration:  5000 , loss:  1.5666454\n",
      "Iteration:  6000 , loss:  1.2924706\n",
      "Iteration:  7000 , loss:  1.2525005\n",
      "Iteration:  8000 , loss:  1.2373539\n",
      "Iteration:  9000 , loss:  1.171567\n",
      "Generating 18th sample by deep ensemble...\n",
      "Iteration:  0 , loss:  6.021696\n"
     ]
    },
    {
     "name": "stderr",
     "output_type": "stream",
     "text": [
      "2023-11-30 02:10:48.975674: W tensorflow/c/c_api.cc:305] Operation '{name:'beta2_power_4/Assign' id:3725 op device:{requested: '', assigned: ''} def:{{{node beta2_power_4/Assign}} = AssignVariableOp[_has_manual_control_dependencies=true, dtype=DT_FLOAT, validate_shape=false](beta2_power_4, beta2_power_4/Initializer/initial_value)}}' was changed by setting attribute after it was run by a session. This mutation will have no effect, and will trigger an error in the future. Either don't modify nodes after running them or create a new session.\n"
     ]
    },
    {
     "name": "stdout",
     "output_type": "stream",
     "text": [
      "Iteration:  1000 , loss:  2.740589\n",
      "Iteration:  2000 , loss:  1.9258223\n",
      "Iteration:  3000 , loss:  1.5005968\n",
      "Iteration:  4000 , loss:  1.2041674\n",
      "Iteration:  5000 , loss:  1.0738788\n",
      "Iteration:  6000 , loss:  1.045505\n",
      "Iteration:  7000 , loss:  1.020532\n",
      "Iteration:  8000 , loss:  0.98374975\n",
      "Iteration:  9000 , loss:  0.9440249\n",
      "Generating 19th sample by deep ensemble...\n",
      "Iteration:  0 , loss:  6.4030046\n"
     ]
    },
    {
     "name": "stderr",
     "output_type": "stream",
     "text": [
      "2023-11-30 02:11:09.655451: W tensorflow/c/c_api.cc:305] Operation '{name:'beta2_power_4/Assign' id:3725 op device:{requested: '', assigned: ''} def:{{{node beta2_power_4/Assign}} = AssignVariableOp[_has_manual_control_dependencies=true, dtype=DT_FLOAT, validate_shape=false](beta2_power_4, beta2_power_4/Initializer/initial_value)}}' was changed by setting attribute after it was run by a session. This mutation will have no effect, and will trigger an error in the future. Either don't modify nodes after running them or create a new session.\n"
     ]
    },
    {
     "name": "stdout",
     "output_type": "stream",
     "text": [
      "Iteration:  1000 , loss:  4.8659678\n",
      "Iteration:  2000 , loss:  2.2221105\n",
      "Iteration:  3000 , loss:  1.7270646\n",
      "Iteration:  4000 , loss:  1.5416058\n",
      "Iteration:  5000 , loss:  1.3058296\n",
      "Iteration:  6000 , loss:  1.2635931\n",
      "Iteration:  7000 , loss:  1.172326\n",
      "Iteration:  8000 , loss:  1.0515432\n",
      "Iteration:  9000 , loss:  1.0264723\n",
      "Execution time for 'Trainable' function is: 443.692 s, 7.395 mins\n"
     ]
    },
    {
     "data": {
      "text/plain": [
       "<matplotlib.legend.Legend at 0x7fb156dd9b50>"
      ]
     },
     "execution_count": 23,
     "metadata": {},
     "output_type": "execute_result"
    },
    {
     "data": {
      "image/png": "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",
      "text/plain": [
       "<Figure size 640x480 with 1 Axes>"
      ]
     },
     "metadata": {},
     "output_type": "display_data"
    }
   ],
   "source": [
    "# -*- coding: utf-8 -*-\n",
    "\"\"\"\n",
    "Created on Wed Oct  4 16:14:30 2023\n",
    "\n",
    "@author: Antonina\n",
    "\"\"\"\n",
    "\n",
    "#%%\n",
    "# Simulated SDOF with:\n",
    "#K_true=10;\n",
    "# C_true=0.2236; %system damping ratio 5%\n",
    "\n",
    "# m=5; %mass for sdof example\n",
    "\n",
    "def load_data(noise):\n",
    "\n",
    "    #data = sio.loadmat(r\"G:\\My Drive\\Python_codes\\NNs\\sdof_ymeas.mat\")\n",
    "    data = sio.loadmat(\"Data/sin_force_noise.mat\")\n",
    "    #  t_x_train, t_f_train = data[\"t\"], data[\"ymeas\"]\n",
    "    # data = matdata['data']\n",
    "    x_tt_train, t_train = data[\"a\"], data[\"t\"]\n",
    "    x_train, f_train = data[\"u\"], data[\"force\"]\n",
    "    # Input_train=t, x_tt\n",
    "    # train_x_tt = t_x_tt_train, x_train\n",
    "    # train_f = t_f_train, f_train\n",
    "\n",
    "    return  x_tt_train, t_train.T, x_train, f_train.T\n",
    "\n",
    "#m=1\n",
    "# [0][..., 0:1]     \n",
    "\n",
    "def pde_fn(t, x, log_c, log_k):\n",
    "    # log_k=tf.clip_by_value(log_k,np.log(0),np.log(20)) # to make constraints for the parameters\n",
    "    # log_c=tf.clip_by_value(log_c,np.log(0),np.log(0.5))\n",
    "    x_t = tf.gradients(x, t)  [0]       #velocity                                                                                                                                                                                                                   \n",
    "    x_tt = tf.gradients(x_t, t) [0]\n",
    "    m=5 \n",
    "    f = tf.multiply(x_tt, m)+ tf.exp(log_c) * x_t + tf.exp(log_k) * x\n",
    "    # f - tf.multiply(x_tt, 5.0)+ tf.exp(log_c) * x_t + tf.exp(log_k) * x\n",
    "    # return [f,x_tt]\n",
    "    return f\n",
    "\n",
    "def pde_xtt(t,x):\n",
    "    x_t = tf.gradients(x, t)    [0]                                                                                                                                                                                                            \n",
    "    x_tt = tf.gradients(x_t, t) [0]\n",
    "    \n",
    "    return x_tt\n",
    "    \n",
    "@neuq.utils.timer\n",
    "def Trainable(\n",
    "   x_tt_train, t_train, x_train, f_train, noise, layers, \n",
    "):\n",
    "    # build processes\n",
    "    \n",
    "    process_x = neuq.process.Process(\n",
    "        surrogate=neuq.surrogates.FNN(layers=layers),\n",
    "        # surrogate=neuq.surrogates.FNN(layers=layers,activation=RELu),\n",
    "        posterior=neuq_vars.fnn.Trainable(layers=layers),# displacement\n",
    "    # )\n",
    "         # posterior=neuq_vars.fnn.Trainable(\n",
    "         #    layers=layers, regularizer=tf.keras.regularizers.l2(1e-5)\n",
    "        # ),\n",
    "    )\n",
    "    process_log_c = neuq.process.Process(\n",
    "        surrogate=neuq.surrogates.Identity(),\n",
    "        posterior=neuq_vars.const.Trainable(value=0),\n",
    "    )\n",
    "    process_log_k = neuq.process.Process(\n",
    "        surrogate=neuq.surrogates.Identity(),\n",
    "        posterior=neuq_vars.const.Trainable(value=0),\n",
    "    )\n",
    "    method = neuq.inferences.DEns(\n",
    "        num_samples=20, num_iterations=10000, optimizer=tf.train.AdamOptimizer(1e-3),\n",
    "    )\n",
    "\n",
    "    # build losses\n",
    "    loss_x = neuq.likelihoods.MSE(\n",
    "        inputs=t_train,\n",
    "        targets=x_tt_train, # could be the problem\n",
    "        processes=[process_x],\n",
    "        pde=pde_xtt, # dotdot _X\n",
    "        multiplier=1,\n",
    "    )\n",
    "    \n",
    "    loss_f = neuq.likelihoods.MSE(\n",
    "        inputs=t_train,\n",
    "        targets=f_train, # minimizing the loss to be close to zero\n",
    "         # targets=np.zeros_like(t_train), # minimizing the loss to be close to zero\n",
    "        processes=[process_x, process_log_c, process_log_k], # tf train\n",
    "        pde=pde_fn,\n",
    "        multiplier=1,\n",
    "    )\n",
    "    # build model\n",
    "    model = neuq.models.Model(\n",
    "        processes=[process_x, process_log_c, process_log_k],\n",
    "        likelihoods=[loss_x, loss_f],\n",
    "    )\n",
    "    # assign and compile method\n",
    "    model.compile(method)\n",
    "    # obtain posterior samples\n",
    "    samples = model.run()\n",
    "    # samples,results = model.run()\n",
    "    # print(\"Acceptance rate: %.3f \\n\" % (np.mean(results)))\n",
    "    \n",
    "    processes = [process_x, process_log_c, process_log_k]\n",
    "    return processes, samples, model\n",
    "\n",
    "\n",
    "if __name__ == \"__main__\":\n",
    "\n",
    "    noise = 0\n",
    "\n",
    "    x_tt_train, t_train, x_train, f_train = load_data(noise)\n",
    "\n",
    "    # t_x_tt_train, x_tt_train = train_x_tt\n",
    "    # t_f_train, f_train = train_f\n",
    "\n",
    "    layers = [1, 50, 50, 1]\n",
    "\n",
    "    processes, samples, model = Trainable( x_tt_train, t_train, x_train, f_train, noise, layers,\n",
    "    )\n",
    "\n",
    "    x_pred, logc_pred, logk_pred = model.predict(t_train, samples, processes, pde_fn=None)\n",
    "    \n",
    "plt.plot(t_train,np.mean(x_pred,axis=(0, 2)),label='Predicted displacement')\n",
    "plt.plot(t_train,x_train,'r',label='Actual displacement')\n",
    "plt.legend()"
   ]
  },
  {
   "cell_type": "code",
   "execution_count": 24,
   "id": "dffe425c-51e2-4b35-9a19-35bd6df57b42",
   "metadata": {},
   "outputs": [
    {
     "data": {
      "text/plain": [
       "<matplotlib.legend.Legend at 0x7fb13ffd3f10>"
      ]
     },
     "execution_count": 24,
     "metadata": {},
     "output_type": "execute_result"
    },
    {
     "data": {
      "image/png": "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",
      "text/plain": [
       "<Figure size 640x480 with 1 Axes>"
      ]
     },
     "metadata": {},
     "output_type": "display_data"
    }
   ],
   "source": [
    "# [a.shape for a in samples]\n",
    "plt.plot(t_train,np.mean(x_pred,axis=(0, 2)),label='Predicted displacement')\n",
    "plt.plot(t_train,x_train,'r',label='Actual displacement')\n",
    "plt.legend()"
   ]
  },
  {
   "cell_type": "code",
   "execution_count": null,
   "id": "73f60af6-22e4-4626-abb4-a038e1b6b7d9",
   "metadata": {},
   "outputs": [],
   "source": [
    "# x_pred, logc_pred, logk_pred = model.predict(t_train, samples, processes, pde_fn=None)\n",
    "# x_pred, logc_pred, logk_pred = model.predict(t_train, samples, processes, pde_fn=pde_fn)"
   ]
  },
  {
   "cell_type": "code",
   "execution_count": 25,
   "id": "5ed87f00-b366-42cd-bf10-195553192995",
   "metadata": {},
   "outputs": [
    {
     "data": {
      "image/png": "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",
      "text/plain": [
       "<Figure size 640x480 with 1 Axes>"
      ]
     },
     "metadata": {},
     "output_type": "display_data"
    },
    {
     "data": {
      "image/png": "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",
      "text/plain": [
       "<Figure size 640x480 with 1 Axes>"
      ]
     },
     "metadata": {},
     "output_type": "display_data"
    }
   ],
   "source": [
    "neuq.utils.hist(np.exp(logk_pred).flatten(), name=\"value of $k$\")\n",
    "neuq.utils.hist(np.exp(logc_pred).flatten(), name=\"value of $c$\")"
   ]
  },
  {
   "cell_type": "code",
   "execution_count": 16,
   "id": "f120771f-9a44-4a42-9ac5-f6e3b75c22d8",
   "metadata": {},
   "outputs": [
    {
     "name": "stdout",
     "output_type": "stream",
     "text": [
      "C_true=0.22(Ns/m) and C_post = 3.788199\n",
      "K_true=10(N/m) and K_post = 9.337484\n"
     ]
    }
   ],
   "source": [
    "Csamp=samples[6]    \n",
    "Ksamp=samples[7]\n",
    "C_post=np.exp(np.mean(Csamp))\n",
    "print(\"C_true=0.22(Ns/m) and C_post =\", C_post) \n",
    "K_post=np.exp(np.mean(Ksamp))\n",
    "print(\"K_true=10(N/m) and K_post =\", K_post) "
   ]
  },
  {
   "cell_type": "code",
   "execution_count": null,
   "id": "732928dd-1b36-456d-9aa2-fe8e833ceea7",
   "metadata": {},
   "outputs": [],
   "source": [
    "plt.plot(t_train,np.mean(x_pred,axis=(0, 2)),label='Predicted displacement')\n",
    "plt.plot(t_train,x_train,'r',label='Actual displacement')\n",
    "plt.legend()"
   ]
  },
  {
   "cell_type": "code",
   "execution_count": null,
   "id": "74fbd26a-01f7-4810-b45b-f35bd7540fb9",
   "metadata": {},
   "outputs": [],
   "source": [
    "# sio.savemat(\"G:/My Drive/Python_codes/sdof0.mat\", {\"x_pred\":x_pred, \"k\":samples[7].flatten(),\"c\":samples[6].flatten()})"
   ]
  },
  {
   "cell_type": "code",
   "execution_count": 12,
   "id": "bc3056f7-1fe0-4143-bf03-4b850017b1b1",
   "metadata": {},
   "outputs": [
    {
     "data": {
      "text/plain": [
       "[<matplotlib.lines.Line2D at 0x7fb318c86790>]"
      ]
     },
     "execution_count": 12,
     "metadata": {},
     "output_type": "execute_result"
    },
     
  
 ],
 "metadata": {
  "kernelspec": {
   "display_name": "Python 3 (ipykernel)",
   "language": "python",
   "name": "python3"
  },
  "language_info": {
   "codemirror_mode": {
    "name": "ipython",
    "version": 3
   },
   "file_extension": ".py",
   "mimetype": "text/x-python",
   "name": "python",
   "nbconvert_exporter": "python",
   "pygments_lexer": "ipython3",
   "version": "3.11.0rc1"
  }
 },
 "nbformat": 4,
 "nbformat_minor": 5
}
