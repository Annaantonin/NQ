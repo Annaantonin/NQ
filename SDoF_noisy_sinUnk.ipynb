{
 "cells": [
  {
   "cell_type": "code",
   "execution_count": null,
   "id": "e322b318-2b90-46a0-9afe-8494aef96820",
   "metadata": {},
   "outputs": [],
   "source": [
    "# import tensorflow as tf"
   ]
  },
  {
   "cell_type": "code",
   "execution_count": 1,
   "id": "f61dc19c-5812-42e6-ad25-9026eeffbe1a",
   "metadata": {
    "scrolled": true
   },
   "outputs": [
    {
     "name": "stderr",
     "output_type": "stream",
     "text": [
      "2023-11-30 02:22:46.934926: I tensorflow/core/util/port.cc:111] oneDNN custom operations are on. You may see slightly different numerical results due to floating-point round-off errors from different computation orders. To turn them off, set the environment variable `TF_ENABLE_ONEDNN_OPTS=0`.\n",
      "2023-11-30 02:22:46.958871: E tensorflow/compiler/xla/stream_executor/cuda/cuda_dnn.cc:9342] Unable to register cuDNN factory: Attempting to register factory for plugin cuDNN when one has already been registered\n",
      "2023-11-30 02:22:46.958895: E tensorflow/compiler/xla/stream_executor/cuda/cuda_fft.cc:609] Unable to register cuFFT factory: Attempting to register factory for plugin cuFFT when one has already been registered\n",
      "2023-11-30 02:22:46.958933: E tensorflow/compiler/xla/stream_executor/cuda/cuda_blas.cc:1518] Unable to register cuBLAS factory: Attempting to register factory for plugin cuBLAS when one has already been registered\n",
      "2023-11-30 02:22:46.964273: I tensorflow/core/platform/cpu_feature_guard.cc:182] This TensorFlow binary is optimized to use available CPU instructions in performance-critical operations.\n",
      "To enable the following instructions: AVX2 AVX_VNNI FMA, in other operations, rebuild TensorFlow with the appropriate compiler flags.\n"
     ]
    },
    {
     "name": "stdout",
     "output_type": "stream",
     "text": [
      "[name: \"/device:CPU:0\"\n",
      "device_type: \"CPU\"\n",
      "memory_limit: 268435456\n",
      "locality {\n",
      "}\n",
      "incarnation: 10344022061522209962\n",
      "xla_global_id: -1\n",
      ", name: \"/device:GPU:0\"\n",
      "device_type: \"GPU\"\n",
      "memory_limit: 1807745024\n",
      "locality {\n",
      "  bus_id: 1\n",
      "  links {\n",
      "  }\n",
      "}\n",
      "incarnation: 10114186471676203\n",
      "physical_device_desc: \"device: 0, name: NVIDIA GeForce RTX 4070 Laptop GPU, pci bus id: 0000:01:00.0, compute capability: 8.9\"\n",
      "xla_global_id: 416903419\n",
      "]\n"
     ]
    },
    {
     "name": "stderr",
     "output_type": "stream",
     "text": [
      "2023-11-30 02:22:48.117889: I tensorflow/compiler/xla/stream_executor/cuda/cuda_gpu_executor.cc:880] could not open file to read NUMA node: /sys/bus/pci/devices/0000:01:00.0/numa_node\n",
      "Your kernel may have been built without NUMA support.\n",
      "2023-11-30 02:22:48.122413: I tensorflow/compiler/xla/stream_executor/cuda/cuda_gpu_executor.cc:880] could not open file to read NUMA node: /sys/bus/pci/devices/0000:01:00.0/numa_node\n",
      "Your kernel may have been built without NUMA support.\n",
      "2023-11-30 02:22:48.122433: I tensorflow/compiler/xla/stream_executor/cuda/cuda_gpu_executor.cc:880] could not open file to read NUMA node: /sys/bus/pci/devices/0000:01:00.0/numa_node\n",
      "Your kernel may have been built without NUMA support.\n",
      "2023-11-30 02:22:49.485777: I tensorflow/compiler/xla/stream_executor/cuda/cuda_gpu_executor.cc:880] could not open file to read NUMA node: /sys/bus/pci/devices/0000:01:00.0/numa_node\n",
      "Your kernel may have been built without NUMA support.\n",
      "2023-11-30 02:22:49.485814: I tensorflow/compiler/xla/stream_executor/cuda/cuda_gpu_executor.cc:880] could not open file to read NUMA node: /sys/bus/pci/devices/0000:01:00.0/numa_node\n",
      "Your kernel may have been built without NUMA support.\n",
      "2023-11-30 02:22:49.485820: I tensorflow/core/common_runtime/gpu/gpu_device.cc:1977] Could not identify NUMA node of platform GPU id 0, defaulting to 0.  Your kernel may not have been built with NUMA support.\n",
      "2023-11-30 02:22:49.485841: I tensorflow/compiler/xla/stream_executor/cuda/cuda_gpu_executor.cc:880] could not open file to read NUMA node: /sys/bus/pci/devices/0000:01:00.0/numa_node\n",
      "Your kernel may have been built without NUMA support.\n",
      "2023-11-30 02:22:49.485855: I tensorflow/core/common_runtime/gpu/gpu_device.cc:1886] Created device /device:GPU:0 with 1724 MB memory:  -> device: 0, name: NVIDIA GeForce RTX 4070 Laptop GPU, pci bus id: 0000:01:00.0, compute capability: 8.9\n"
     ]
    }
   ],
   "source": [
    "from tensorflow.python.client import device_lib \n",
    "print(device_lib.list_local_devices())"
   ]
  },
  {
   "cell_type": "code",
   "execution_count": 2,
   "id": "7532903d-d511-422b-97d5-3a3f2a708c1d",
   "metadata": {},
   "outputs": [],
   "source": [
    "# os.chdir(\"/mnt/\")\n",
    "import neuraluq as neuq\n",
    "import neuraluq.variables as neuq_vars\n",
    "from neuraluq.config import tf\n",
    "\n",
    "import numpy as np\n",
    "import scipy.io as sio\n",
    "from scipy.io import loadmat\n",
    "import matplotlib.pyplot as plt"
   ]
  },
  {
   "cell_type": "code",
   "execution_count": null,
   "id": "be4cc8e8-f845-4714-8b58-c74458a6af25",
   "metadata": {},
   "outputs": [],
   "source": [
    "!git clone https://github.com/Annaantonin/Data.git"
   ]
  },
  {
   "cell_type": "code",
   "execution_count": null,
   "id": "93b9f1b7-e21e-4eb2-a1ca-971823b01db1",
   "metadata": {},
   "outputs": [],
   "source": [
    "rm -rf Data"
   ]
  },
  {
   "cell_type": "code",
   "execution_count": null,
   "id": "e4b37278-49a5-4032-a14d-0340efed0a57",
   "metadata": {},
   "outputs": [],
   "source": [
    "import Data as data\n",
    "# data = sio.loadmat(\"Data/sdof_2000.mat\")"
   ]
  },
  {
   "cell_type": "code",
   "execution_count": null,
   "id": "86f2c4ab-fc67-4785-8d75-8670ae5dd47f",
   "metadata": {},
   "outputs": [],
   "source": [
    "!git clone https://github.com/Crunch-UQ4MI/neuraluq.git\n",
    "#!git clone https://github.com/Annaantonin/Data.git\n",
    "!pip install tensorflow-probability\n",
    "!pip install scipy\n",
    "import os\n",
    "os.chdir(\"/tf/neuraluq/\")\n",
    "!python setup.py install"
   ]
  },
  {
   "cell_type": "code",
   "execution_count": null,
   "id": "e21a150d-287e-4f67-bd61-a0e9fbfc111d",
   "metadata": {},
   "outputs": [],
   "source": [
    "os.listdir(\".\")"
   ]
  },
  {
   "cell_type": "code",
   "execution_count": null,
   "id": "063426be-c1d2-496c-b315-9e8ad05eb58e",
   "metadata": {},
   "outputs": [],
   "source": []
  },
  {
   "cell_type": "code",
   "execution_count": 133,
   "id": "4808f03e-0c15-4ccb-beff-bff94a5e64be",
   "metadata": {},
   "outputs": [
    {
     "name": "stderr",
     "output_type": "stream",
     "text": [
      "2023-11-30 16:02:16.082782: I tensorflow/compiler/xla/stream_executor/cuda/cuda_gpu_executor.cc:880] could not open file to read NUMA node: /sys/bus/pci/devices/0000:01:00.0/numa_node\n",
      "Your kernel may have been built without NUMA support.\n",
      "2023-11-30 16:02:16.082867: I tensorflow/compiler/xla/stream_executor/cuda/cuda_gpu_executor.cc:880] could not open file to read NUMA node: /sys/bus/pci/devices/0000:01:00.0/numa_node\n",
      "Your kernel may have been built without NUMA support.\n",
      "2023-11-30 16:02:16.082879: I tensorflow/compiler/xla/stream_executor/cuda/cuda_gpu_executor.cc:880] could not open file to read NUMA node: /sys/bus/pci/devices/0000:01:00.0/numa_node\n",
      "Your kernel may have been built without NUMA support.\n",
      "2023-11-30 16:02:16.083263: I tensorflow/compiler/xla/stream_executor/cuda/cuda_gpu_executor.cc:880] could not open file to read NUMA node: /sys/bus/pci/devices/0000:01:00.0/numa_node\n",
      "Your kernel may have been built without NUMA support.\n",
      "2023-11-30 16:02:16.083288: I tensorflow/core/common_runtime/gpu/gpu_device.cc:1977] Could not identify NUMA node of platform GPU id 0, defaulting to 0.  Your kernel may not have been built with NUMA support.\n",
      "2023-11-30 16:02:16.083304: I tensorflow/compiler/xla/stream_executor/cuda/cuda_gpu_executor.cc:880] could not open file to read NUMA node: /sys/bus/pci/devices/0000:01:00.0/numa_node\n",
      "Your kernel may have been built without NUMA support.\n",
      "2023-11-30 16:02:16.083317: I tensorflow/core/common_runtime/gpu/gpu_device.cc:1886] Created device /job:localhost/replica:0/task:0/device:GPU:0 with 1724 MB memory:  -> device: 0, name: NVIDIA GeForce RTX 4070 Laptop GPU, pci bus id: 0000:01:00.0, compute capability: 8.9\n"
     ]
    },
    {
     "name": "stdout",
     "output_type": "stream",
     "text": [
      "Supporting backend tensorflow.compat.v1\n",
      "\n",
      "Compiling a Ensemble method\n",
      "\n",
      "Generating 0th sample by deep ensemble...\n"
     ]
    },
    {
     "name": "stderr",
     "output_type": "stream",
     "text": [
      "2023-11-30 16:02:17.252478: W tensorflow/c/c_api.cc:305] Operation '{name:'Variable_399/Assign' id:25967 op device:{requested: '', assigned: ''} def:{{{node Variable_399/Assign}} = AssignVariableOp[_has_manual_control_dependencies=true, dtype=DT_FLOAT, validate_shape=false](Variable_399, Const_711)}}' was changed by setting attribute after it was run by a session. This mutation will have no effect, and will trigger an error in the future. Either don't modify nodes after running them or create a new session.\n"
     ]
    },
    {
     "name": "stdout",
     "output_type": "stream",
     "text": [
      "Iteration:  0 , loss:  7.909847\n",
      "Iteration:  1000 , loss:  0.6773857\n",
      "Iteration:  2000 , loss:  0.5506083\n",
      "Iteration:  3000 , loss:  0.46248096\n",
      "Iteration:  4000 , loss:  0.28569806\n",
      "Iteration:  5000 , loss:  0.25495481\n",
      "Iteration:  6000 , loss:  0.23498443\n",
      "Iteration:  7000 , loss:  0.22387971\n",
      "Iteration:  8000 , loss:  0.21322143\n",
      "Iteration:  9000 , loss:  0.20267634\n",
      "Generating 1th sample by deep ensemble...\n"
     ]
    },
    {
     "name": "stderr",
     "output_type": "stream",
     "text": [
      "2023-11-30 16:02:35.389224: W tensorflow/c/c_api.cc:305] Operation '{name:'beta2_power_25/Assign' id:26633 op device:{requested: '', assigned: ''} def:{{{node beta2_power_25/Assign}} = AssignVariableOp[_has_manual_control_dependencies=true, dtype=DT_FLOAT, validate_shape=false](beta2_power_25, beta2_power_25/Initializer/initial_value)}}' was changed by setting attribute after it was run by a session. This mutation will have no effect, and will trigger an error in the future. Either don't modify nodes after running them or create a new session.\n"
     ]
    },
    {
     "name": "stdout",
     "output_type": "stream",
     "text": [
      "Iteration:  0 , loss:  7.865355\n",
      "Iteration:  1000 , loss:  0.7051385\n",
      "Iteration:  2000 , loss:  0.5427996\n",
      "Iteration:  3000 , loss:  0.3092878\n",
      "Iteration:  4000 , loss:  0.25973096\n",
      "Iteration:  5000 , loss:  0.24385126\n",
      "Iteration:  6000 , loss:  0.23301105\n",
      "Iteration:  7000 , loss:  0.22523397\n",
      "Iteration:  8000 , loss:  0.2188314\n",
      "Iteration:  9000 , loss:  0.21285383\n",
      "Generating 2th sample by deep ensemble...\n"
     ]
    },
    {
     "name": "stderr",
     "output_type": "stream",
     "text": [
      "2023-11-30 16:02:53.207312: W tensorflow/c/c_api.cc:305] Operation '{name:'beta2_power_25/Assign' id:26633 op device:{requested: '', assigned: ''} def:{{{node beta2_power_25/Assign}} = AssignVariableOp[_has_manual_control_dependencies=true, dtype=DT_FLOAT, validate_shape=false](beta2_power_25, beta2_power_25/Initializer/initial_value)}}' was changed by setting attribute after it was run by a session. This mutation will have no effect, and will trigger an error in the future. Either don't modify nodes after running them or create a new session.\n"
     ]
    },
    {
     "name": "stdout",
     "output_type": "stream",
     "text": [
      "Iteration:  0 , loss:  7.8152447\n",
      "Iteration:  1000 , loss:  0.66598177\n",
      "Iteration:  2000 , loss:  0.50730556\n",
      "Iteration:  3000 , loss:  0.30408788\n",
      "Iteration:  4000 , loss:  0.25863892\n",
      "Iteration:  5000 , loss:  0.24650145\n",
      "Iteration:  6000 , loss:  0.23770939\n",
      "Iteration:  7000 , loss:  0.22882213\n",
      "Iteration:  8000 , loss:  0.22066249\n",
      "Iteration:  9000 , loss:  0.21393381\n",
      "Generating 3th sample by deep ensemble...\n"
     ]
    },
    {
     "name": "stderr",
     "output_type": "stream",
     "text": [
      "2023-11-30 16:03:10.250518: W tensorflow/c/c_api.cc:305] Operation '{name:'beta2_power_25/Assign' id:26633 op device:{requested: '', assigned: ''} def:{{{node beta2_power_25/Assign}} = AssignVariableOp[_has_manual_control_dependencies=true, dtype=DT_FLOAT, validate_shape=false](beta2_power_25, beta2_power_25/Initializer/initial_value)}}' was changed by setting attribute after it was run by a session. This mutation will have no effect, and will trigger an error in the future. Either don't modify nodes after running them or create a new session.\n"
     ]
    },
    {
     "name": "stdout",
     "output_type": "stream",
     "text": [
      "Iteration:  0 , loss:  7.8322744\n",
      "Iteration:  1000 , loss:  0.65574074\n",
      "Iteration:  2000 , loss:  0.43223074\n",
      "Iteration:  3000 , loss:  0.31336978\n",
      "Iteration:  4000 , loss:  0.25942248\n",
      "Iteration:  5000 , loss:  0.23902316\n",
      "Iteration:  6000 , loss:  0.22293705\n",
      "Iteration:  7000 , loss:  0.21242066\n",
      "Iteration:  8000 , loss:  0.19622009\n",
      "Iteration:  9000 , loss:  0.18717565\n",
      "Generating 4th sample by deep ensemble...\n"
     ]
    },
    {
     "name": "stderr",
     "output_type": "stream",
     "text": [
      "2023-11-30 16:03:27.012673: W tensorflow/c/c_api.cc:305] Operation '{name:'beta2_power_25/Assign' id:26633 op device:{requested: '', assigned: ''} def:{{{node beta2_power_25/Assign}} = AssignVariableOp[_has_manual_control_dependencies=true, dtype=DT_FLOAT, validate_shape=false](beta2_power_25, beta2_power_25/Initializer/initial_value)}}' was changed by setting attribute after it was run by a session. This mutation will have no effect, and will trigger an error in the future. Either don't modify nodes after running them or create a new session.\n"
     ]
    },
    {
     "name": "stdout",
     "output_type": "stream",
     "text": [
      "Iteration:  0 , loss:  8.062815\n",
      "Iteration:  1000 , loss:  0.7639667\n",
      "Iteration:  2000 , loss:  0.530663\n",
      "Iteration:  3000 , loss:  0.32506502\n",
      "Iteration:  4000 , loss:  0.2748212\n",
      "Iteration:  5000 , loss:  0.2532468\n",
      "Iteration:  6000 , loss:  0.23816471\n",
      "Iteration:  7000 , loss:  0.22798423\n",
      "Iteration:  8000 , loss:  0.21840426\n",
      "Iteration:  9000 , loss:  0.20889875\n",
      "Generating 5th sample by deep ensemble...\n"
     ]
    },
    {
     "name": "stderr",
     "output_type": "stream",
     "text": [
      "2023-11-30 16:03:43.303909: W tensorflow/c/c_api.cc:305] Operation '{name:'beta2_power_25/Assign' id:26633 op device:{requested: '', assigned: ''} def:{{{node beta2_power_25/Assign}} = AssignVariableOp[_has_manual_control_dependencies=true, dtype=DT_FLOAT, validate_shape=false](beta2_power_25, beta2_power_25/Initializer/initial_value)}}' was changed by setting attribute after it was run by a session. This mutation will have no effect, and will trigger an error in the future. Either don't modify nodes after running them or create a new session.\n"
     ]
    },
    {
     "name": "stdout",
     "output_type": "stream",
     "text": [
      "Iteration:  0 , loss:  7.839213\n",
      "Iteration:  1000 , loss:  0.67729497\n",
      "Iteration:  2000 , loss:  0.4687703\n",
      "Iteration:  3000 , loss:  0.30624074\n",
      "Iteration:  4000 , loss:  0.26572898\n",
      "Iteration:  5000 , loss:  0.24926725\n",
      "Iteration:  6000 , loss:  0.23909013\n",
      "Iteration:  7000 , loss:  0.2267926\n",
      "Iteration:  8000 , loss:  0.21811824\n",
      "Iteration:  9000 , loss:  0.21093358\n",
      "Generating 6th sample by deep ensemble...\n"
     ]
    },
    {
     "name": "stderr",
     "output_type": "stream",
     "text": [
      "2023-11-30 16:03:59.938056: W tensorflow/c/c_api.cc:305] Operation '{name:'beta2_power_25/Assign' id:26633 op device:{requested: '', assigned: ''} def:{{{node beta2_power_25/Assign}} = AssignVariableOp[_has_manual_control_dependencies=true, dtype=DT_FLOAT, validate_shape=false](beta2_power_25, beta2_power_25/Initializer/initial_value)}}' was changed by setting attribute after it was run by a session. This mutation will have no effect, and will trigger an error in the future. Either don't modify nodes after running them or create a new session.\n"
     ]
    },
    {
     "name": "stdout",
     "output_type": "stream",
     "text": [
      "Iteration:  0 , loss:  7.8415747\n",
      "Iteration:  1000 , loss:  0.7089662\n",
      "Iteration:  2000 , loss:  0.56651574\n",
      "Iteration:  3000 , loss:  0.36176902\n",
      "Iteration:  4000 , loss:  0.30765256\n",
      "Iteration:  5000 , loss:  0.27594033\n",
      "Iteration:  6000 , loss:  0.26277924\n",
      "Iteration:  7000 , loss:  0.25370696\n",
      "Iteration:  8000 , loss:  0.24039322\n",
      "Iteration:  9000 , loss:  0.2106927\n",
      "Generating 7th sample by deep ensemble...\n"
     ]
    },
    {
     "name": "stderr",
     "output_type": "stream",
     "text": [
      "2023-11-30 16:04:16.813354: W tensorflow/c/c_api.cc:305] Operation '{name:'beta2_power_25/Assign' id:26633 op device:{requested: '', assigned: ''} def:{{{node beta2_power_25/Assign}} = AssignVariableOp[_has_manual_control_dependencies=true, dtype=DT_FLOAT, validate_shape=false](beta2_power_25, beta2_power_25/Initializer/initial_value)}}' was changed by setting attribute after it was run by a session. This mutation will have no effect, and will trigger an error in the future. Either don't modify nodes after running them or create a new session.\n"
     ]
    },
    {
     "name": "stdout",
     "output_type": "stream",
     "text": [
      "Iteration:  0 , loss:  7.847133\n",
      "Iteration:  1000 , loss:  0.72890544\n",
      "Iteration:  2000 , loss:  0.45351425\n",
      "Iteration:  3000 , loss:  0.31081763\n",
      "Iteration:  4000 , loss:  0.2811547\n",
      "Iteration:  5000 , loss:  0.26897848\n",
      "Iteration:  6000 , loss:  0.2526446\n",
      "Iteration:  7000 , loss:  0.23749213\n",
      "Iteration:  8000 , loss:  0.22032063\n",
      "Iteration:  9000 , loss:  0.1787312\n",
      "Generating 8th sample by deep ensemble...\n"
     ]
    },
    {
     "name": "stderr",
     "output_type": "stream",
     "text": [
      "2023-11-30 16:04:38.618259: W tensorflow/c/c_api.cc:305] Operation '{name:'beta2_power_25/Assign' id:26633 op device:{requested: '', assigned: ''} def:{{{node beta2_power_25/Assign}} = AssignVariableOp[_has_manual_control_dependencies=true, dtype=DT_FLOAT, validate_shape=false](beta2_power_25, beta2_power_25/Initializer/initial_value)}}' was changed by setting attribute after it was run by a session. This mutation will have no effect, and will trigger an error in the future. Either don't modify nodes after running them or create a new session.\n"
     ]
    },
    {
     "name": "stdout",
     "output_type": "stream",
     "text": [
      "Iteration:  0 , loss:  8.002461\n",
      "Iteration:  1000 , loss:  0.6514486\n",
      "Iteration:  2000 , loss:  0.43769372\n",
      "Iteration:  3000 , loss:  0.30763468\n",
      "Iteration:  4000 , loss:  0.2678709\n",
      "Iteration:  5000 , loss:  0.25432292\n",
      "Iteration:  6000 , loss:  0.24424525\n",
      "Iteration:  7000 , loss:  0.234957\n",
      "Iteration:  8000 , loss:  0.22368248\n",
      "Iteration:  9000 , loss:  0.21206462\n",
      "Generating 9th sample by deep ensemble...\n"
     ]
    },
    {
     "name": "stderr",
     "output_type": "stream",
     "text": [
      "2023-11-30 16:04:55.250929: W tensorflow/c/c_api.cc:305] Operation '{name:'beta2_power_25/Assign' id:26633 op device:{requested: '', assigned: ''} def:{{{node beta2_power_25/Assign}} = AssignVariableOp[_has_manual_control_dependencies=true, dtype=DT_FLOAT, validate_shape=false](beta2_power_25, beta2_power_25/Initializer/initial_value)}}' was changed by setting attribute after it was run by a session. This mutation will have no effect, and will trigger an error in the future. Either don't modify nodes after running them or create a new session.\n"
     ]
    },
    {
     "name": "stdout",
     "output_type": "stream",
     "text": [
      "Iteration:  0 , loss:  7.8335266\n",
      "Iteration:  1000 , loss:  0.67941934\n",
      "Iteration:  2000 , loss:  0.51652986\n",
      "Iteration:  3000 , loss:  0.33239266\n",
      "Iteration:  4000 , loss:  0.28572085\n",
      "Iteration:  5000 , loss:  0.25957862\n",
      "Iteration:  6000 , loss:  0.24781178\n",
      "Iteration:  7000 , loss:  0.23780969\n",
      "Iteration:  8000 , loss:  0.22861858\n",
      "Iteration:  9000 , loss:  0.21991879\n",
      "Generating 10th sample by deep ensemble...\n"
     ]
    },
    {
     "name": "stderr",
     "output_type": "stream",
     "text": [
      "2023-11-30 16:05:11.709314: W tensorflow/c/c_api.cc:305] Operation '{name:'beta2_power_25/Assign' id:26633 op device:{requested: '', assigned: ''} def:{{{node beta2_power_25/Assign}} = AssignVariableOp[_has_manual_control_dependencies=true, dtype=DT_FLOAT, validate_shape=false](beta2_power_25, beta2_power_25/Initializer/initial_value)}}' was changed by setting attribute after it was run by a session. This mutation will have no effect, and will trigger an error in the future. Either don't modify nodes after running them or create a new session.\n"
     ]
    },
    {
     "name": "stdout",
     "output_type": "stream",
     "text": [
      "Iteration:  0 , loss:  7.8365464\n",
      "Iteration:  1000 , loss:  0.6787557\n",
      "Iteration:  2000 , loss:  0.37738115\n",
      "Iteration:  3000 , loss:  0.29151264\n",
      "Iteration:  4000 , loss:  0.26329246\n",
      "Iteration:  5000 , loss:  0.24485226\n",
      "Iteration:  6000 , loss:  0.23234278\n",
      "Iteration:  7000 , loss:  0.2161287\n",
      "Iteration:  8000 , loss:  0.1827257\n",
      "Iteration:  9000 , loss:  0.16467167\n",
      "Generating 11th sample by deep ensemble...\n"
     ]
    },
    {
     "name": "stderr",
     "output_type": "stream",
     "text": [
      "2023-11-30 16:05:30.647338: W tensorflow/c/c_api.cc:305] Operation '{name:'beta2_power_25/Assign' id:26633 op device:{requested: '', assigned: ''} def:{{{node beta2_power_25/Assign}} = AssignVariableOp[_has_manual_control_dependencies=true, dtype=DT_FLOAT, validate_shape=false](beta2_power_25, beta2_power_25/Initializer/initial_value)}}' was changed by setting attribute after it was run by a session. This mutation will have no effect, and will trigger an error in the future. Either don't modify nodes after running them or create a new session.\n"
     ]
    },
    {
     "name": "stdout",
     "output_type": "stream",
     "text": [
      "Iteration:  0 , loss:  7.835215\n",
      "Iteration:  1000 , loss:  0.7201119\n",
      "Iteration:  2000 , loss:  0.42674834\n",
      "Iteration:  3000 , loss:  0.2909233\n",
      "Iteration:  4000 , loss:  0.25657478\n",
      "Iteration:  5000 , loss:  0.2408518\n",
      "Iteration:  6000 , loss:  0.22818325\n",
      "Iteration:  7000 , loss:  0.21360955\n",
      "Iteration:  8000 , loss:  0.18638313\n",
      "Iteration:  9000 , loss:  0.17667031\n",
      "Generating 12th sample by deep ensemble...\n"
     ]
    },
    {
     "name": "stderr",
     "output_type": "stream",
     "text": [
      "2023-11-30 16:05:48.528800: W tensorflow/c/c_api.cc:305] Operation '{name:'beta2_power_25/Assign' id:26633 op device:{requested: '', assigned: ''} def:{{{node beta2_power_25/Assign}} = AssignVariableOp[_has_manual_control_dependencies=true, dtype=DT_FLOAT, validate_shape=false](beta2_power_25, beta2_power_25/Initializer/initial_value)}}' was changed by setting attribute after it was run by a session. This mutation will have no effect, and will trigger an error in the future. Either don't modify nodes after running them or create a new session.\n"
     ]
    },
    {
     "name": "stdout",
     "output_type": "stream",
     "text": [
      "Iteration:  0 , loss:  7.8314567\n",
      "Iteration:  1000 , loss:  0.66162425\n",
      "Iteration:  2000 , loss:  0.52915937\n",
      "Iteration:  3000 , loss:  0.31271073\n",
      "Iteration:  4000 , loss:  0.27032793\n",
      "Iteration:  5000 , loss:  0.25414374\n",
      "Iteration:  6000 , loss:  0.24150561\n",
      "Iteration:  7000 , loss:  0.2274851\n",
      "Iteration:  8000 , loss:  0.2135428\n",
      "Iteration:  9000 , loss:  0.19482392\n",
      "Generating 13th sample by deep ensemble...\n"
     ]
    },
    {
     "name": "stderr",
     "output_type": "stream",
     "text": [
      "2023-11-30 16:06:05.856397: W tensorflow/c/c_api.cc:305] Operation '{name:'beta2_power_25/Assign' id:26633 op device:{requested: '', assigned: ''} def:{{{node beta2_power_25/Assign}} = AssignVariableOp[_has_manual_control_dependencies=true, dtype=DT_FLOAT, validate_shape=false](beta2_power_25, beta2_power_25/Initializer/initial_value)}}' was changed by setting attribute after it was run by a session. This mutation will have no effect, and will trigger an error in the future. Either don't modify nodes after running them or create a new session.\n"
     ]
    },
    {
     "name": "stdout",
     "output_type": "stream",
     "text": [
      "Iteration:  0 , loss:  8.013369\n",
      "Iteration:  1000 , loss:  0.72611576\n",
      "Iteration:  2000 , loss:  0.3702198\n",
      "Iteration:  3000 , loss:  0.29381046\n",
      "Iteration:  4000 , loss:  0.2738107\n",
      "Iteration:  5000 , loss:  0.26050937\n",
      "Iteration:  6000 , loss:  0.2423522\n",
      "Iteration:  7000 , loss:  0.22894299\n",
      "Iteration:  8000 , loss:  0.20916754\n",
      "Iteration:  9000 , loss:  0.16836338\n",
      "Generating 14th sample by deep ensemble...\n"
     ]
    },
    {
     "name": "stderr",
     "output_type": "stream",
     "text": [
      "2023-11-30 16:06:23.564416: W tensorflow/c/c_api.cc:305] Operation '{name:'beta2_power_25/Assign' id:26633 op device:{requested: '', assigned: ''} def:{{{node beta2_power_25/Assign}} = AssignVariableOp[_has_manual_control_dependencies=true, dtype=DT_FLOAT, validate_shape=false](beta2_power_25, beta2_power_25/Initializer/initial_value)}}' was changed by setting attribute after it was run by a session. This mutation will have no effect, and will trigger an error in the future. Either don't modify nodes after running them or create a new session.\n"
     ]
    },
    {
     "name": "stdout",
     "output_type": "stream",
     "text": [
      "Iteration:  0 , loss:  7.937391\n",
      "Iteration:  1000 , loss:  0.68600386\n",
      "Iteration:  2000 , loss:  0.49377733\n",
      "Iteration:  3000 , loss:  0.30532077\n",
      "Iteration:  4000 , loss:  0.2635293\n",
      "Iteration:  5000 , loss:  0.23420168\n",
      "Iteration:  6000 , loss:  0.17353883\n",
      "Iteration:  7000 , loss:  0.15194978\n",
      "Iteration:  8000 , loss:  0.14242437\n",
      "Iteration:  9000 , loss:  0.13434514\n",
      "Generating 15th sample by deep ensemble...\n"
     ]
    },
    {
     "name": "stderr",
     "output_type": "stream",
     "text": [
      "2023-11-30 16:06:41.648838: W tensorflow/c/c_api.cc:305] Operation '{name:'beta2_power_25/Assign' id:26633 op device:{requested: '', assigned: ''} def:{{{node beta2_power_25/Assign}} = AssignVariableOp[_has_manual_control_dependencies=true, dtype=DT_FLOAT, validate_shape=false](beta2_power_25, beta2_power_25/Initializer/initial_value)}}' was changed by setting attribute after it was run by a session. This mutation will have no effect, and will trigger an error in the future. Either don't modify nodes after running them or create a new session.\n"
     ]
    },
    {
     "name": "stdout",
     "output_type": "stream",
     "text": [
      "Iteration:  0 , loss:  7.860782\n",
      "Iteration:  1000 , loss:  0.73981434\n",
      "Iteration:  2000 , loss:  0.40425837\n",
      "Iteration:  3000 , loss:  0.28782162\n",
      "Iteration:  4000 , loss:  0.27150655\n",
      "Iteration:  5000 , loss:  0.25105754\n",
      "Iteration:  6000 , loss:  0.23188207\n",
      "Iteration:  7000 , loss:  0.21419314\n",
      "Iteration:  8000 , loss:  0.16901118\n",
      "Iteration:  9000 , loss:  0.1479715\n",
      "Generating 16th sample by deep ensemble...\n"
     ]
    },
    {
     "name": "stderr",
     "output_type": "stream",
     "text": [
      "2023-11-30 16:06:59.330548: W tensorflow/c/c_api.cc:305] Operation '{name:'beta2_power_25/Assign' id:26633 op device:{requested: '', assigned: ''} def:{{{node beta2_power_25/Assign}} = AssignVariableOp[_has_manual_control_dependencies=true, dtype=DT_FLOAT, validate_shape=false](beta2_power_25, beta2_power_25/Initializer/initial_value)}}' was changed by setting attribute after it was run by a session. This mutation will have no effect, and will trigger an error in the future. Either don't modify nodes after running them or create a new session.\n"
     ]
    },
    {
     "name": "stdout",
     "output_type": "stream",
     "text": [
      "Iteration:  0 , loss:  7.7866387\n",
      "Iteration:  1000 , loss:  0.6687929\n",
      "Iteration:  2000 , loss:  0.52952147\n",
      "Iteration:  3000 , loss:  0.4646824\n",
      "Iteration:  4000 , loss:  0.2890208\n",
      "Iteration:  5000 , loss:  0.24643019\n",
      "Iteration:  6000 , loss:  0.23083186\n",
      "Iteration:  7000 , loss:  0.22063798\n",
      "Iteration:  8000 , loss:  0.21170978\n",
      "Iteration:  9000 , loss:  0.2042432\n",
      "Generating 17th sample by deep ensemble...\n"
     ]
    },
    {
     "name": "stderr",
     "output_type": "stream",
     "text": [
      "2023-11-30 16:07:17.182944: W tensorflow/c/c_api.cc:305] Operation '{name:'beta2_power_25/Assign' id:26633 op device:{requested: '', assigned: ''} def:{{{node beta2_power_25/Assign}} = AssignVariableOp[_has_manual_control_dependencies=true, dtype=DT_FLOAT, validate_shape=false](beta2_power_25, beta2_power_25/Initializer/initial_value)}}' was changed by setting attribute after it was run by a session. This mutation will have no effect, and will trigger an error in the future. Either don't modify nodes after running them or create a new session.\n"
     ]
    },
    {
     "name": "stdout",
     "output_type": "stream",
     "text": [
      "Iteration:  0 , loss:  7.8605723\n",
      "Iteration:  1000 , loss:  0.72890157\n",
      "Iteration:  2000 , loss:  0.5457972\n",
      "Iteration:  3000 , loss:  0.37916225\n",
      "Iteration:  4000 , loss:  0.2784373\n",
      "Iteration:  5000 , loss:  0.25799075\n",
      "Iteration:  6000 , loss:  0.24808173\n",
      "Iteration:  7000 , loss:  0.23762685\n",
      "Iteration:  8000 , loss:  0.22727886\n",
      "Iteration:  9000 , loss:  0.21848206\n",
      "Generating 18th sample by deep ensemble...\n"
     ]
    },
    {
     "name": "stderr",
     "output_type": "stream",
     "text": [
      "2023-11-30 16:07:34.431624: W tensorflow/c/c_api.cc:305] Operation '{name:'beta2_power_25/Assign' id:26633 op device:{requested: '', assigned: ''} def:{{{node beta2_power_25/Assign}} = AssignVariableOp[_has_manual_control_dependencies=true, dtype=DT_FLOAT, validate_shape=false](beta2_power_25, beta2_power_25/Initializer/initial_value)}}' was changed by setting attribute after it was run by a session. This mutation will have no effect, and will trigger an error in the future. Either don't modify nodes after running them or create a new session.\n"
     ]
    },
    {
     "name": "stdout",
     "output_type": "stream",
     "text": [
      "Iteration:  0 , loss:  8.048767\n",
      "Iteration:  1000 , loss:  0.74174505\n",
      "Iteration:  2000 , loss:  0.44853988\n",
      "Iteration:  3000 , loss:  0.30811724\n",
      "Iteration:  4000 , loss:  0.27840197\n",
      "Iteration:  5000 , loss:  0.2573836\n",
      "Iteration:  6000 , loss:  0.24509192\n",
      "Iteration:  7000 , loss:  0.23470952\n",
      "Iteration:  8000 , loss:  0.22451769\n",
      "Iteration:  9000 , loss:  0.21639496\n",
      "Generating 19th sample by deep ensemble...\n"
     ]
    },
    {
     "name": "stderr",
     "output_type": "stream",
     "text": [
      "2023-11-30 16:07:52.154391: W tensorflow/c/c_api.cc:305] Operation '{name:'beta2_power_25/Assign' id:26633 op device:{requested: '', assigned: ''} def:{{{node beta2_power_25/Assign}} = AssignVariableOp[_has_manual_control_dependencies=true, dtype=DT_FLOAT, validate_shape=false](beta2_power_25, beta2_power_25/Initializer/initial_value)}}' was changed by setting attribute after it was run by a session. This mutation will have no effect, and will trigger an error in the future. Either don't modify nodes after running them or create a new session.\n"
     ]
    },
    {
     "name": "stdout",
     "output_type": "stream",
     "text": [
      "Iteration:  0 , loss:  7.879312\n",
      "Iteration:  1000 , loss:  0.76967156\n",
      "Iteration:  2000 , loss:  0.56926364\n",
      "Iteration:  3000 , loss:  0.49015403\n",
      "Iteration:  4000 , loss:  0.28334472\n",
      "Iteration:  5000 , loss:  0.25925672\n",
      "Iteration:  6000 , loss:  0.24744053\n",
      "Iteration:  7000 , loss:  0.23394442\n",
      "Iteration:  8000 , loss:  0.2257048\n",
      "Iteration:  9000 , loss:  0.21241048\n",
      "Generating 20th sample by deep ensemble...\n"
     ]
    },
    {
     "name": "stderr",
     "output_type": "stream",
     "text": [
      "2023-11-30 16:08:09.439601: W tensorflow/c/c_api.cc:305] Operation '{name:'beta2_power_25/Assign' id:26633 op device:{requested: '', assigned: ''} def:{{{node beta2_power_25/Assign}} = AssignVariableOp[_has_manual_control_dependencies=true, dtype=DT_FLOAT, validate_shape=false](beta2_power_25, beta2_power_25/Initializer/initial_value)}}' was changed by setting attribute after it was run by a session. This mutation will have no effect, and will trigger an error in the future. Either don't modify nodes after running them or create a new session.\n"
     ]
    },
    {
     "name": "stdout",
     "output_type": "stream",
     "text": [
      "Iteration:  0 , loss:  7.918176\n",
      "Iteration:  1000 , loss:  0.66595954\n",
      "Iteration:  2000 , loss:  0.43042174\n",
      "Iteration:  3000 , loss:  0.2993214\n",
      "Iteration:  4000 , loss:  0.26719505\n",
      "Iteration:  5000 , loss:  0.25020757\n",
      "Iteration:  6000 , loss:  0.23908478\n",
      "Iteration:  7000 , loss:  0.22989163\n",
      "Iteration:  8000 , loss:  0.22167721\n",
      "Iteration:  9000 , loss:  0.2136102\n",
      "Generating 21th sample by deep ensemble...\n"
     ]
    },
    {
     "name": "stderr",
     "output_type": "stream",
     "text": [
      "2023-11-30 16:08:27.216729: W tensorflow/c/c_api.cc:305] Operation '{name:'beta2_power_25/Assign' id:26633 op device:{requested: '', assigned: ''} def:{{{node beta2_power_25/Assign}} = AssignVariableOp[_has_manual_control_dependencies=true, dtype=DT_FLOAT, validate_shape=false](beta2_power_25, beta2_power_25/Initializer/initial_value)}}' was changed by setting attribute after it was run by a session. This mutation will have no effect, and will trigger an error in the future. Either don't modify nodes after running them or create a new session.\n"
     ]
    },
    {
     "name": "stdout",
     "output_type": "stream",
     "text": [
      "Iteration:  0 , loss:  7.815747\n",
      "Iteration:  1000 , loss:  0.6972801\n",
      "Iteration:  2000 , loss:  0.54226905\n",
      "Iteration:  3000 , loss:  0.5056922\n",
      "Iteration:  4000 , loss:  0.45128253\n",
      "Iteration:  5000 , loss:  0.4155446\n",
      "Iteration:  6000 , loss:  0.39137462\n",
      "Iteration:  7000 , loss:  0.37061283\n",
      "Iteration:  8000 , loss:  0.33534122\n",
      "Iteration:  9000 , loss:  0.23247781\n",
      "Generating 22th sample by deep ensemble...\n"
     ]
    },
    {
     "name": "stderr",
     "output_type": "stream",
     "text": [
      "2023-11-30 16:08:44.929547: W tensorflow/c/c_api.cc:305] Operation '{name:'beta2_power_25/Assign' id:26633 op device:{requested: '', assigned: ''} def:{{{node beta2_power_25/Assign}} = AssignVariableOp[_has_manual_control_dependencies=true, dtype=DT_FLOAT, validate_shape=false](beta2_power_25, beta2_power_25/Initializer/initial_value)}}' was changed by setting attribute after it was run by a session. This mutation will have no effect, and will trigger an error in the future. Either don't modify nodes after running them or create a new session.\n"
     ]
    },
    {
     "name": "stdout",
     "output_type": "stream",
     "text": [
      "Iteration:  0 , loss:  7.8457694\n",
      "Iteration:  1000 , loss:  0.6685902\n",
      "Iteration:  2000 , loss:  0.546583\n",
      "Iteration:  3000 , loss:  0.38402465\n",
      "Iteration:  4000 , loss:  0.28270045\n",
      "Iteration:  5000 , loss:  0.2447469\n",
      "Iteration:  6000 , loss:  0.22865878\n",
      "Iteration:  7000 , loss:  0.21801834\n",
      "Iteration:  8000 , loss:  0.205655\n",
      "Iteration:  9000 , loss:  0.1961604\n",
      "Generating 23th sample by deep ensemble...\n"
     ]
    },
    {
     "name": "stderr",
     "output_type": "stream",
     "text": [
      "2023-11-30 16:09:02.440844: W tensorflow/c/c_api.cc:305] Operation '{name:'beta2_power_25/Assign' id:26633 op device:{requested: '', assigned: ''} def:{{{node beta2_power_25/Assign}} = AssignVariableOp[_has_manual_control_dependencies=true, dtype=DT_FLOAT, validate_shape=false](beta2_power_25, beta2_power_25/Initializer/initial_value)}}' was changed by setting attribute after it was run by a session. This mutation will have no effect, and will trigger an error in the future. Either don't modify nodes after running them or create a new session.\n"
     ]
    },
    {
     "name": "stdout",
     "output_type": "stream",
     "text": [
      "Iteration:  0 , loss:  8.237691\n",
      "Iteration:  1000 , loss:  0.66476375\n",
      "Iteration:  2000 , loss:  0.45916215\n",
      "Iteration:  3000 , loss:  0.31558514\n",
      "Iteration:  4000 , loss:  0.27094004\n",
      "Iteration:  5000 , loss:  0.25517496\n",
      "Iteration:  6000 , loss:  0.23449172\n",
      "Iteration:  7000 , loss:  0.19326717\n",
      "Iteration:  8000 , loss:  0.14627557\n",
      "Iteration:  9000 , loss:  0.12581891\n",
      "Generating 24th sample by deep ensemble...\n"
     ]
    },
    {
     "name": "stderr",
     "output_type": "stream",
     "text": [
      "2023-11-30 16:09:20.232404: W tensorflow/c/c_api.cc:305] Operation '{name:'beta2_power_25/Assign' id:26633 op device:{requested: '', assigned: ''} def:{{{node beta2_power_25/Assign}} = AssignVariableOp[_has_manual_control_dependencies=true, dtype=DT_FLOAT, validate_shape=false](beta2_power_25, beta2_power_25/Initializer/initial_value)}}' was changed by setting attribute after it was run by a session. This mutation will have no effect, and will trigger an error in the future. Either don't modify nodes after running them or create a new session.\n"
     ]
    },
    {
     "name": "stdout",
     "output_type": "stream",
     "text": [
      "Iteration:  0 , loss:  7.858795\n",
      "Iteration:  1000 , loss:  0.7006428\n",
      "Iteration:  2000 , loss:  0.5459784\n",
      "Iteration:  3000 , loss:  0.37377656\n",
      "Iteration:  4000 , loss:  0.29367387\n",
      "Iteration:  5000 , loss:  0.2631641\n",
      "Iteration:  6000 , loss:  0.23121406\n",
      "Iteration:  7000 , loss:  0.21761578\n",
      "Iteration:  8000 , loss:  0.19839911\n",
      "Iteration:  9000 , loss:  0.19140452\n",
      "Generating 25th sample by deep ensemble...\n"
     ]
    },
    {
     "name": "stderr",
     "output_type": "stream",
     "text": [
      "2023-11-30 16:09:37.795474: W tensorflow/c/c_api.cc:305] Operation '{name:'beta2_power_25/Assign' id:26633 op device:{requested: '', assigned: ''} def:{{{node beta2_power_25/Assign}} = AssignVariableOp[_has_manual_control_dependencies=true, dtype=DT_FLOAT, validate_shape=false](beta2_power_25, beta2_power_25/Initializer/initial_value)}}' was changed by setting attribute after it was run by a session. This mutation will have no effect, and will trigger an error in the future. Either don't modify nodes after running them or create a new session.\n"
     ]
    },
    {
     "name": "stdout",
     "output_type": "stream",
     "text": [
      "Iteration:  0 , loss:  8.166614\n",
      "Iteration:  1000 , loss:  0.7628298\n",
      "Iteration:  2000 , loss:  0.4264033\n",
      "Iteration:  3000 , loss:  0.34394294\n",
      "Iteration:  4000 , loss:  0.27911457\n",
      "Iteration:  5000 , loss:  0.2577656\n",
      "Iteration:  6000 , loss:  0.2388841\n",
      "Iteration:  7000 , loss:  0.21855973\n",
      "Iteration:  8000 , loss:  0.1946244\n",
      "Iteration:  9000 , loss:  0.17853227\n",
      "Generating 26th sample by deep ensemble...\n"
     ]
    },
    {
     "name": "stderr",
     "output_type": "stream",
     "text": [
      "2023-11-30 16:09:55.266801: W tensorflow/c/c_api.cc:305] Operation '{name:'beta2_power_25/Assign' id:26633 op device:{requested: '', assigned: ''} def:{{{node beta2_power_25/Assign}} = AssignVariableOp[_has_manual_control_dependencies=true, dtype=DT_FLOAT, validate_shape=false](beta2_power_25, beta2_power_25/Initializer/initial_value)}}' was changed by setting attribute after it was run by a session. This mutation will have no effect, and will trigger an error in the future. Either don't modify nodes after running them or create a new session.\n"
     ]
    },
    {
     "name": "stdout",
     "output_type": "stream",
     "text": [
      "Iteration:  0 , loss:  7.865403\n",
      "Iteration:  1000 , loss:  0.76483375\n",
      "Iteration:  2000 , loss:  0.54001814\n",
      "Iteration:  3000 , loss:  0.37071297\n",
      "Iteration:  4000 , loss:  0.27514055\n",
      "Iteration:  5000 , loss:  0.24903964\n",
      "Iteration:  6000 , loss:  0.23403013\n",
      "Iteration:  7000 , loss:  0.22096586\n",
      "Iteration:  8000 , loss:  0.20935386\n",
      "Iteration:  9000 , loss:  0.2001505\n",
      "Generating 27th sample by deep ensemble...\n"
     ]
    },
    {
     "name": "stderr",
     "output_type": "stream",
     "text": [
      "2023-11-30 16:10:12.413112: W tensorflow/c/c_api.cc:305] Operation '{name:'beta2_power_25/Assign' id:26633 op device:{requested: '', assigned: ''} def:{{{node beta2_power_25/Assign}} = AssignVariableOp[_has_manual_control_dependencies=true, dtype=DT_FLOAT, validate_shape=false](beta2_power_25, beta2_power_25/Initializer/initial_value)}}' was changed by setting attribute after it was run by a session. This mutation will have no effect, and will trigger an error in the future. Either don't modify nodes after running them or create a new session.\n"
     ]
    },
    {
     "name": "stdout",
     "output_type": "stream",
     "text": [
      "Iteration:  0 , loss:  7.842731\n",
      "Iteration:  1000 , loss:  0.6695824\n",
      "Iteration:  2000 , loss:  0.4277654\n",
      "Iteration:  3000 , loss:  0.30727488\n",
      "Iteration:  4000 , loss:  0.25946897\n",
      "Iteration:  5000 , loss:  0.24460065\n",
      "Iteration:  6000 , loss:  0.23009251\n",
      "Iteration:  7000 , loss:  0.22084205\n",
      "Iteration:  8000 , loss:  0.2127181\n",
      "Iteration:  9000 , loss:  0.20597912\n",
      "Generating 28th sample by deep ensemble...\n"
     ]
    },
    {
     "name": "stderr",
     "output_type": "stream",
     "text": [
      "2023-11-30 16:10:32.884764: W tensorflow/c/c_api.cc:305] Operation '{name:'beta2_power_25/Assign' id:26633 op device:{requested: '', assigned: ''} def:{{{node beta2_power_25/Assign}} = AssignVariableOp[_has_manual_control_dependencies=true, dtype=DT_FLOAT, validate_shape=false](beta2_power_25, beta2_power_25/Initializer/initial_value)}}' was changed by setting attribute after it was run by a session. This mutation will have no effect, and will trigger an error in the future. Either don't modify nodes after running them or create a new session.\n"
     ]
    },
    {
     "name": "stdout",
     "output_type": "stream",
     "text": [
      "Iteration:  0 , loss:  7.815374\n",
      "Iteration:  1000 , loss:  0.69344014\n",
      "Iteration:  2000 , loss:  0.45306534\n",
      "Iteration:  3000 , loss:  0.31467977\n",
      "Iteration:  4000 , loss:  0.26773787\n",
      "Iteration:  5000 , loss:  0.24977341\n",
      "Iteration:  6000 , loss:  0.23694725\n",
      "Iteration:  7000 , loss:  0.22640465\n",
      "Iteration:  8000 , loss:  0.21341969\n",
      "Iteration:  9000 , loss:  0.19516996\n",
      "Generating 29th sample by deep ensemble...\n"
     ]
    },
    {
     "name": "stderr",
     "output_type": "stream",
     "text": [
      "2023-11-30 16:10:50.022295: W tensorflow/c/c_api.cc:305] Operation '{name:'beta2_power_25/Assign' id:26633 op device:{requested: '', assigned: ''} def:{{{node beta2_power_25/Assign}} = AssignVariableOp[_has_manual_control_dependencies=true, dtype=DT_FLOAT, validate_shape=false](beta2_power_25, beta2_power_25/Initializer/initial_value)}}' was changed by setting attribute after it was run by a session. This mutation will have no effect, and will trigger an error in the future. Either don't modify nodes after running them or create a new session.\n"
     ]
    },
    {
     "name": "stdout",
     "output_type": "stream",
     "text": [
      "Iteration:  0 , loss:  7.9607635\n",
      "Iteration:  1000 , loss:  0.6823279\n",
      "Iteration:  2000 , loss:  0.516796\n",
      "Iteration:  3000 , loss:  0.30645493\n",
      "Iteration:  4000 , loss:  0.27199948\n",
      "Iteration:  5000 , loss:  0.26073998\n",
      "Iteration:  6000 , loss:  0.25192448\n",
      "Iteration:  7000 , loss:  0.24304076\n",
      "Iteration:  8000 , loss:  0.23319572\n",
      "Iteration:  9000 , loss:  0.22393525\n",
      "Execution time for 'Trainable' function is: 530.795 s, 8.847 mins\n"
     ]
    }
   ],
   "source": [
    "# -*- coding: utf-8 -*-\n",
    "\"\"\"\n",
    "Created on Wed Oct  4 16:14:30 2023\n",
    "\n",
    "@author: Antonina\n",
    "\"\"\"\n",
    "\n",
    "#%%\n",
    "# Simulated SDOF with:\n",
    "#K_true=10;\n",
    "# C_true=0.2236; %system damping ratio 5%\n",
    "\n",
    "# m=5; %mass for sdof example\n",
    "\n",
    "def load_data(noise):\n",
    "\n",
    "    #data = sio.loadmat(r\"G:\\My Drive\\Python_codes\\NNs\\sdof_ymeas.mat\")\n",
    "    data = sio.loadmat(\"Data/sin_force_noise.mat\")\n",
    "    #  t_x_train, t_f_train = data[\"t\"], data[\"ymeas\"]\n",
    "    # data = matdata['data']\n",
    "    x_tt_train, t_train = data[\"a\"], data[\"t\"]\n",
    "    x_train, f_train = data[\"u\"], data[\"force\"]\n",
    "    # Input_train=t, x_tt\n",
    "    # train_x_tt = t_x_tt_train, x_train\n",
    "    # train_f = t_f_train, f_train\n",
    "\n",
    "    return  x_tt_train, t_train.T, x_train, f_train.T\n",
    "\n",
    "#m=1\n",
    "# [0][..., 0:1]     \n",
    "\n",
    "def pde_fn(t, x, f, log_c, log_k):\n",
    "    # log_k=tf.clip_by_value(log_k,np.log(0),np.log(20)) # to make constraints for the parameters\n",
    "    # log_c=tf.clip_by_value(log_c,np.log(0),np.log(0.5))\n",
    "    x_t = tf.gradients(x, t)     #velocity                                                                                                                                                                                                                   \n",
    "    # x_tt = tf.gradients(x_t, t) [0]\n",
    "    m=5 \n",
    "    x_tt=(f-tf.exp(log_c) * x_t - tf.exp(log_k) * x)/m\n",
    "    # f - tf.multiply(x_tt, 5.0)+ tf.exp(log_c) * x_t + tf.exp(log_k) * x\n",
    "    # return [f,x_tt]\n",
    "    return x_tt\n",
    "\n",
    "def pde_xtt(t,x):\n",
    "    x_t = tf.gradients(x, t)                                                                                                                                                                                                               \n",
    "    x_tt = tf.gradients(x_t, t) \n",
    "    \n",
    "    return x_tt\n",
    "    \n",
    "@neuq.utils.timer\n",
    "def Trainable(\n",
    "   x_tt_train, t_train, x_train, f_train, noise, layers, \n",
    "):\n",
    "    # build processes\n",
    "  \n",
    "    process_x = neuq.process.Process(\n",
    "        surrogate=neuq.surrogates.FNN(layers=layers),\n",
    "        posterior=neuq_vars.fnn.Trainable(layers=layers, regularizer=tf.keras.regularizers.l2(1e-5)),# displacement\n",
    "    \n",
    "    )\n",
    "    process_f = neuq.process.Process(\n",
    "        surrogate=neuq.surrogates.FNN(layers=layers),  #, activation=tf.sigmoid\n",
    "        posterior=neuq_vars.fnn.Trainable( layers=layers), #, regularizer=tf.keras.regularizers.l2(1e-5)\n",
    "    )\n",
    "    \n",
    "    process_log_c = neuq.process.Process(\n",
    "        surrogate=neuq.surrogates.Identity(),\n",
    "        posterior=neuq_vars.const.Trainable(value=0),\n",
    "    )\n",
    "    process_log_k = neuq.process.Process(\n",
    "        surrogate=neuq.surrogates.Identity(),\n",
    "        posterior=neuq_vars.const.Trainable(value=0),\n",
    "    )\n",
    "    method = neuq.inferences.DEns(\n",
    "        num_samples=30, num_iterations=10000, optimizer=tf.train.AdamOptimizer(1e-3),\n",
    "    )\n",
    "\n",
    "    # posterior = neuq_vars.pfnn.Trainable(\n",
    "    #     layers=layers, num=10, regularizer=tf.keras.regularizers.l2(1e-5),\n",
    "    # )\n",
    "    \n",
    "    # method = neuq.inferences.DEns(\n",
    "    #     num_iterations=10000,\n",
    "    #     optimizer=tf.train.AdamOptimizer(1e-3),\n",
    "    #     is_parallelized=True,\n",
    "    # )\n",
    "    # build losses\n",
    "    loss_x = neuq.likelihoods.MSE(\n",
    "        inputs=t_train,\n",
    "        targets=x_tt_train, # could be the problem\n",
    "        processes=[process_x],\n",
    "        pde=pde_xtt, # dotdot _X\n",
    "        multiplier=1,\n",
    "    )\n",
    "    \n",
    "    loss_f = neuq.likelihoods.MSE(\n",
    "        inputs=t_train,\n",
    "        targets=x_tt_train, # minimizing the loss to be close to zero\n",
    "         # targets=np.zeros_like(t_train), # minimizing the loss to be close to zero\n",
    "        processes=[process_x, process_f, process_log_c, process_log_k], # tf train\n",
    "        pde=pde_fn,\n",
    "        multiplier=1,\n",
    "    )\n",
    "    # build model\n",
    "    model = neuq.models.Model(\n",
    "        processes=[process_x, process_f, process_log_c, process_log_k],\n",
    "        likelihoods=[loss_x, loss_f],\n",
    "    )\n",
    "    # assign and compile method\n",
    "    model.compile(method)\n",
    "    # obtain posterior samples\n",
    "    samples = model.run()\n",
    "    # samples,results = model.run()\n",
    "    # print(\"Acceptance rate: %.3f \\n\" % (np.mean(results)))\n",
    "    \n",
    "    processes = [process_x, process_f, process_log_c, process_log_k]\n",
    "    return processes, samples, model\n",
    "\n",
    "\n",
    "if __name__ == \"__main__\":\n",
    "\n",
    "    noise = 0\n",
    "\n",
    "    x_tt_train, t_train, x_train, f_train = load_data(noise)\n",
    "\n",
    "    # t_x_tt_train, x_tt_train = train_x_tt\n",
    "    # t_f_train, f_train = train_f\n",
    "\n",
    "    layers = [1, 20, 20, 1]\n",
    "    # layers_force = [1, 20, 20, 1]\n",
    "    processes, samples, model = Trainable(\n",
    "        x_tt_train, t_train, x_train, f_train, noise, layers, \n",
    "    )\n",
    "\n",
    "\n",
    "    x_pred, f_pred, logc_pred, logk_pred = model.predict(t_train, samples, processes, pde_fn=None)\n",
    "    (xtt_pred,) = model.predict(t_train, samples, processes, pde_fn=pde_fn)\n"
   ]
  },
  {
   "cell_type": "code",
   "execution_count": 134,
   "id": "dffe425c-51e2-4b35-9a19-35bd6df57b42",
   "metadata": {},
   "outputs": [
    {
     "data": {
      "text/plain": [
       "<matplotlib.legend.Legend at 0x7fe1e585b990>"
      ]
     },
     "execution_count": 134,
     "metadata": {},
     "output_type": "execute_result"
    },
    {
     "data": {
      "image/png": "[encoded data removed]",
      "text/plain": [
       "<Figure size 640x480 with 1 Axes>"
      ]
     },
     "metadata": {},
     "output_type": "display_data"
    }
   ],
   "source": [
    "# [a.shape for a in samples]\n",
    "# plt.plot(t_train,np.mean(x_pred,axis=(0, 2)),label='Predicted displacement')\n",
    "# plt.plot(t_train,x_train,'r',label='Actual displacement')\n",
    "# plt.legend()\n",
    "# plt.plot(t_train,np.mean(x_pred,axis=(0, 2)),label='Predicted displacement')\n",
    "# plt.plot(t_train,x_train,'r',label='Actual displacement')\n",
    "# plt.legend()\n",
    "x_pred.shape\n",
    "plt.plot(x_pred[9,:,0],'b',label='Predicted displacement')\n",
    "plt.plot(x_train,'r',label='Actual displacement')\n",
    "plt.legend()"
   ]
  },
  {
   "cell_type": "code",
   "execution_count": 103,
   "id": "c18a3ec6-c2c0-49c4-a399-376974e47076",
   "metadata": {},
   "outputs": [
    {
     "data": {
      "text/plain": [
       "(10, 2000, 1)"
      ]
     },
     "execution_count": 103,
     "metadata": {},
     "output_type": "execute_result"
    }
   ],
   "source": [
    "x_pred.shape"
   ]
  },
  {
   "cell_type": "code",
   "execution_count": 135,
   "id": "d607e600-e54a-4409-a3f2-e987593403f0",
   "metadata": {},
   "outputs": [
    {
     "data": {
      "text/plain": [
       "<matplotlib.legend.Legend at 0x7fe1e5867990>"
      ]
     },
     "execution_count": 135,
     "metadata": {},
     "output_type": "execute_result"
    },
    {
     "data": {
      "image/png": "[encoded data removed]",
      "text/plain": [
       "<Figure size 640x480 with 1 Axes>"
      ]
     },
     "metadata": {},
     "output_type": "display_data"
    }
   ],
   "source": [
    "xtt_pred.shape\n",
    "plt.plot(xtt_pred[0,9,:,9],'b',label='Predicted acceleration(xtt_pred)')\n",
    "plt.plot(x_tt_train,'r',label='Actual acceleration (x_tt_train)')\n",
    "plt.legend()"
   ]
  },
  {
   "cell_type": "code",
   "execution_count": 136,
   "id": "a3d811bf-a64c-4ebf-a356-2f5e6b719c20",
   "metadata": {},
   "outputs": [
    {
     "data": {
      "text/plain": [
       "<matplotlib.legend.Legend at 0x7fe1e567f990>"
      ]
     },
     "execution_count": 136,
     "metadata": {},
     "output_type": "execute_result"
    },
    {
     "data": {
      "image/png": "[encoded data removed]",
      "text/plain": [
       "<Figure size 640x480 with 1 Axes>"
      ]
     },
     "metadata": {},
     "output_type": "display_data"
    }
   ],
   "source": [
    "# (f_pred,) = model.predict(t_train, samples, processes, pde_fn=pde_fn)\n",
    "plt.plot(t_train,np.mean(f_pred,axis=(0, 2)),label='Predicted force')\n",
    "plt.plot(t_train,f_train,'r',label='Actual force')\n",
    "plt.legend()"
   ]
  },
  {
   "cell_type": "code",
   "execution_count": null,
   "id": "73f60af6-22e4-4626-abb4-a038e1b6b7d9",
   "metadata": {},
   "outputs": [],
   "source": [
    "# x_pred, logc_pred, logk_pred = model.predict(t_train, samples, processes, pde_fn=None)\n",
    "# x_pred, logc_pred, logk_pred = model.predict(t_train, samples, processes, pde_fn=pde_fn)\n",
    "# f_pred.shape\n",
    "# plt.plot(xtt_pred[0].flatten())\n",
    "# plt.plot(x_tt_train)"
   ]
  },
  {
   "cell_type": "code",
   "execution_count": 137,
   "id": "5ed87f00-b366-42cd-bf10-195553192995",
   "metadata": {},
   "outputs": [
    {
     "data": {
      "image/png": "[encoded data removed]",
      "text/plain": [
       "<Figure size 640x480 with 1 Axes>"
      ]
     },
     "metadata": {},
     "output_type": "display_data"
    },
    {
     "data": {
      "image/png": "[encoded data removed]",
      "text/plain": [
       "<Figure size 640x480 with 1 Axes>"
      ]
     },
     "metadata": {},
     "output_type": "display_data"
    }
   ],
   "source": [
    "neuq.utils.hist(np.exp(logk_pred).flatten(), name=\"value of $k$\")\n",
    "neuq.utils.hist(np.exp(logc_pred).flatten(), name=\"value of $c$\")"
   ]
  },
  {
   "cell_type": "code",
   "execution_count": 138,
   "id": "f120771f-9a44-4a42-9ac5-f6e3b75c22d8",
   "metadata": {},
   "outputs": [
    {
     "name": "stdout",
     "output_type": "stream",
     "text": [
      "K_true=10(N/m) and K_post = 10.948364\n",
      "C_true=0.22(Ns/m) and C_post = 4.017747\n"
     ]
    }
   ],
   "source": [
    "K_post=np.mean(np.exp(logk_pred))\n",
    "print(\"K_true=10(N/m) and K_post =\", K_post) \n",
    "C_post=np.mean(np.exp(logc_pred))\n",
    "print(\"C_true=0.22(Ns/m) and C_post =\", C_post) "
   ]
  },
  {
   "cell_type": "code",
   "execution_count": null,
   "id": "3643cf6a-e0bf-4e8e-870f-a9cee762ee09",
   "metadata": {},
   "outputs": [],
   "source": []
  }
 ],
 "metadata": {
  "kernelspec": {
   "display_name": "Python 3 (ipykernel)",
   "language": "python",
   "name": "python3"
  },
  "language_info": {
   "codemirror_mode": {
    "name": "ipython",
    "version": 3
   },
   "file_extension": ".py",
   "mimetype": "text/x-python",
   "name": "python",
   "nbconvert_exporter": "python",
   "pygments_lexer": "ipython3",
   "version": "3.11.0rc1"
  }
 },
 "nbformat": 4,
 "nbformat_minor": 5
}
