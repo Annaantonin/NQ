{
 "cells": [
  {
   "cell_type": "code",
   "execution_count": null,
   "id": "e322b318-2b90-46a0-9afe-8494aef96820",
   "metadata": {},
   "outputs": [],
   "source": [
    "# import tensorflow as tf"
   ]
  },
  {
   "cell_type": "code",
   "execution_count": null,
   "id": "f61dc19c-5812-42e6-ad25-9026eeffbe1a",
   "metadata": {
    "scrolled": true
   },
   "outputs": [],
   "source": [
    "from tensorflow.python.client import device_lib \n",
    "print(device_lib.list_local_devices())"
   ]
  },
  {
   "cell_type": "code",
   "execution_count": 2,
   "id": "7532903d-d511-422b-97d5-3a3f2a708c1d",
   "metadata": {},
   "outputs": [],
   "source": [
    "# os.chdir(\"/mnt/\")\n",
    "import neuraluq as neuq\n",
    "import neuraluq.variables as neuq_vars\n",
    "from neuraluq.config import tf\n",
    "\n",
    "import numpy as np\n",
    "import scipy.io as sio\n",
    "from scipy.io import loadmat\n",
    "\n",
    "import matplotlib.pyplot as plt"
   ]
  },
  {
   "cell_type": "code",
   "execution_count": 5,
   "id": "be4cc8e8-f845-4714-8b58-c74458a6af25",
   "metadata": {},
   "outputs": [
    {
     "name": "stdout",
     "output_type": "stream",
     "text": [
      "fatal: destination path 'Data' already exists and is not an empty directory.\n"
     ]
    }
   ],
   "source": [
    "!git clone https://github.com/Annaantonin/Data.git"
   ]
  },
  {
   "cell_type": "code",
   "execution_count": 125,
   "id": "93b9f1b7-e21e-4eb2-a1ca-971823b01db1",
   "metadata": {},
   "outputs": [],
   "source": [
    "rm -rf Data"
   ]
  },
  {
   "cell_type": "code",
   "execution_count": null,
   "id": "cd0a06a5",
   "metadata": {},
   "outputs": [],
   "source": [
    "# !git clone https://github.com/Crunch-UQ4MI/neuraluq.git"
   ]
  },
  {
   "cell_type": "code",
   "execution_count": 4,
   "id": "e4b37278-49a5-4032-a14d-0340efed0a57",
   "metadata": {},
   "outputs": [],
   "source": [
    "import Data as data\n",
    "# data = sio.loadmat(\"Data/sdof_2000.mat\")"
   ]
  },
  {
   "cell_type": "code",
   "execution_count": null,
   "id": "86f2c4ab-fc67-4785-8d75-8670ae5dd47f",
   "metadata": {},
   "outputs": [],
   "source": [
    "!git clone https://github.com/Crunch-UQ4MI/neuraluq.git\n",
    "#!git clone https://github.com/Annaantonin/Data.git\n",
    "!pip install tensorflow-probability\n",
    "!pip install scipy\n",
    "import os\n",
    "# os.chdir(\"/tf/neuraluq/\")\n",
    "!python setup.py install"
   ]
  },
  {
   "cell_type": "code",
   "execution_count": null,
   "id": "e21a150d-287e-4f67-bd61-a0e9fbfc111d",
   "metadata": {},
   "outputs": [],
   "source": [
    "os.listdir(\".\")"
   ]
  },
  {
   "cell_type": "code",
   "execution_count": null,
   "id": "063426be-c1d2-496c-b315-9e8ad05eb58e",
   "metadata": {},
   "outputs": [],
   "source": []
  },
  {
   "cell_type": "code",
   "execution_count": 3,
   "id": "4808f03e-0c15-4ccb-beff-bff94a5e64be",
   "metadata": {},
   "outputs": [
    {
     "name": "stderr",
     "output_type": "stream",
     "text": [
      "2023-12-19 13:10:22.224992: I tensorflow/compiler/xla/stream_executor/cuda/cuda_gpu_executor.cc:880] could not open file to read NUMA node: /sys/bus/pci/devices/0000:01:00.0/numa_node\n",
      "Your kernel may have been built without NUMA support.\n",
      "2023-12-19 13:10:22.225050: I tensorflow/compiler/xla/stream_executor/cuda/cuda_gpu_executor.cc:880] could not open file to read NUMA node: /sys/bus/pci/devices/0000:01:00.0/numa_node\n",
      "Your kernel may have been built without NUMA support.\n",
      "2023-12-19 13:10:22.225059: I tensorflow/compiler/xla/stream_executor/cuda/cuda_gpu_executor.cc:880] could not open file to read NUMA node: /sys/bus/pci/devices/0000:01:00.0/numa_node\n",
      "Your kernel may have been built without NUMA support.\n",
      "2023-12-19 13:10:22.225220: I tensorflow/compiler/xla/stream_executor/cuda/cuda_gpu_executor.cc:880] could not open file to read NUMA node: /sys/bus/pci/devices/0000:01:00.0/numa_node\n",
      "Your kernel may have been built without NUMA support.\n",
      "2023-12-19 13:10:22.225230: I tensorflow/compiler/xla/stream_executor/cuda/cuda_gpu_executor.cc:880] could not open file to read NUMA node: /sys/bus/pci/devices/0000:01:00.0/numa_node\n",
      "Your kernel may have been built without NUMA support.\n",
      "2023-12-19 13:10:22.225237: I tensorflow/compiler/xla/stream_executor/cuda/cuda_gpu_executor.cc:880] could not open file to read NUMA node: /sys/bus/pci/devices/0000:01:00.0/numa_node\n",
      "Your kernel may have been built without NUMA support.\n",
      "2023-12-19 13:10:22.225832: I tensorflow/compiler/xla/stream_executor/cuda/cuda_gpu_executor.cc:880] could not open file to read NUMA node: /sys/bus/pci/devices/0000:01:00.0/numa_node\n",
      "Your kernel may have been built without NUMA support.\n",
      "2023-12-19 13:10:22.225858: I tensorflow/core/common_runtime/gpu/gpu_device.cc:1977] Could not identify NUMA node of platform GPU id 0, defaulting to 0.  Your kernel may not have been built with NUMA support.\n",
      "2023-12-19 13:10:22.225876: I tensorflow/compiler/xla/stream_executor/cuda/cuda_gpu_executor.cc:880] could not open file to read NUMA node: /sys/bus/pci/devices/0000:01:00.0/numa_node\n",
      "Your kernel may have been built without NUMA support.\n",
      "2023-12-19 13:10:22.225889: I tensorflow/core/common_runtime/gpu/gpu_device.cc:1886] Created device /job:localhost/replica:0/task:0/device:GPU:0 with 5348 MB memory:  -> device: 0, name: NVIDIA GeForce RTX 4070 Laptop GPU, pci bus id: 0000:01:00.0, compute capability: 8.9\n",
      "2023-12-19 13:10:22.230485: I tensorflow/compiler/mlir/mlir_graph_optimization_pass.cc:382] MLIR V1 optimization pass is not enabled\n"
     ]
    },
    {
     "name": "stdout",
     "output_type": "stream",
     "text": [
      "Supporting backend tensorflow.compat.v1\n",
      "\n",
      "Compiling a Ensemble method\n",
      "\n",
      "Generating 0th sample by deep ensemble...\n"
     ]
    },
    {
     "name": "stderr",
     "output_type": "stream",
     "text": [
      "2023-12-19 13:10:22.624763: W tensorflow/c/c_api.cc:305] Operation '{name:'Variable_13/Assign' id:100 op device:{requested: '', assigned: ''} def:{{{node Variable_13/Assign}} = AssignVariableOp[_has_manual_control_dependencies=true, dtype=DT_FLOAT, validate_shape=false](Variable_13, Const_1)}}' was changed by setting attribute after it was run by a session. This mutation will have no effect, and will trigger an error in the future. Either don't modify nodes after running them or create a new session.\n"
     ]
    },
    {
     "name": "stdout",
     "output_type": "stream",
     "text": [
      "Iteration:  0 , loss:  131.93913\n",
      "Iteration:  1000 , loss:  2.7557726\n",
      "Iteration:  2000 , loss:  1.7367238\n",
      "Iteration:  3000 , loss:  0.8334429\n",
      "Iteration:  4000 , loss:  0.275072\n",
      "Iteration:  5000 , loss:  0.040426675\n",
      "Iteration:  6000 , loss:  0.022668313\n",
      "Iteration:  7000 , loss:  0.019074727\n",
      "Iteration:  8000 , loss:  0.013214987\n",
      "Iteration:  9000 , loss:  0.008483087\n",
      "Generating 1th sample by deep ensemble...\n",
      "Iteration:  0 , loss:  131.8386\n"
     ]
    },
    {
     "name": "stderr",
     "output_type": "stream",
     "text": [
      "2023-12-19 13:10:51.217944: W tensorflow/c/c_api.cc:305] Operation '{name:'beta2_power/Assign' id:1084 op device:{requested: '', assigned: ''} def:{{{node beta2_power/Assign}} = AssignVariableOp[_has_manual_control_dependencies=true, dtype=DT_FLOAT, validate_shape=false](beta2_power, beta2_power/Initializer/initial_value)}}' was changed by setting attribute after it was run by a session. This mutation will have no effect, and will trigger an error in the future. Either don't modify nodes after running them or create a new session.\n"
     ]
    },
    {
     "name": "stdout",
     "output_type": "stream",
     "text": [
      "Iteration:  1000 , loss:  3.1467645\n",
      "Iteration:  2000 , loss:  1.7698687\n",
      "Iteration:  3000 , loss:  0.9261373\n",
      "Iteration:  4000 , loss:  0.2026272\n",
      "Iteration:  5000 , loss:  0.04378416\n",
      "Iteration:  6000 , loss:  0.033743683\n",
      "Iteration:  7000 , loss:  0.023508899\n",
      "Iteration:  8000 , loss:  0.012003948\n",
      "Iteration:  9000 , loss:  0.006460865\n",
      "Generating 2th sample by deep ensemble...\n",
      "Iteration:  0 , loss:  132.03365\n"
     ]
    },
    {
     "name": "stderr",
     "output_type": "stream",
     "text": [
      "2023-12-19 13:11:20.612390: W tensorflow/c/c_api.cc:305] Operation '{name:'beta2_power/Assign' id:1084 op device:{requested: '', assigned: ''} def:{{{node beta2_power/Assign}} = AssignVariableOp[_has_manual_control_dependencies=true, dtype=DT_FLOAT, validate_shape=false](beta2_power, beta2_power/Initializer/initial_value)}}' was changed by setting attribute after it was run by a session. This mutation will have no effect, and will trigger an error in the future. Either don't modify nodes after running them or create a new session.\n"
     ]
    },
    {
     "name": "stdout",
     "output_type": "stream",
     "text": [
      "Iteration:  1000 , loss:  2.824587\n",
      "Iteration:  2000 , loss:  1.6982415\n",
      "Iteration:  3000 , loss:  1.1471453\n",
      "Iteration:  4000 , loss:  0.3113517\n",
      "Iteration:  5000 , loss:  0.042188097\n",
      "Iteration:  6000 , loss:  0.024222374\n",
      "Iteration:  7000 , loss:  0.01995575\n",
      "Iteration:  8000 , loss:  0.0138900345\n",
      "Iteration:  9000 , loss:  0.011056932\n",
      "Generating 3th sample by deep ensemble...\n",
      "Iteration:  0 , loss:  131.89587\n"
     ]
    },
    {
     "name": "stderr",
     "output_type": "stream",
     "text": [
      "2023-12-19 13:11:48.883928: W tensorflow/c/c_api.cc:305] Operation '{name:'beta2_power/Assign' id:1084 op device:{requested: '', assigned: ''} def:{{{node beta2_power/Assign}} = AssignVariableOp[_has_manual_control_dependencies=true, dtype=DT_FLOAT, validate_shape=false](beta2_power, beta2_power/Initializer/initial_value)}}' was changed by setting attribute after it was run by a session. This mutation will have no effect, and will trigger an error in the future. Either don't modify nodes after running them or create a new session.\n"
     ]
    },
    {
     "name": "stdout",
     "output_type": "stream",
     "text": [
      "Iteration:  1000 , loss:  2.8570132\n",
      "Iteration:  2000 , loss:  1.6949942\n",
      "Iteration:  3000 , loss:  1.3502523\n",
      "Iteration:  4000 , loss:  0.21978971\n",
      "Iteration:  5000 , loss:  0.050322596\n",
      "Iteration:  6000 , loss:  0.03485908\n",
      "Iteration:  7000 , loss:  0.028590726\n",
      "Iteration:  8000 , loss:  0.018637931\n",
      "Iteration:  9000 , loss:  0.014050148\n",
      "Generating 4th sample by deep ensemble...\n",
      "Iteration:  0 , loss:  131.89417\n"
     ]
    },
    {
     "name": "stderr",
     "output_type": "stream",
     "text": [
      "2023-12-19 13:12:19.299904: W tensorflow/c/c_api.cc:305] Operation '{name:'beta2_power/Assign' id:1084 op device:{requested: '', assigned: ''} def:{{{node beta2_power/Assign}} = AssignVariableOp[_has_manual_control_dependencies=true, dtype=DT_FLOAT, validate_shape=false](beta2_power, beta2_power/Initializer/initial_value)}}' was changed by setting attribute after it was run by a session. This mutation will have no effect, and will trigger an error in the future. Either don't modify nodes after running them or create a new session.\n"
     ]
    },
    {
     "name": "stdout",
     "output_type": "stream",
     "text": [
      "Iteration:  1000 , loss:  2.902905\n",
      "Iteration:  2000 , loss:  1.8296599\n",
      "Iteration:  3000 , loss:  1.4087267\n",
      "Iteration:  4000 , loss:  0.32290837\n",
      "Iteration:  5000 , loss:  0.053226363\n",
      "Iteration:  6000 , loss:  0.032157734\n",
      "Iteration:  7000 , loss:  0.02352533\n",
      "Iteration:  8000 , loss:  0.019406158\n",
      "Iteration:  9000 , loss:  0.016222073\n",
      "Generating 5th sample by deep ensemble...\n",
      "Iteration:  0 , loss:  131.88812\n"
     ]
    },
    {
     "name": "stderr",
     "output_type": "stream",
     "text": [
      "2023-12-19 13:12:48.320050: W tensorflow/c/c_api.cc:305] Operation '{name:'beta2_power/Assign' id:1084 op device:{requested: '', assigned: ''} def:{{{node beta2_power/Assign}} = AssignVariableOp[_has_manual_control_dependencies=true, dtype=DT_FLOAT, validate_shape=false](beta2_power, beta2_power/Initializer/initial_value)}}' was changed by setting attribute after it was run by a session. This mutation will have no effect, and will trigger an error in the future. Either don't modify nodes after running them or create a new session.\n"
     ]
    },
    {
     "name": "stdout",
     "output_type": "stream",
     "text": [
      "Iteration:  1000 , loss:  2.3592756\n",
      "Iteration:  2000 , loss:  1.0071644\n",
      "Iteration:  3000 , loss:  0.5722877\n",
      "Iteration:  4000 , loss:  0.12356796\n",
      "Iteration:  5000 , loss:  0.035368398\n",
      "Iteration:  6000 , loss:  0.023977773\n",
      "Iteration:  7000 , loss:  0.01626905\n",
      "Iteration:  8000 , loss:  0.011469877\n",
      "Iteration:  9000 , loss:  0.008107761\n",
      "Generating 6th sample by deep ensemble...\n",
      "Iteration:  0 , loss:  131.90248\n"
     ]
    },
    {
     "name": "stderr",
     "output_type": "stream",
     "text": [
      "2023-12-19 13:13:15.985064: W tensorflow/c/c_api.cc:305] Operation '{name:'beta2_power/Assign' id:1084 op device:{requested: '', assigned: ''} def:{{{node beta2_power/Assign}} = AssignVariableOp[_has_manual_control_dependencies=true, dtype=DT_FLOAT, validate_shape=false](beta2_power, beta2_power/Initializer/initial_value)}}' was changed by setting attribute after it was run by a session. This mutation will have no effect, and will trigger an error in the future. Either don't modify nodes after running them or create a new session.\n"
     ]
    },
    {
     "name": "stdout",
     "output_type": "stream",
     "text": [
      "Iteration:  1000 , loss:  2.5986395\n",
      "Iteration:  2000 , loss:  1.6102543\n",
      "Iteration:  3000 , loss:  0.881963\n",
      "Iteration:  4000 , loss:  0.32761863\n",
      "Iteration:  5000 , loss:  0.047504026\n",
      "Iteration:  6000 , loss:  0.02945875\n",
      "Iteration:  7000 , loss:  0.023369461\n",
      "Iteration:  8000 , loss:  0.01889417\n",
      "Iteration:  9000 , loss:  0.014793221\n",
      "Generating 7th sample by deep ensemble...\n",
      "Iteration:  0 , loss:  131.92764\n"
     ]
    },
    {
     "name": "stderr",
     "output_type": "stream",
     "text": [
      "2023-12-19 13:13:43.306018: W tensorflow/c/c_api.cc:305] Operation '{name:'beta2_power/Assign' id:1084 op device:{requested: '', assigned: ''} def:{{{node beta2_power/Assign}} = AssignVariableOp[_has_manual_control_dependencies=true, dtype=DT_FLOAT, validate_shape=false](beta2_power, beta2_power/Initializer/initial_value)}}' was changed by setting attribute after it was run by a session. This mutation will have no effect, and will trigger an error in the future. Either don't modify nodes after running them or create a new session.\n"
     ]
    },
    {
     "name": "stdout",
     "output_type": "stream",
     "text": [
      "Iteration:  1000 , loss:  2.9155364\n",
      "Iteration:  2000 , loss:  1.7996117\n",
      "Iteration:  3000 , loss:  0.6495964\n",
      "Iteration:  4000 , loss:  0.07904958\n",
      "Iteration:  5000 , loss:  0.030330999\n",
      "Iteration:  6000 , loss:  0.025257662\n",
      "Iteration:  7000 , loss:  0.010546448\n",
      "Iteration:  8000 , loss:  0.009047452\n",
      "Iteration:  9000 , loss:  0.008159867\n",
      "Generating 8th sample by deep ensemble...\n",
      "Iteration:  0 , loss:  131.84201\n"
     ]
    },
    {
     "name": "stderr",
     "output_type": "stream",
     "text": [
      "2023-12-19 13:14:09.844791: W tensorflow/c/c_api.cc:305] Operation '{name:'beta2_power/Assign' id:1084 op device:{requested: '', assigned: ''} def:{{{node beta2_power/Assign}} = AssignVariableOp[_has_manual_control_dependencies=true, dtype=DT_FLOAT, validate_shape=false](beta2_power, beta2_power/Initializer/initial_value)}}' was changed by setting attribute after it was run by a session. This mutation will have no effect, and will trigger an error in the future. Either don't modify nodes after running them or create a new session.\n"
     ]
    },
    {
     "name": "stdout",
     "output_type": "stream",
     "text": [
      "Iteration:  1000 , loss:  2.7942648\n",
      "Iteration:  2000 , loss:  1.720736\n",
      "Iteration:  3000 , loss:  0.6047155\n",
      "Iteration:  4000 , loss:  0.14959505\n",
      "Iteration:  5000 , loss:  0.032168396\n",
      "Iteration:  6000 , loss:  0.018963393\n",
      "Iteration:  7000 , loss:  0.014432631\n",
      "Iteration:  8000 , loss:  0.011704777\n",
      "Iteration:  9000 , loss:  0.010150284\n",
      "Generating 9th sample by deep ensemble...\n",
      "Iteration:  0 , loss:  131.86133\n"
     ]
    },
    {
     "name": "stderr",
     "output_type": "stream",
     "text": [
      "2023-12-19 13:14:37.083096: W tensorflow/c/c_api.cc:305] Operation '{name:'beta2_power/Assign' id:1084 op device:{requested: '', assigned: ''} def:{{{node beta2_power/Assign}} = AssignVariableOp[_has_manual_control_dependencies=true, dtype=DT_FLOAT, validate_shape=false](beta2_power, beta2_power/Initializer/initial_value)}}' was changed by setting attribute after it was run by a session. This mutation will have no effect, and will trigger an error in the future. Either don't modify nodes after running them or create a new session.\n"
     ]
    },
    {
     "name": "stdout",
     "output_type": "stream",
     "text": [
      "Iteration:  1000 , loss:  3.2170043\n",
      "Iteration:  2000 , loss:  1.9171456\n",
      "Iteration:  3000 , loss:  1.5037204\n",
      "Iteration:  4000 , loss:  0.8014598\n",
      "Iteration:  5000 , loss:  0.14108445\n",
      "Iteration:  6000 , loss:  0.028176887\n",
      "Iteration:  7000 , loss:  0.020050678\n",
      "Iteration:  8000 , loss:  0.015348615\n",
      "Iteration:  9000 , loss:  0.012262376\n",
      "Generating 10th sample by deep ensemble...\n",
      "Iteration:  0 , loss:  131.8519\n"
     ]
    },
    {
     "name": "stderr",
     "output_type": "stream",
     "text": [
      "2023-12-19 13:15:03.385021: W tensorflow/c/c_api.cc:305] Operation '{name:'beta2_power/Assign' id:1084 op device:{requested: '', assigned: ''} def:{{{node beta2_power/Assign}} = AssignVariableOp[_has_manual_control_dependencies=true, dtype=DT_FLOAT, validate_shape=false](beta2_power, beta2_power/Initializer/initial_value)}}' was changed by setting attribute after it was run by a session. This mutation will have no effect, and will trigger an error in the future. Either don't modify nodes after running them or create a new session.\n"
     ]
    },
    {
     "name": "stdout",
     "output_type": "stream",
     "text": [
      "Iteration:  1000 , loss:  2.8404436\n",
      "Iteration:  2000 , loss:  1.7566187\n",
      "Iteration:  3000 , loss:  0.6325696\n",
      "Iteration:  4000 , loss:  0.10014615\n",
      "Iteration:  5000 , loss:  0.0353001\n",
      "Iteration:  6000 , loss:  0.025526265\n",
      "Iteration:  7000 , loss:  0.015044674\n",
      "Iteration:  8000 , loss:  0.010690134\n",
      "Iteration:  9000 , loss:  0.00884217\n",
      "Generating 11th sample by deep ensemble...\n",
      "Iteration:  0 , loss:  131.84828\n"
     ]
    },
    {
     "name": "stderr",
     "output_type": "stream",
     "text": [
      "2023-12-19 13:15:30.315434: W tensorflow/c/c_api.cc:305] Operation '{name:'beta2_power/Assign' id:1084 op device:{requested: '', assigned: ''} def:{{{node beta2_power/Assign}} = AssignVariableOp[_has_manual_control_dependencies=true, dtype=DT_FLOAT, validate_shape=false](beta2_power, beta2_power/Initializer/initial_value)}}' was changed by setting attribute after it was run by a session. This mutation will have no effect, and will trigger an error in the future. Either don't modify nodes after running them or create a new session.\n"
     ]
    },
    {
     "name": "stdout",
     "output_type": "stream",
     "text": [
      "Iteration:  1000 , loss:  2.8324513\n",
      "Iteration:  2000 , loss:  1.7252228\n",
      "Iteration:  3000 , loss:  0.77637637\n",
      "Iteration:  4000 , loss:  0.17574115\n",
      "Iteration:  5000 , loss:  0.03909448\n",
      "Iteration:  6000 , loss:  0.014136074\n",
      "Iteration:  7000 , loss:  0.005149532\n",
      "Iteration:  8000 , loss:  0.003927059\n",
      "Iteration:  9000 , loss:  0.0031444381\n",
      "Generating 12th sample by deep ensemble...\n",
      "Iteration:  0 , loss:  131.8357\n"
     ]
    },
    {
     "name": "stderr",
     "output_type": "stream",
     "text": [
      "2023-12-19 13:16:02.354037: W tensorflow/c/c_api.cc:305] Operation '{name:'beta2_power/Assign' id:1084 op device:{requested: '', assigned: ''} def:{{{node beta2_power/Assign}} = AssignVariableOp[_has_manual_control_dependencies=true, dtype=DT_FLOAT, validate_shape=false](beta2_power, beta2_power/Initializer/initial_value)}}' was changed by setting attribute after it was run by a session. This mutation will have no effect, and will trigger an error in the future. Either don't modify nodes after running them or create a new session.\n"
     ]
    },
    {
     "name": "stdout",
     "output_type": "stream",
     "text": [
      "Iteration:  1000 , loss:  2.875059\n",
      "Iteration:  2000 , loss:  1.6022971\n",
      "Iteration:  3000 , loss:  0.4216901\n",
      "Iteration:  4000 , loss:  0.0703561\n",
      "Iteration:  5000 , loss:  0.037641607\n",
      "Iteration:  6000 , loss:  0.03186795\n",
      "Iteration:  7000 , loss:  0.032610178\n",
      "Iteration:  8000 , loss:  0.028565899\n",
      "Iteration:  9000 , loss:  0.027941143\n",
      "Generating 13th sample by deep ensemble...\n",
      "Iteration:  0 , loss:  131.82149\n"
     ]
    },
    {
     "name": "stderr",
     "output_type": "stream",
     "text": [
      "2023-12-19 13:16:30.211723: W tensorflow/c/c_api.cc:305] Operation '{name:'beta2_power/Assign' id:1084 op device:{requested: '', assigned: ''} def:{{{node beta2_power/Assign}} = AssignVariableOp[_has_manual_control_dependencies=true, dtype=DT_FLOAT, validate_shape=false](beta2_power, beta2_power/Initializer/initial_value)}}' was changed by setting attribute after it was run by a session. This mutation will have no effect, and will trigger an error in the future. Either don't modify nodes after running them or create a new session.\n"
     ]
    },
    {
     "name": "stdout",
     "output_type": "stream",
     "text": [
      "Iteration:  1000 , loss:  2.747851\n",
      "Iteration:  2000 , loss:  1.7404059\n",
      "Iteration:  3000 , loss:  0.85947293\n",
      "Iteration:  4000 , loss:  0.07884604\n",
      "Iteration:  5000 , loss:  0.010155945\n",
      "Iteration:  6000 , loss:  0.006050679\n",
      "Iteration:  7000 , loss:  0.005110926\n",
      "Iteration:  8000 , loss:  0.0044323537\n",
      "Iteration:  9000 , loss:  0.0039594057\n",
      "Generating 14th sample by deep ensemble...\n",
      "Iteration:  0 , loss:  131.86276\n"
     ]
    },
    {
     "name": "stderr",
     "output_type": "stream",
     "text": [
      "2023-12-19 13:16:59.916634: W tensorflow/c/c_api.cc:305] Operation '{name:'beta2_power/Assign' id:1084 op device:{requested: '', assigned: ''} def:{{{node beta2_power/Assign}} = AssignVariableOp[_has_manual_control_dependencies=true, dtype=DT_FLOAT, validate_shape=false](beta2_power, beta2_power/Initializer/initial_value)}}' was changed by setting attribute after it was run by a session. This mutation will have no effect, and will trigger an error in the future. Either don't modify nodes after running them or create a new session.\n"
     ]
    },
    {
     "name": "stdout",
     "output_type": "stream",
     "text": [
      "Iteration:  1000 , loss:  2.7483168\n",
      "Iteration:  2000 , loss:  1.7551156\n",
      "Iteration:  3000 , loss:  0.9555617\n",
      "Iteration:  4000 , loss:  0.5813291\n",
      "Iteration:  5000 , loss:  0.06494467\n",
      "Iteration:  6000 , loss:  0.033477124\n",
      "Iteration:  7000 , loss:  0.024063032\n",
      "Iteration:  8000 , loss:  0.018080998\n",
      "Iteration:  9000 , loss:  0.022138702\n",
      "Generating 15th sample by deep ensemble...\n",
      "Iteration:  0 , loss:  131.80626\n"
     ]
    },
    {
     "name": "stderr",
     "output_type": "stream",
     "text": [
      "2023-12-19 13:17:30.031571: W tensorflow/c/c_api.cc:305] Operation '{name:'beta2_power/Assign' id:1084 op device:{requested: '', assigned: ''} def:{{{node beta2_power/Assign}} = AssignVariableOp[_has_manual_control_dependencies=true, dtype=DT_FLOAT, validate_shape=false](beta2_power, beta2_power/Initializer/initial_value)}}' was changed by setting attribute after it was run by a session. This mutation will have no effect, and will trigger an error in the future. Either don't modify nodes after running them or create a new session.\n"
     ]
    },
    {
     "name": "stdout",
     "output_type": "stream",
     "text": [
      "Iteration:  1000 , loss:  3.0634146\n",
      "Iteration:  2000 , loss:  1.9015862\n",
      "Iteration:  3000 , loss:  0.8336151\n",
      "Iteration:  4000 , loss:  0.09665429\n",
      "Iteration:  5000 , loss:  0.03618692\n",
      "Iteration:  6000 , loss:  0.031578083\n",
      "Iteration:  7000 , loss:  0.029521517\n",
      "Iteration:  8000 , loss:  0.028596547\n",
      "Iteration:  9000 , loss:  0.028040418\n",
      "Generating 16th sample by deep ensemble...\n",
      "Iteration:  0 , loss:  131.8836\n"
     ]
    },
    {
     "name": "stderr",
     "output_type": "stream",
     "text": [
      "2023-12-19 13:17:59.267018: W tensorflow/c/c_api.cc:305] Operation '{name:'beta2_power/Assign' id:1084 op device:{requested: '', assigned: ''} def:{{{node beta2_power/Assign}} = AssignVariableOp[_has_manual_control_dependencies=true, dtype=DT_FLOAT, validate_shape=false](beta2_power, beta2_power/Initializer/initial_value)}}' was changed by setting attribute after it was run by a session. This mutation will have no effect, and will trigger an error in the future. Either don't modify nodes after running them or create a new session.\n"
     ]
    },
    {
     "name": "stdout",
     "output_type": "stream",
     "text": [
      "Iteration:  1000 , loss:  2.7292314\n",
      "Iteration:  2000 , loss:  1.686184\n",
      "Iteration:  3000 , loss:  1.0150713\n",
      "Iteration:  4000 , loss:  0.13211109\n",
      "Iteration:  5000 , loss:  0.041820575\n",
      "Iteration:  6000 , loss:  0.03082847\n",
      "Iteration:  7000 , loss:  0.028665423\n",
      "Iteration:  8000 , loss:  0.026388995\n",
      "Iteration:  9000 , loss:  0.024627974\n",
      "Generating 17th sample by deep ensemble...\n",
      "Iteration:  0 , loss:  131.82733\n"
     ]
    },
    {
     "name": "stderr",
     "output_type": "stream",
     "text": [
      "2023-12-19 13:18:28.570765: W tensorflow/c/c_api.cc:305] Operation '{name:'beta2_power/Assign' id:1084 op device:{requested: '', assigned: ''} def:{{{node beta2_power/Assign}} = AssignVariableOp[_has_manual_control_dependencies=true, dtype=DT_FLOAT, validate_shape=false](beta2_power, beta2_power/Initializer/initial_value)}}' was changed by setting attribute after it was run by a session. This mutation will have no effect, and will trigger an error in the future. Either don't modify nodes after running them or create a new session.\n"
     ]
    },
    {
     "name": "stdout",
     "output_type": "stream",
     "text": [
      "Iteration:  1000 , loss:  2.3647947\n",
      "Iteration:  2000 , loss:  1.2347183\n",
      "Iteration:  3000 , loss:  0.54399186\n",
      "Iteration:  4000 , loss:  0.11432652\n",
      "Iteration:  5000 , loss:  0.043880537\n",
      "Iteration:  6000 , loss:  0.036538027\n",
      "Iteration:  7000 , loss:  0.032230344\n",
      "Iteration:  8000 , loss:  0.03141053\n",
      "Iteration:  9000 , loss:  0.030684814\n",
      "Generating 18th sample by deep ensemble...\n",
      "Iteration:  0 , loss:  131.8468\n"
     ]
    },
    {
     "name": "stderr",
     "output_type": "stream",
     "text": [
      "2023-12-19 13:18:56.342408: W tensorflow/c/c_api.cc:305] Operation '{name:'beta2_power/Assign' id:1084 op device:{requested: '', assigned: ''} def:{{{node beta2_power/Assign}} = AssignVariableOp[_has_manual_control_dependencies=true, dtype=DT_FLOAT, validate_shape=false](beta2_power, beta2_power/Initializer/initial_value)}}' was changed by setting attribute after it was run by a session. This mutation will have no effect, and will trigger an error in the future. Either don't modify nodes after running them or create a new session.\n"
     ]
    },
    {
     "name": "stdout",
     "output_type": "stream",
     "text": [
      "Iteration:  1000 , loss:  2.9764056\n",
      "Iteration:  2000 , loss:  1.6915126\n",
      "Iteration:  3000 , loss:  0.61220783\n",
      "Iteration:  4000 , loss:  0.13769545\n",
      "Iteration:  5000 , loss:  0.036053058\n",
      "Iteration:  6000 , loss:  0.022013623\n",
      "Iteration:  7000 , loss:  0.01686367\n",
      "Iteration:  8000 , loss:  0.013459463\n",
      "Iteration:  9000 , loss:  0.012224806\n",
      "Generating 19th sample by deep ensemble...\n",
      "Iteration:  0 , loss:  131.86093\n"
     ]
    },
    {
     "name": "stderr",
     "output_type": "stream",
     "text": [
      "2023-12-19 13:19:24.239945: W tensorflow/c/c_api.cc:305] Operation '{name:'beta2_power/Assign' id:1084 op device:{requested: '', assigned: ''} def:{{{node beta2_power/Assign}} = AssignVariableOp[_has_manual_control_dependencies=true, dtype=DT_FLOAT, validate_shape=false](beta2_power, beta2_power/Initializer/initial_value)}}' was changed by setting attribute after it was run by a session. This mutation will have no effect, and will trigger an error in the future. Either don't modify nodes after running them or create a new session.\n"
     ]
    },
    {
     "name": "stdout",
     "output_type": "stream",
     "text": [
      "Iteration:  1000 , loss:  2.8437471\n",
      "Iteration:  2000 , loss:  1.3951842\n",
      "Iteration:  3000 , loss:  0.9636002\n",
      "Iteration:  4000 , loss:  0.20497377\n",
      "Iteration:  5000 , loss:  0.03772964\n",
      "Iteration:  6000 , loss:  0.01999759\n",
      "Iteration:  7000 , loss:  0.014053013\n",
      "Iteration:  8000 , loss:  0.010899937\n",
      "Iteration:  9000 , loss:  0.00930771\n",
      "Execution time for 'Trainable' function is: 569.138 s, 9.486 mins\n"
     ]
    }
   ],
   "source": [
    "# -*- coding: utf-8 -*-\n",
    "\"\"\"\n",
    "Created on Wed Oct  4 16:14:30 2023\n",
    "\n",
    "@author: Antonina\n",
    "\"\"\"\n",
    "\n",
    "#%%\n",
    "# Simulated SDOF with:\n",
    "#K_true=10;\n",
    "# C_true=0.2236; %system damping ratio 5%\n",
    "\n",
    "# m=5; %mass for sdof example\n",
    "\n",
    "def load_data(noise):\n",
    "\n",
    "    #data = sio.loadmat(r\"G:\\My Drive\\Python_codes\\NNs\\sdof_ymeas.mat\")\n",
    "    # data = sio.loadmat(\"Data/sdof_noforce.mat\")\n",
    "    data = sio.loadmat(\"Data/sdof_noforce.mat\")\n",
    "    #  t_x_train, t_f_train = data[\"t\"], data[\"ymeas\"]\n",
    "    # data = matdata['data']\n",
    "    x_tt_train, t_train = data[\"a\"], data[\"t\"]\n",
    "    x_train, f_train = data[\"u\"], data[\"U\"]\n",
    "    # Input_train=t, x_tt\n",
    "    # train_x_tt = t_x_tt_train, x_train\n",
    "    # train_f = t_f_train, f_train\n",
    "\n",
    "    return  x_tt_train, t_train.T, x_train, f_train\n",
    "\n",
    "#m=1\n",
    "# [0][..., 0:1]     \n",
    "\n",
    "def pde_fn(t, x, f, log_c, log_k):\n",
    "    m=5\n",
    "    # k=10\n",
    "    # c=3.11\n",
    "    # log_k=tf.clip_by_value(log_k,np.log(0),np.log(20)) # to make constrains for the parameters\n",
    "    # log_c=tf.clip_by_value(log_c,np.log(0),np.log(0.5))\n",
    "    x_t = tf.gradients(x, t)      [0] [..., 0:1]     #velocity                                                                                                                                                                                                                   \n",
    "    x_tt = tf.gradients(x_t, t)   [0] [..., 0:1] \n",
    "\n",
    "    # f = m*x_tt+c*x_t+k*x\n",
    "    x_tt=(f-tf.exp(log_c)*x_t - tf.exp(log_k) * x)/m\n",
    "    # return [f,x_tt]\n",
    "    return x_tt\n",
    "\n",
    "def pde_xtt(t,x):\n",
    "    x_t = tf.gradients(x, t)       [0] #[..., 0:1]                                                                                                                                                                                                                 \n",
    "    x_tt = tf.gradients(x_t, t)    [0] #[..., 0:1]\n",
    "    return x_tt\n",
    "\n",
    "def pde1_init(init,x):\n",
    "    x0=10\n",
    "    return x0-x[0]\n",
    "\n",
    "def pde2_init(t, x):\n",
    "    x_t = tf.gradients(x, t)   [0] [..., 0:1] \n",
    "    # vel=-0.0997   \n",
    "    vel=0\n",
    "    return vel-x_t[0]\n",
    "    \n",
    "@neuq.utils.timer\n",
    "def Trainable(\n",
    "   x_tt_train, t_train, x_train, f_train, noise, layers, \n",
    "):\n",
    "    # build processes\n",
    "    \n",
    "    process_x = neuq.process.Process(\n",
    "        surrogate=neuq.surrogates.FNN(layers=layers),\n",
    "        # surrogate=neuq.surrogates.FNN(layers=layers,activation=RELu),\n",
    "        posterior=neuq_vars.fnn.Trainable(layers=layers),# displacement\n",
    "    )\n",
    "         # posterior=neuq_vars.fnn.Trainable(\n",
    "         #    layers=layers, regularizer=tf.keras.regularizers.l2(1e-5)\n",
    "        # ),\n",
    "    # )\n",
    "    process_f = neuq.process.Process(\n",
    "        surrogate=neuq.surrogates.FNN(layers=layers),\n",
    "        # surrogate=neuq.surrogates.FNN(layers=layers,activation=RELu),\n",
    "        posterior=neuq_vars.fnn.Trainable(layers=layers),# displacement\n",
    "     )\n",
    "   \n",
    "    process_log_c = neuq.process.Process(\n",
    "        surrogate=neuq.surrogates.Identity(),\n",
    "        posterior=neuq_vars.const.Trainable(value=0),\n",
    "    )\n",
    "    process_log_k = neuq.process.Process(\n",
    "        surrogate=neuq.surrogates.Identity(),\n",
    "        posterior=neuq_vars.const.Trainable(value=0),\n",
    "    )\n",
    "    method = neuq.inferences.DEns(\n",
    "        num_samples=20, num_iterations=10000, optimizer=tf.train.AdamOptimizer(1e-3),\n",
    "    )\n",
    "\n",
    "    # build losses\n",
    "    loss_f = neuq.likelihoods.MSE(\n",
    "        inputs=t_train,\n",
    "        # targets=f_train, # minimizing the loss to be close to zero\n",
    "        targets=x_tt_train, # minimizing the loss to be close to zero\n",
    "        processes=[process_x, process_f, process_log_c, process_log_k], # tf train\n",
    "        pde=pde_fn,\n",
    "        multiplier=1,\n",
    "    )\n",
    "   \n",
    "    loss_x = neuq.likelihoods.MSE(\n",
    "        inputs=t_train,\n",
    "        targets=x_tt_train, # could be the problem\n",
    "        processes=[process_x],\n",
    "        pde=pde_xtt, # dotdot _X\n",
    "        multiplier=1,\n",
    "    )\n",
    "       \n",
    "\n",
    "    loss1_init = neuq.likelihoods.MSE(\n",
    "        inputs=np.zeros_like(t_train),\n",
    "        targets=np.zeros_like(t_train), # minimizing the loss to be close to zero\n",
    "         # targets=np.zeros_like(t_train), # minimizing the loss to be close to zero\n",
    "        processes=[process_x], # tf train\n",
    "        pde=pde1_init,\n",
    "        multiplier=1,\n",
    "    )   \n",
    "\n",
    "    loss2_init = neuq.likelihoods.MSE(\n",
    "        inputs=t_train,\n",
    "        targets=np.zeros_like(t_train), # minimizing the loss to be close to zero\n",
    "         # targets=np.zeros_like(t_train), # minimizing the loss to be close to zero\n",
    "        processes=[process_x], # tf train\n",
    "        pde=pde2_init, # seem to worsen the predictions and the fit\n",
    "        multiplier=1,\n",
    "    )   \n",
    "\n",
    "    # build model\n",
    "    model = neuq.models.Model(\n",
    "        processes=[process_x, process_f, process_log_c, process_log_k],\n",
    "        likelihoods=[loss_x, loss_f, loss1_init, loss2_init],\n",
    "    )\n",
    "    # assign and compile method\n",
    "    model.compile(method)\n",
    "    # obtain posterior samples\n",
    "    samples = model.run()\n",
    "    # samples,results = model.run()\n",
    "    # print(\"Acceptance rate: %.3f \\n\" % (np.mean(results)))\n",
    "    \n",
    "    processes = [process_x, process_f, process_log_c, process_log_k]\n",
    "    likelihoods=[loss_x, loss_f, loss1_init, loss2_init]\n",
    "    return processes, samples, model, likelihoods\n",
    "\n",
    "\n",
    "if __name__ == \"__main__\":\n",
    "\n",
    "    noise = 0\n",
    "\n",
    "    x_tt_train, t_train, x_train, f_train = load_data(noise)\n",
    "\n",
    "    # t_x_tt_train, x_tt_train = train_x_tt\n",
    "    # t_f_train, f_train = train_f\n",
    "\n",
    "    layers = [1,100,100,1]\n",
    "\n",
    "    processes, samples, model, likelihoods = Trainable( x_tt_train, t_train, x_train, f_train, noise, layers,  )\n",
    "\n",
    "    (x_pred, f_pred, logc_pred, logk_pred)= model.predict(t_train, samples, processes, pde_fn=None)\n",
    "    \n"
   ]
  },
  {
   "cell_type": "code",
   "execution_count": null,
   "id": "30811de9-4ce8-41d4-ac16-f58588ee574f",
   "metadata": {},
   "outputs": [],
   "source": [
    "# (xtt_pred, )= model.predict(t_train,samples, processes, pde_fn=pde_xtt)"
   ]
  },
  {
   "cell_type": "code",
   "execution_count": 10,
   "id": "3bcd1756-4489-4a2d-9d1c-f290029053c6",
   "metadata": {},
   "outputs": [
    {
     "data": {
      "text/plain": [
       "<matplotlib.legend.Legend at 0x7fdb8048b690>"
      ]
     },
     "execution_count": 10,
     "metadata": {},
     "output_type": "execute_result"
    },
    {
     "data": {
      "image/png": "[encoded data removed]",
      "text/plain": [
       "<Figure size 640x480 with 1 Axes>"
      ]
     },
     "metadata": {},
     "output_type": "display_data"
    }
   ],
   "source": [
    "plt.plot(t_train, x_pred[9,:,0].flatten(),label='Predicted displacement')\n",
    "plt.plot(t_train,np.mean(x_pred,axis=(0, 2)),label='Mean Predicted displacement')\n",
    "plt.plot(t_train, x_train,'r',label='Actual displacement')\n",
    "plt.legend()"
   ]
  },
  {
   "cell_type": "code",
   "execution_count": null,
   "id": "8394c74c-8457-40d0-ae60-0ba35a482034",
   "metadata": {},
   "outputs": [],
   "source": [
    "plt.plot(t_train,np.mean(f_pred,axis=(0, 2)),label='Predicted force')\n",
    "plt.plot(t_train,f_train,'r',label='Actual force')\n",
    "plt.legend()"
   ]
  },
  {
   "cell_type": "code",
   "execution_count": 11,
   "id": "79f97e32-7bcd-4700-b7e6-f6b12c912004",
   "metadata": {},
   "outputs": [
    {
     "name": "stdout",
     "output_type": "stream",
     "text": [
      "MSE_f= 12.090184\n"
     ]
    }
   ],
   "source": [
    "f_pred= np.mean(f_pred, axis=0)\n",
    "MSE_f= np.mean((f_train - f_pred) ** 2)\n",
    "print('MSE_f=', MSE_f)"
   ]
  },
  {
   "cell_type": "code",
   "execution_count": null,
   "id": "80922bd3-eb59-438e-9f29-d90496d73f7c",
   "metadata": {},
   "outputs": [],
   "source": [
    "# (x_pred, process_log_k)= model.predict(t_train, samples, processes, pde_fn=None)\n",
    "neuq.utils.hist(np.exp(logk_pred).flatten(), name=\"value of $k$\")"
   ]
  },
  {
   "cell_type": "code",
   "execution_count": 12,
   "id": "d0a7bde1-fbc2-4647-8ab5-558a94c89560",
   "metadata": {},
   "outputs": [
    {
     "data": {
      "text/plain": [
       "<matplotlib.legend.Legend at 0x7fdb8035c2d0>"
      ]
     },
     "execution_count": 12,
     "metadata": {},
     "output_type": "execute_result"
    },
    {
     "data": {
      "image/png": "[encoded data removed]",
      "text/plain": [
       "<Figure size 640x480 with 1 Axes>"
      ]
     },
     "metadata": {},
     "output_type": "display_data"
    }
   ],
   "source": [
    "# print(likelihoods)\n",
    "(xtt_pred,) = model.predict(t_train, samples, processes, pde_fn=pde_fn)\n",
    "plt.plot(xtt_pred[9,:,0].flatten(),'y',label='Predicted acceleration')\n",
    "plt.plot(x_tt_train,label='Actual acceleration')\n",
    "plt.legend()"
   ]
  },
  {
   "cell_type": "code",
   "execution_count": 178,
   "id": "4e6c232f-8602-4b06-a997-1d2b2039dfcd",
   "metadata": {},
   "outputs": [
    {
     "data": {
      "text/plain": [
       "(10, 2000, 1)"
      ]
     },
     "execution_count": 178,
     "metadata": {},
     "output_type": "execute_result"
    }
   ],
   "source": [
    "f_pred.shape\n",
    "x_pred.shape"
   ]
  },
  {
   "cell_type": "code",
   "execution_count": 7,
   "id": "5ed87f00-b366-42cd-bf10-195553192995",
   "metadata": {},
   "outputs": [
    {
     "data": {
      "image/png": "[encoded data removed]",
      "text/plain": [
       "<Figure size 640x480 with 1 Axes>"
      ]
     },
     "metadata": {},
     "output_type": "display_data"
    },
    {
     "data": {
      "image/png": "[encoded data removed]",
      "text/plain": [
       "<Figure size 640x480 with 1 Axes>"
      ]
     },
     "metadata": {},
     "output_type": "display_data"
    }
   ],
   "source": [
    "neuq.utils.hist(np.exp(logk_pred).flatten(), name=\"value of $k$\")\n",
    "neuq.utils.hist(np.exp(logc_pred).flatten(), name=\"value of $c$\")"
   ]
  },
  {
   "cell_type": "code",
   "execution_count": null,
   "id": "5b7f8e41-f79c-407a-80cc-97d1b75fa935",
   "metadata": {},
   "outputs": [],
   "source": [
    "(xtt_pred,) = model.predict(t_train, samples, processes, pde_fn=pde_xtt)"
   ]
  },
  {
   "cell_type": "code",
   "execution_count": 14,
   "id": "d0155bea-421b-45a8-b3c0-b22def56f63b",
   "metadata": {},
   "outputs": [
    {
     "name": "stdout",
     "output_type": "stream",
     "text": [
      "MSE_x= 0.11503302840397306\n"
     ]
    }
   ],
   "source": [
    "x = np.mean(x_pred, axis=0)\n",
    "# x=x_pred[9,:,0].flatten()\n",
    "MSE_x= np.mean((x_train - x) ** 2)\n",
    "print('MSE_x=',MSE_x)"
   ]
  },
  {
   "cell_type": "code",
   "execution_count": 15,
   "id": "1dbe01e1-02c4-41aa-8b97-02e25774964f",
   "metadata": {},
   "outputs": [
    {
     "name": "stdout",
     "output_type": "stream",
     "text": [
      "MSE_xtt= 0.035109642188794865\n"
     ]
    }
   ],
   "source": [
    "xtt = np.mean(xtt_pred, axis=0)\n",
    "MSE_xtt= np.mean((x_tt_train - xtt) ** 2)\n",
    "print('MSE_xtt=',MSE_xtt)"
   ]
  },
  {
   "cell_type": "code",
   "execution_count": 16,
   "id": "13162704-f3db-4527-8d5c-c56e64a7a376",
   "metadata": {},
   "outputs": [
    {
     "name": "stdout",
     "output_type": "stream",
     "text": [
      "[[0.00094493]\n",
      " [0.00096419]\n",
      " [0.00098649]\n",
      " ...\n",
      " [0.4719459 ]\n",
      " [0.47187787]\n",
      " [0.47181004]]\n"
     ]
    },
    {
     "data": {
      "text/plain": [
       "[<matplotlib.lines.Line2D at 0x7fdb60748d90>]"
      ]
     },
     "execution_count": 16,
     "metadata": {},
     "output_type": "execute_result"
    },
    {
     "data": {
      "image/png": "[encoded data removed]",
      "text/plain": [
       "<Figure size 640x480 with 1 Axes>"
      ]
     },
     "metadata": {},
     "output_type": "display_data"
    }
   ],
   "source": [
    "mu = np.mean(x_pred, axis=0)\n",
    "std = np.std(x_pred, axis=0)\n",
    "print(std)\n",
    "# plt.plot(std)\n",
    "plt.plot(mu+3*std)"
   ]
  },
  {
   "cell_type": "code",
   "execution_count": null,
   "id": "0605bff4-fb0d-4a07-b800-768f7a6ba374",
   "metadata": {},
   "outputs": [],
   "source": [
    "# ee=x-x_train\n",
    "# MSE_x=mse(x_train, x)\n",
    "# print(MSE_x)\n",
    "# plt.plot(ee)\n",
    "# (x).shape\n",
    "# # x_train.shape\n",
    "# plt.plot(ee)\n",
    "# plt.plot(x_train)"
   ]
  },
  {
   "cell_type": "code",
   "execution_count": null,
   "id": "f120771f-9a44-4a42-9ac5-f6e3b75c22d8",
   "metadata": {},
   "outputs": [],
   "source": [
    "Csamp=samples[6]    \n",
    "Ksamp=samples[7]\n",
    "C_post=np.exp(np.mean(Csamp))\n",
    "print(\"C_true=0.22(Ns/m) and C_post =\", C_post) \n",
    "K_post=np.exp(np.mean(Ksamp))\n",
    "print(\"K_true=10(N/m) and K_post =\", K_post)"
   ]
  },
  {
   "cell_type": "code",
   "execution_count": null,
   "id": "74fbd26a-01f7-4810-b45b-f35bd7540fb9",
   "metadata": {},
   "outputs": [],
   "source": [
    "# sio.savemat(\"G:/My Drive/Python_codes/sdof0.mat\", {\"x_pred\":x_pred, \"k\":samples[7].flatten(),\"c\":samples[6].flatten()})"
   ]
  },
  {
   "cell_type": "code",
   "execution_count": null,
   "id": "74cba944-e7fd-47fe-8ee8-63698e4a7fff",
   "metadata": {},
   "outputs": [],
   "source": [
    "plt.plot(x_tt_train)"
   ]
  },
  {
   "cell_type": "code",
   "execution_count": null,
   "id": "c6631829-49ed-4609-ba38-6c69249c0857",
   "metadata": {},
   "outputs": [],
   "source": [
    "# loss_pde= model.predict(t_train, samples, processes, pde_fn=pde_fn)\n",
    "\n",
    "loss_x ="
   ]
  }
 ],
 "metadata": {
  "kernelspec": {
   "display_name": "Python 3 (ipykernel)",
   "language": "python",
   "name": "python3"
  },
  "language_info": {
   "codemirror_mode": {
    "name": "ipython",
    "version": 3
   },
   "file_extension": ".py",
   "mimetype": "text/x-python",
   "name": "python",
   "nbconvert_exporter": "python",
   "pygments_lexer": "ipython3",
   "version": "3.11.0rc1"
  }
 },
 "nbformat": 4,
 "nbformat_minor": 5
}
