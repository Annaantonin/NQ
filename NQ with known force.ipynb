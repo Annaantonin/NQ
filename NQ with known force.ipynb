{
 "cells": [
  {
   "cell_type": "code",
   "execution_count": 1,
   "id": "e322b318-2b90-46a0-9afe-8494aef96820",
   "metadata": {},
   "outputs": [
    {
     "name": "stderr",
     "output_type": "stream",
     "text": [
      "2023-10-19 15:37:38.455456: I tensorflow/core/util/port.cc:111] oneDNN custom operations are on. You may see slightly different numerical results due to floating-point round-off errors from different computation orders. To turn them off, set the environment variable `TF_ENABLE_ONEDNN_OPTS=0`.\n",
      "2023-10-19 15:37:38.486625: E tensorflow/compiler/xla/stream_executor/cuda/cuda_dnn.cc:9342] Unable to register cuDNN factory: Attempting to register factory for plugin cuDNN when one has already been registered\n",
      "2023-10-19 15:37:38.486644: E tensorflow/compiler/xla/stream_executor/cuda/cuda_fft.cc:609] Unable to register cuFFT factory: Attempting to register factory for plugin cuFFT when one has already been registered\n",
      "2023-10-19 15:37:38.486656: E tensorflow/compiler/xla/stream_executor/cuda/cuda_blas.cc:1518] Unable to register cuBLAS factory: Attempting to register factory for plugin cuBLAS when one has already been registered\n",
      "2023-10-19 15:37:38.493944: I tensorflow/core/platform/cpu_feature_guard.cc:182] This TensorFlow binary is optimized to use available CPU instructions in performance-critical operations.\n",
      "To enable the following instructions: AVX2 AVX_VNNI FMA, in other operations, rebuild TensorFlow with the appropriate compiler flags.\n"
     ]
    }
   ],
   "source": [
    "import tensorflow as tf"
   ]
  },
  {
   "cell_type": "code",
   "execution_count": 2,
   "id": "f61dc19c-5812-42e6-ad25-9026eeffbe1a",
   "metadata": {
    "scrolled": true
   },
   "outputs": [
    {
     "name": "stdout",
     "output_type": "stream",
     "text": [
      "[name: \"/device:CPU:0\"\n",
      "device_type: \"CPU\"\n",
      "memory_limit: 268435456\n",
      "locality {\n",
      "}\n",
      "incarnation: 5722348852918988976\n",
      "xla_global_id: -1\n",
      ", name: \"/device:GPU:0\"\n",
      "device_type: \"GPU\"\n",
      "memory_limit: 5510283264\n",
      "locality {\n",
      "  bus_id: 1\n",
      "  links {\n",
      "  }\n",
      "}\n",
      "incarnation: 162493173251049487\n",
      "physical_device_desc: \"device: 0, name: NVIDIA GeForce RTX 4070 Laptop GPU, pci bus id: 0000:01:00.0, compute capability: 8.9\"\n",
      "xla_global_id: 416903419\n",
      "]\n"
     ]
    },
    {
     "name": "stderr",
     "output_type": "stream",
     "text": [
      "2023-10-19 15:37:39.816128: I tensorflow/compiler/xla/stream_executor/cuda/cuda_gpu_executor.cc:880] could not open file to read NUMA node: /sys/bus/pci/devices/0000:01:00.0/numa_node\n",
      "Your kernel may have been built without NUMA support.\n",
      "2023-10-19 15:37:39.826097: I tensorflow/compiler/xla/stream_executor/cuda/cuda_gpu_executor.cc:880] could not open file to read NUMA node: /sys/bus/pci/devices/0000:01:00.0/numa_node\n",
      "Your kernel may have been built without NUMA support.\n",
      "2023-10-19 15:37:39.826121: I tensorflow/compiler/xla/stream_executor/cuda/cuda_gpu_executor.cc:880] could not open file to read NUMA node: /sys/bus/pci/devices/0000:01:00.0/numa_node\n",
      "Your kernel may have been built without NUMA support.\n",
      "2023-10-19 15:37:40.438031: I tensorflow/compiler/xla/stream_executor/cuda/cuda_gpu_executor.cc:880] could not open file to read NUMA node: /sys/bus/pci/devices/0000:01:00.0/numa_node\n",
      "Your kernel may have been built without NUMA support.\n",
      "2023-10-19 15:37:40.438058: I tensorflow/compiler/xla/stream_executor/cuda/cuda_gpu_executor.cc:880] could not open file to read NUMA node: /sys/bus/pci/devices/0000:01:00.0/numa_node\n",
      "Your kernel may have been built without NUMA support.\n",
      "2023-10-19 15:37:40.438063: I tensorflow/core/common_runtime/gpu/gpu_device.cc:1977] Could not identify NUMA node of platform GPU id 0, defaulting to 0.  Your kernel may not have been built with NUMA support.\n",
      "2023-10-19 15:37:40.438078: I tensorflow/compiler/xla/stream_executor/cuda/cuda_gpu_executor.cc:880] could not open file to read NUMA node: /sys/bus/pci/devices/0000:01:00.0/numa_node\n",
      "Your kernel may have been built without NUMA support.\n",
      "2023-10-19 15:37:40.438091: I tensorflow/core/common_runtime/gpu/gpu_device.cc:1886] Created device /device:GPU:0 with 5255 MB memory:  -> device: 0, name: NVIDIA GeForce RTX 4070 Laptop GPU, pci bus id: 0000:01:00.0, compute capability: 8.9\n"
     ]
    }
   ],
   "source": [
    "from tensorflow.python.client import device_lib \n",
    "print(device_lib.list_local_devices())"
   ]
  },
  {
   "cell_type": "code",
   "execution_count": 6,
   "id": "7532903d-d511-422b-97d5-3a3f2a708c1d",
   "metadata": {},
   "outputs": [
    {
     "ename": "NameError",
     "evalue": "name 'os' is not defined",
     "output_type": "error",
     "traceback": [
      "\u001b[0;31m---------------------------------------------------------------------------\u001b[0m",
      "\u001b[0;31mNameError\u001b[0m                                 Traceback (most recent call last)",
      "Cell \u001b[0;32mIn[6], line 1\u001b[0m\n\u001b[0;32m----> 1\u001b[0m \u001b[43mos\u001b[49m\u001b[38;5;241m.\u001b[39mchdir(\u001b[38;5;124m\"\u001b[39m\u001b[38;5;124m/mnt/\u001b[39m\u001b[38;5;124m\"\u001b[39m)\n",
      "\u001b[0;31mNameError\u001b[0m: name 'os' is not defined"
     ]
    }
   ],
   "source": [
    "os.chdir(\"/mnt/\")"
   ]
  },
  {
   "cell_type": "code",
   "execution_count": 7,
   "id": "be4cc8e8-f845-4714-8b58-c74458a6af25",
   "metadata": {},
   "outputs": [
    {
     "name": "stdout",
     "output_type": "stream",
     "text": [
      "fatal: destination path 'Data' already exists and is not an empty directory.\n"
     ]
    }
   ],
   "source": [
    "!git clone https://github.com/Annaantonin/Data.git"
   ]
  },
  {
   "cell_type": "code",
   "execution_count": 8,
   "id": "e4b37278-49a5-4032-a14d-0340efed0a57",
   "metadata": {},
   "outputs": [],
   "source": [
    "import Data as data"
   ]
  },
  {
   "cell_type": "code",
   "execution_count": 3,
   "id": "86f2c4ab-fc67-4785-8d75-8670ae5dd47f",
   "metadata": {},
   "outputs": [
    {
     "name": "stdout",
     "output_type": "stream",
     "text": [
      "fatal: destination path 'neuraluq' already exists and is not an empty directory.\n",
      "Requirement already satisfied: tensorflow-probability in /usr/local/lib/python3.11/dist-packages (0.22.0)\n",
      "Requirement already satisfied: absl-py in /usr/local/lib/python3.11/dist-packages (from tensorflow-probability) (2.0.0)\n",
      "Requirement already satisfied: six>=1.10.0 in /usr/lib/python3/dist-packages (from tensorflow-probability) (1.16.0)\n",
      "Requirement already satisfied: numpy>=1.13.3 in /usr/local/lib/python3.11/dist-packages (from tensorflow-probability) (1.26.0)\n",
      "Requirement already satisfied: decorator in /usr/local/lib/python3.11/dist-packages (from tensorflow-probability) (5.1.1)\n",
      "Requirement already satisfied: cloudpickle>=1.3 in /usr/local/lib/python3.11/dist-packages (from tensorflow-probability) (3.0.0)\n",
      "Requirement already satisfied: gast>=0.3.2 in /usr/local/lib/python3.11/dist-packages (from tensorflow-probability) (0.5.4)\n",
      "Requirement already satisfied: dm-tree in /usr/local/lib/python3.11/dist-packages (from tensorflow-probability) (0.1.8)\n",
      "Requirement already satisfied: typing-extensions<4.6.0 in /usr/local/lib/python3.11/dist-packages (from tensorflow-probability) (4.5.0)\n",
      "\u001b[33mWARNING: Running pip as the 'root' user can result in broken permissions and conflicting behaviour with the system package manager. It is recommended to use a virtual environment instead: https://pip.pypa.io/warnings/venv\u001b[0m\u001b[33m\n",
      "\u001b[0m\n",
      "\u001b[1m[\u001b[0m\u001b[34;49mnotice\u001b[0m\u001b[1;39;49m]\u001b[0m\u001b[39;49m A new release of pip is available: \u001b[0m\u001b[31;49m23.2.1\u001b[0m\u001b[39;49m -> \u001b[0m\u001b[32;49m23.3\u001b[0m\n",
      "\u001b[1m[\u001b[0m\u001b[34;49mnotice\u001b[0m\u001b[1;39;49m]\u001b[0m\u001b[39;49m To update, run: \u001b[0m\u001b[32;49mpython3 -m pip install --upgrade pip\u001b[0m\n",
      "Requirement already satisfied: scipy in /usr/local/lib/python3.11/dist-packages (1.11.3)\n",
      "Requirement already satisfied: numpy<1.28.0,>=1.21.6 in /usr/local/lib/python3.11/dist-packages (from scipy) (1.26.0)\n",
      "\u001b[33mWARNING: Running pip as the 'root' user can result in broken permissions and conflicting behaviour with the system package manager. It is recommended to use a virtual environment instead: https://pip.pypa.io/warnings/venv\u001b[0m\u001b[33m\n",
      "\u001b[0m\n",
      "\u001b[1m[\u001b[0m\u001b[34;49mnotice\u001b[0m\u001b[1;39;49m]\u001b[0m\u001b[39;49m A new release of pip is available: \u001b[0m\u001b[31;49m23.2.1\u001b[0m\u001b[39;49m -> \u001b[0m\u001b[32;49m23.3\u001b[0m\n",
      "\u001b[1m[\u001b[0m\u001b[34;49mnotice\u001b[0m\u001b[1;39;49m]\u001b[0m\u001b[39;49m To update, run: \u001b[0m\u001b[32;49mpython3 -m pip install --upgrade pip\u001b[0m\n",
      "/usr/local/lib/python3.11/dist-packages/setuptools/dist.py:314: InformationOnly: Normalizing 'v0.1.0-beta' to '0.1.0b0'\n",
      "  self.metadata.version = self._normalize_version(\n",
      "running install\n",
      "/usr/local/lib/python3.11/dist-packages/setuptools/_distutils/cmd.py:66: SetuptoolsDeprecationWarning: setup.py install is deprecated.\n",
      "!!\n",
      "\n",
      "        ********************************************************************************\n",
      "        Please avoid running ``setup.py`` directly.\n",
      "        Instead, use pypa/build, pypa/installer or other\n",
      "        standards-based tools.\n",
      "\n",
      "        See https://blog.ganssle.io/articles/2021/10/setup-py-deprecated.html for details.\n",
      "        ********************************************************************************\n",
      "\n",
      "!!\n",
      "  self.initialize_options()\n",
      "/usr/local/lib/python3.11/dist-packages/setuptools/_distutils/cmd.py:66: EasyInstallDeprecationWarning: easy_install command is deprecated.\n",
      "!!\n",
      "\n",
      "        ********************************************************************************\n",
      "        Please avoid running ``setup.py`` and ``easy_install``.\n",
      "        Instead, use pypa/build, pypa/installer or other\n",
      "        standards-based tools.\n",
      "\n",
      "        See https://github.com/pypa/setuptools/issues/917 for details.\n",
      "        ********************************************************************************\n",
      "\n",
      "!!\n",
      "  self.initialize_options()\n",
      "running bdist_egg\n",
      "running egg_info\n",
      "writing NeuralUQ.egg-info/PKG-INFO\n",
      "writing dependency_links to NeuralUQ.egg-info/dependency_links.txt\n",
      "writing top-level names to NeuralUQ.egg-info/top_level.txt\n",
      "reading manifest file 'NeuralUQ.egg-info/SOURCES.txt'\n",
      "writing manifest file 'NeuralUQ.egg-info/SOURCES.txt'\n",
      "installing library code to build/bdist.linux-x86_64/egg\n",
      "running install_lib\n",
      "running build_py\n",
      "creating build/bdist.linux-x86_64/egg\n",
      "creating build/bdist.linux-x86_64/egg/neuraluq\n",
      "creating build/bdist.linux-x86_64/egg/neuraluq/surrogates\n",
      "copying build/lib/neuraluq/surrogates/deeponet.py -> build/bdist.linux-x86_64/egg/neuraluq/surrogates\n",
      "copying build/lib/neuraluq/surrogates/surrogate.py -> build/bdist.linux-x86_64/egg/neuraluq/surrogates\n",
      "copying build/lib/neuraluq/surrogates/__init__.py -> build/bdist.linux-x86_64/egg/neuraluq/surrogates\n",
      "copying build/lib/neuraluq/surrogates/generator.py -> build/bdist.linux-x86_64/egg/neuraluq/surrogates\n",
      "copying build/lib/neuraluq/surrogates/fnn.py -> build/bdist.linux-x86_64/egg/neuraluq/surrogates\n",
      "creating build/bdist.linux-x86_64/egg/neuraluq/inferences\n",
      "copying build/lib/neuraluq/inferences/vi.py -> build/bdist.linux-x86_64/egg/neuraluq/inferences\n",
      "copying build/lib/neuraluq/inferences/inference.py -> build/bdist.linux-x86_64/egg/neuraluq/inferences\n",
      "copying build/lib/neuraluq/inferences/__init__.py -> build/bdist.linux-x86_64/egg/neuraluq/inferences\n",
      "copying build/lib/neuraluq/inferences/ensemble.py -> build/bdist.linux-x86_64/egg/neuraluq/inferences\n",
      "copying build/lib/neuraluq/inferences/mcmc.py -> build/bdist.linux-x86_64/egg/neuraluq/inferences\n",
      "copying build/lib/neuraluq/config.py -> build/bdist.linux-x86_64/egg/neuraluq\n",
      "copying build/lib/neuraluq/metrics.py -> build/bdist.linux-x86_64/egg/neuraluq\n",
      "copying build/lib/neuraluq/__init__.py -> build/bdist.linux-x86_64/egg/neuraluq\n",
      "copying build/lib/neuraluq/likelihoods.py -> build/bdist.linux-x86_64/egg/neuraluq\n",
      "copying build/lib/neuraluq/models.py -> build/bdist.linux-x86_64/egg/neuraluq\n",
      "creating build/bdist.linux-x86_64/egg/neuraluq/variables\n",
      "copying build/lib/neuraluq/variables/const.py -> build/bdist.linux-x86_64/egg/neuraluq/variables\n",
      "copying build/lib/neuraluq/variables/pconst.py -> build/bdist.linux-x86_64/egg/neuraluq/variables\n",
      "copying build/lib/neuraluq/variables/pfnn.py -> build/bdist.linux-x86_64/egg/neuraluq/variables\n",
      "copying build/lib/neuraluq/variables/__init__.py -> build/bdist.linux-x86_64/egg/neuraluq/variables\n",
      "copying build/lib/neuraluq/variables/variables.py -> build/bdist.linux-x86_64/egg/neuraluq/variables\n",
      "copying build/lib/neuraluq/variables/fnn.py -> build/bdist.linux-x86_64/egg/neuraluq/variables\n",
      "copying build/lib/neuraluq/process.py -> build/bdist.linux-x86_64/egg/neuraluq\n",
      "copying build/lib/neuraluq/calibrations.py -> build/bdist.linux-x86_64/egg/neuraluq\n",
      "copying build/lib/neuraluq/utils.py -> build/bdist.linux-x86_64/egg/neuraluq\n",
      "byte-compiling build/bdist.linux-x86_64/egg/neuraluq/surrogates/deeponet.py to deeponet.cpython-311.pyc\n",
      "byte-compiling build/bdist.linux-x86_64/egg/neuraluq/surrogates/surrogate.py to surrogate.cpython-311.pyc\n",
      "byte-compiling build/bdist.linux-x86_64/egg/neuraluq/surrogates/__init__.py to __init__.cpython-311.pyc\n",
      "byte-compiling build/bdist.linux-x86_64/egg/neuraluq/surrogates/generator.py to generator.cpython-311.pyc\n",
      "byte-compiling build/bdist.linux-x86_64/egg/neuraluq/surrogates/fnn.py to fnn.cpython-311.pyc\n",
      "byte-compiling build/bdist.linux-x86_64/egg/neuraluq/inferences/vi.py to vi.cpython-311.pyc\n",
      "byte-compiling build/bdist.linux-x86_64/egg/neuraluq/inferences/inference.py to inference.cpython-311.pyc\n",
      "byte-compiling build/bdist.linux-x86_64/egg/neuraluq/inferences/__init__.py to __init__.cpython-311.pyc\n",
      "byte-compiling build/bdist.linux-x86_64/egg/neuraluq/inferences/ensemble.py to ensemble.cpython-311.pyc\n",
      "byte-compiling build/bdist.linux-x86_64/egg/neuraluq/inferences/mcmc.py to mcmc.cpython-311.pyc\n",
      "byte-compiling build/bdist.linux-x86_64/egg/neuraluq/config.py to config.cpython-311.pyc\n",
      "byte-compiling build/bdist.linux-x86_64/egg/neuraluq/metrics.py to metrics.cpython-311.pyc\n",
      "byte-compiling build/bdist.linux-x86_64/egg/neuraluq/__init__.py to __init__.cpython-311.pyc\n",
      "byte-compiling build/bdist.linux-x86_64/egg/neuraluq/likelihoods.py to likelihoods.cpython-311.pyc\n",
      "byte-compiling build/bdist.linux-x86_64/egg/neuraluq/models.py to models.cpython-311.pyc\n",
      "byte-compiling build/bdist.linux-x86_64/egg/neuraluq/variables/const.py to const.cpython-311.pyc\n",
      "byte-compiling build/bdist.linux-x86_64/egg/neuraluq/variables/pconst.py to pconst.cpython-311.pyc\n",
      "byte-compiling build/bdist.linux-x86_64/egg/neuraluq/variables/pfnn.py to pfnn.cpython-311.pyc\n",
      "byte-compiling build/bdist.linux-x86_64/egg/neuraluq/variables/__init__.py to __init__.cpython-311.pyc\n",
      "byte-compiling build/bdist.linux-x86_64/egg/neuraluq/variables/variables.py to variables.cpython-311.pyc\n",
      "byte-compiling build/bdist.linux-x86_64/egg/neuraluq/variables/fnn.py to fnn.cpython-311.pyc\n",
      "byte-compiling build/bdist.linux-x86_64/egg/neuraluq/process.py to process.cpython-311.pyc\n",
      "byte-compiling build/bdist.linux-x86_64/egg/neuraluq/calibrations.py to calibrations.cpython-311.pyc\n",
      "byte-compiling build/bdist.linux-x86_64/egg/neuraluq/utils.py to utils.cpython-311.pyc\n",
      "creating build/bdist.linux-x86_64/egg/EGG-INFO\n",
      "copying NeuralUQ.egg-info/PKG-INFO -> build/bdist.linux-x86_64/egg/EGG-INFO\n",
      "copying NeuralUQ.egg-info/SOURCES.txt -> build/bdist.linux-x86_64/egg/EGG-INFO\n",
      "copying NeuralUQ.egg-info/dependency_links.txt -> build/bdist.linux-x86_64/egg/EGG-INFO\n",
      "copying NeuralUQ.egg-info/top_level.txt -> build/bdist.linux-x86_64/egg/EGG-INFO\n",
      "zip_safe flag not set; analyzing archive contents...\n",
      "creating 'dist/NeuralUQ-0.1.0b0-py3.11.egg' and adding 'build/bdist.linux-x86_64/egg' to it\n",
      "removing 'build/bdist.linux-x86_64/egg' (and everything under it)\n",
      "Processing NeuralUQ-0.1.0b0-py3.11.egg\n",
      "Removing /usr/local/lib/python3.11/dist-packages/NeuralUQ-0.1.0b0-py3.11.egg\n",
      "Copying NeuralUQ-0.1.0b0-py3.11.egg to /usr/local/lib/python3.11/dist-packages\n",
      "Adding NeuralUQ 0.1.0b0 to easy-install.pth file\n",
      "\n",
      "Installed /usr/local/lib/python3.11/dist-packages/NeuralUQ-0.1.0b0-py3.11.egg\n",
      "Processing dependencies for NeuralUQ==0.1.0b0\n",
      "Finished processing dependencies for NeuralUQ==0.1.0b0\n"
     ]
    }
   ],
   "source": [
    "!git clone https://github.com/Crunch-UQ4MI/neuraluq.git\n",
    "#!git clone https://github.com/Annaantonin/Data.git\n",
    "!pip install tensorflow-probability\n",
    "!pip install scipy\n",
    "import os\n",
    "os.chdir(\"/tf/neuraluq/\")\n",
    "!python setup.py install"
   ]
  },
  {
   "cell_type": "code",
   "execution_count": 10,
   "id": "e21a150d-287e-4f67-bd61-a0e9fbfc111d",
   "metadata": {},
   "outputs": [
    {
     "data": {
      "text/plain": [
       "['dataset',\n",
       " 'README.md',\n",
       " 'dist',\n",
       " 'build',\n",
       " 'examples',\n",
       " 'NeuralUQ.egg-info',\n",
       " '.git',\n",
       " 'setup.py',\n",
       " 'Data',\n",
       " 'neuraluq']"
      ]
     },
     "execution_count": 10,
     "metadata": {},
     "output_type": "execute_result"
    }
   ],
   "source": [
    "os.listdir(\".\")"
   ]
  },
  {
   "cell_type": "code",
   "execution_count": 4,
   "id": "063426be-c1d2-496c-b315-9e8ad05eb58e",
   "metadata": {},
   "outputs": [],
   "source": [
    "import neuraluq as neuq\n",
    "import neuraluq.variables as neuq_vars\n",
    "from neuraluq.config import tf\n",
    "\n",
    "import numpy as np\n",
    "import scipy.io as sio\n",
    "from scipy.io import loadmat\n",
    "import matplotlib.pyplot as plt"
   ]
  },
  {
   "cell_type": "code",
   "execution_count": 8,
   "id": "4808f03e-0c15-4ccb-beff-bff94a5e64be",
   "metadata": {},
   "outputs": [
    {
     "name": "stderr",
     "output_type": "stream",
     "text": [
      "2023-10-19 15:47:20.749927: I tensorflow/compiler/xla/stream_executor/cuda/cuda_gpu_executor.cc:880] could not open file to read NUMA node: /sys/bus/pci/devices/0000:01:00.0/numa_node\n",
      "Your kernel may have been built without NUMA support.\n",
      "2023-10-19 15:47:20.749988: I tensorflow/compiler/xla/stream_executor/cuda/cuda_gpu_executor.cc:880] could not open file to read NUMA node: /sys/bus/pci/devices/0000:01:00.0/numa_node\n",
      "Your kernel may have been built without NUMA support.\n",
      "2023-10-19 15:47:20.749999: I tensorflow/compiler/xla/stream_executor/cuda/cuda_gpu_executor.cc:880] could not open file to read NUMA node: /sys/bus/pci/devices/0000:01:00.0/numa_node\n",
      "Your kernel may have been built without NUMA support.\n",
      "2023-10-19 15:47:20.750361: I tensorflow/compiler/xla/stream_executor/cuda/cuda_gpu_executor.cc:880] could not open file to read NUMA node: /sys/bus/pci/devices/0000:01:00.0/numa_node\n",
      "Your kernel may have been built without NUMA support.\n",
      "2023-10-19 15:47:20.750391: I tensorflow/core/common_runtime/gpu/gpu_device.cc:1977] Could not identify NUMA node of platform GPU id 0, defaulting to 0.  Your kernel may not have been built with NUMA support.\n",
      "2023-10-19 15:47:20.750414: I tensorflow/compiler/xla/stream_executor/cuda/cuda_gpu_executor.cc:880] could not open file to read NUMA node: /sys/bus/pci/devices/0000:01:00.0/numa_node\n",
      "Your kernel may have been built without NUMA support.\n",
      "2023-10-19 15:47:20.750439: I tensorflow/core/common_runtime/gpu/gpu_device.cc:1886] Created device /job:localhost/replica:0/task:0/device:GPU:0 with 5255 MB memory:  -> device: 0, name: NVIDIA GeForce RTX 4070 Laptop GPU, pci bus id: 0000:01:00.0, compute capability: 8.9\n"
     ]
    },
    {
     "name": "stdout",
     "output_type": "stream",
     "text": [
      "Supporting backend tensorflow.compat.v1\n",
      "\n",
      "Compiling a Ensemble method\n",
      "\n",
      "Generating 0th sample by deep ensemble...\n"
     ]
    },
    {
     "name": "stderr",
     "output_type": "stream",
     "text": [
      "2023-10-19 15:47:20.964890: W tensorflow/c/c_api.cc:305] Operation '{name:'Variable_23/Assign' id:1776 op device:{requested: '', assigned: ''} def:{{{node Variable_23/Assign}} = AssignVariableOp[_has_manual_control_dependencies=true, dtype=DT_FLOAT, validate_shape=false](Variable_23, Const_17)}}' was changed by setting attribute after it was run by a session. This mutation will have no effect, and will trigger an error in the future. Either don't modify nodes after running them or create a new session.\n"
     ]
    },
    {
     "name": "stdout",
     "output_type": "stream",
     "text": [
      "Iteration:  0 , loss:  781.51965\n",
      "Iteration:  1000 , loss:  561.7341\n",
      "Iteration:  2000 , loss:  294.57306\n",
      "Iteration:  3000 , loss:  135.63344\n",
      "Iteration:  4000 , loss:  104.77846\n",
      "Iteration:  5000 , loss:  71.97194\n",
      "Iteration:  6000 , loss:  66.86183\n",
      "Iteration:  7000 , loss:  38.53071\n",
      "Iteration:  8000 , loss:  36.534267\n",
      "Iteration:  9000 , loss:  36.00144\n",
      "Generating 1th sample by deep ensemble...\n",
      "Iteration:  0 , loss:  786.95557\n"
     ]
    },
    {
     "name": "stderr",
     "output_type": "stream",
     "text": [
      "2023-10-19 15:48:52.770696: W tensorflow/c/c_api.cc:305] Operation '{name:'beta2_power_2/Assign' id:2447 op device:{requested: '', assigned: ''} def:{{{node beta2_power_2/Assign}} = AssignVariableOp[_has_manual_control_dependencies=true, dtype=DT_FLOAT, validate_shape=false](beta2_power_2, beta2_power_2/Initializer/initial_value)}}' was changed by setting attribute after it was run by a session. This mutation will have no effect, and will trigger an error in the future. Either don't modify nodes after running them or create a new session.\n"
     ]
    },
    {
     "name": "stdout",
     "output_type": "stream",
     "text": [
      "Iteration:  1000 , loss:  518.1379\n",
      "Iteration:  2000 , loss:  376.97086\n",
      "Iteration:  3000 , loss:  235.25558\n",
      "Iteration:  4000 , loss:  219.68616\n",
      "Iteration:  5000 , loss:  187.25748\n",
      "Iteration:  6000 , loss:  70.79355\n",
      "Iteration:  7000 , loss:  40.84766\n",
      "Iteration:  8000 , loss:  36.98106\n",
      "Iteration:  9000 , loss:  36.65965\n",
      "Generating 2th sample by deep ensemble...\n",
      "Iteration:  0 , loss:  783.224\n"
     ]
    },
    {
     "name": "stderr",
     "output_type": "stream",
     "text": [
      "2023-10-19 15:50:23.714875: W tensorflow/c/c_api.cc:305] Operation '{name:'beta2_power_2/Assign' id:2447 op device:{requested: '', assigned: ''} def:{{{node beta2_power_2/Assign}} = AssignVariableOp[_has_manual_control_dependencies=true, dtype=DT_FLOAT, validate_shape=false](beta2_power_2, beta2_power_2/Initializer/initial_value)}}' was changed by setting attribute after it was run by a session. This mutation will have no effect, and will trigger an error in the future. Either don't modify nodes after running them or create a new session.\n"
     ]
    },
    {
     "name": "stdout",
     "output_type": "stream",
     "text": [
      "Iteration:  1000 , loss:  340.65393\n",
      "Iteration:  2000 , loss:  169.67354\n",
      "Iteration:  3000 , loss:  95.032196\n",
      "Iteration:  4000 , loss:  92.710014\n",
      "Iteration:  5000 , loss:  52.631264\n",
      "Iteration:  6000 , loss:  37.449455\n",
      "Iteration:  7000 , loss:  36.267326\n",
      "Iteration:  8000 , loss:  35.883423\n",
      "Iteration:  9000 , loss:  35.569336\n",
      "Generating 3th sample by deep ensemble...\n",
      "Iteration:  0 , loss:  795.6999\n"
     ]
    },
    {
     "name": "stderr",
     "output_type": "stream",
     "text": [
      "2023-10-19 15:51:54.437262: W tensorflow/c/c_api.cc:305] Operation '{name:'beta2_power_2/Assign' id:2447 op device:{requested: '', assigned: ''} def:{{{node beta2_power_2/Assign}} = AssignVariableOp[_has_manual_control_dependencies=true, dtype=DT_FLOAT, validate_shape=false](beta2_power_2, beta2_power_2/Initializer/initial_value)}}' was changed by setting attribute after it was run by a session. This mutation will have no effect, and will trigger an error in the future. Either don't modify nodes after running them or create a new session.\n"
     ]
    },
    {
     "name": "stdout",
     "output_type": "stream",
     "text": [
      "Iteration:  1000 , loss:  607.8601\n",
      "Iteration:  2000 , loss:  219.91124\n",
      "Iteration:  3000 , loss:  54.572678\n",
      "Iteration:  4000 , loss:  37.121468\n",
      "Iteration:  5000 , loss:  36.248016\n",
      "Iteration:  6000 , loss:  35.85605\n",
      "Iteration:  7000 , loss:  35.608784\n",
      "Iteration:  8000 , loss:  35.342274\n",
      "Iteration:  9000 , loss:  35.932686\n",
      "Generating 4th sample by deep ensemble...\n",
      "Iteration:  0 , loss:  783.9691\n"
     ]
    },
    {
     "name": "stderr",
     "output_type": "stream",
     "text": [
      "2023-10-19 15:53:24.967624: W tensorflow/c/c_api.cc:305] Operation '{name:'beta2_power_2/Assign' id:2447 op device:{requested: '', assigned: ''} def:{{{node beta2_power_2/Assign}} = AssignVariableOp[_has_manual_control_dependencies=true, dtype=DT_FLOAT, validate_shape=false](beta2_power_2, beta2_power_2/Initializer/initial_value)}}' was changed by setting attribute after it was run by a session. This mutation will have no effect, and will trigger an error in the future. Either don't modify nodes after running them or create a new session.\n"
     ]
    },
    {
     "name": "stdout",
     "output_type": "stream",
     "text": [
      "Iteration:  1000 , loss:  494.10284\n",
      "Iteration:  2000 , loss:  298.196\n",
      "Iteration:  3000 , loss:  148.29967\n",
      "Iteration:  4000 , loss:  104.600174\n",
      "Iteration:  5000 , loss:  89.393936\n",
      "Iteration:  6000 , loss:  55.85048\n",
      "Iteration:  7000 , loss:  37.771164\n",
      "Iteration:  8000 , loss:  36.384247\n",
      "Iteration:  9000 , loss:  35.946644\n",
      "Generating 5th sample by deep ensemble...\n",
      "Iteration:  0 , loss:  780.0341\n"
     ]
    },
    {
     "name": "stderr",
     "output_type": "stream",
     "text": [
      "2023-10-19 15:54:55.701321: W tensorflow/c/c_api.cc:305] Operation '{name:'beta2_power_2/Assign' id:2447 op device:{requested: '', assigned: ''} def:{{{node beta2_power_2/Assign}} = AssignVariableOp[_has_manual_control_dependencies=true, dtype=DT_FLOAT, validate_shape=false](beta2_power_2, beta2_power_2/Initializer/initial_value)}}' was changed by setting attribute after it was run by a session. This mutation will have no effect, and will trigger an error in the future. Either don't modify nodes after running them or create a new session.\n"
     ]
    },
    {
     "name": "stdout",
     "output_type": "stream",
     "text": [
      "Iteration:  1000 , loss:  528.62646\n",
      "Iteration:  2000 , loss:  314.518\n",
      "Iteration:  3000 , loss:  109.976395\n",
      "Iteration:  4000 , loss:  94.18814\n",
      "Iteration:  5000 , loss:  58.037125\n",
      "Iteration:  6000 , loss:  41.28757\n",
      "Iteration:  7000 , loss:  36.988518\n",
      "Iteration:  8000 , loss:  36.157192\n",
      "Iteration:  9000 , loss:  35.82734\n",
      "Generating 6th sample by deep ensemble...\n",
      "Iteration:  0 , loss:  778.7363\n"
     ]
    },
    {
     "name": "stderr",
     "output_type": "stream",
     "text": [
      "2023-10-19 15:56:27.190431: W tensorflow/c/c_api.cc:305] Operation '{name:'beta2_power_2/Assign' id:2447 op device:{requested: '', assigned: ''} def:{{{node beta2_power_2/Assign}} = AssignVariableOp[_has_manual_control_dependencies=true, dtype=DT_FLOAT, validate_shape=false](beta2_power_2, beta2_power_2/Initializer/initial_value)}}' was changed by setting attribute after it was run by a session. This mutation will have no effect, and will trigger an error in the future. Either don't modify nodes after running them or create a new session.\n"
     ]
    },
    {
     "name": "stdout",
     "output_type": "stream",
     "text": [
      "Iteration:  1000 , loss:  457.22894\n",
      "Iteration:  2000 , loss:  43.156956\n",
      "Iteration:  3000 , loss:  36.677097\n",
      "Iteration:  4000 , loss:  36.175037\n",
      "Iteration:  5000 , loss:  35.801495\n",
      "Iteration:  6000 , loss:  35.518326\n",
      "Iteration:  7000 , loss:  35.33347\n",
      "Iteration:  8000 , loss:  35.211346\n",
      "Iteration:  9000 , loss:  35.167522\n",
      "Generating 7th sample by deep ensemble...\n",
      "Iteration:  0 , loss:  784.1689\n"
     ]
    },
    {
     "name": "stderr",
     "output_type": "stream",
     "text": [
      "2023-10-19 15:57:58.641333: W tensorflow/c/c_api.cc:305] Operation '{name:'beta2_power_2/Assign' id:2447 op device:{requested: '', assigned: ''} def:{{{node beta2_power_2/Assign}} = AssignVariableOp[_has_manual_control_dependencies=true, dtype=DT_FLOAT, validate_shape=false](beta2_power_2, beta2_power_2/Initializer/initial_value)}}' was changed by setting attribute after it was run by a session. This mutation will have no effect, and will trigger an error in the future. Either don't modify nodes after running them or create a new session.\n"
     ]
    },
    {
     "name": "stdout",
     "output_type": "stream",
     "text": [
      "Iteration:  1000 , loss:  505.2459\n",
      "Iteration:  2000 , loss:  206.21048\n",
      "Iteration:  3000 , loss:  105.89302\n",
      "Iteration:  4000 , loss:  98.598045\n",
      "Iteration:  5000 , loss:  83.981514\n",
      "Iteration:  6000 , loss:  71.69616\n",
      "Iteration:  7000 , loss:  57.1583\n",
      "Iteration:  8000 , loss:  38.515816\n",
      "Iteration:  9000 , loss:  36.349323\n",
      "Generating 8th sample by deep ensemble...\n",
      "Iteration:  0 , loss:  785.29065\n"
     ]
    },
    {
     "name": "stderr",
     "output_type": "stream",
     "text": [
      "2023-10-19 15:59:30.341390: W tensorflow/c/c_api.cc:305] Operation '{name:'beta2_power_2/Assign' id:2447 op device:{requested: '', assigned: ''} def:{{{node beta2_power_2/Assign}} = AssignVariableOp[_has_manual_control_dependencies=true, dtype=DT_FLOAT, validate_shape=false](beta2_power_2, beta2_power_2/Initializer/initial_value)}}' was changed by setting attribute after it was run by a session. This mutation will have no effect, and will trigger an error in the future. Either don't modify nodes after running them or create a new session.\n"
     ]
    },
    {
     "name": "stdout",
     "output_type": "stream",
     "text": [
      "Iteration:  1000 , loss:  499.2227\n",
      "Iteration:  2000 , loss:  264.14658\n",
      "Iteration:  3000 , loss:  179.22133\n",
      "Iteration:  4000 , loss:  99.78722\n",
      "Iteration:  5000 , loss:  68.70619\n",
      "Iteration:  6000 , loss:  63.50128\n",
      "Iteration:  7000 , loss:  38.51806\n",
      "Iteration:  8000 , loss:  36.524406\n",
      "Iteration:  9000 , loss:  35.986656\n",
      "Generating 9th sample by deep ensemble...\n",
      "Iteration:  0 , loss:  791.55493\n"
     ]
    },
    {
     "name": "stderr",
     "output_type": "stream",
     "text": [
      "2023-10-19 16:01:01.565633: W tensorflow/c/c_api.cc:305] Operation '{name:'beta2_power_2/Assign' id:2447 op device:{requested: '', assigned: ''} def:{{{node beta2_power_2/Assign}} = AssignVariableOp[_has_manual_control_dependencies=true, dtype=DT_FLOAT, validate_shape=false](beta2_power_2, beta2_power_2/Initializer/initial_value)}}' was changed by setting attribute after it was run by a session. This mutation will have no effect, and will trigger an error in the future. Either don't modify nodes after running them or create a new session.\n"
     ]
    },
    {
     "name": "stdout",
     "output_type": "stream",
     "text": [
      "Iteration:  1000 , loss:  609.3677\n",
      "Iteration:  2000 , loss:  139.07358\n",
      "Iteration:  3000 , loss:  49.69973\n",
      "Iteration:  4000 , loss:  39.584835\n",
      "Iteration:  5000 , loss:  37.517647\n",
      "Iteration:  6000 , loss:  36.557384\n",
      "Iteration:  7000 , loss:  36.016285\n",
      "Iteration:  8000 , loss:  35.740032\n",
      "Iteration:  9000 , loss:  35.47911\n",
      "Execution time for 'Trainable' function is: 911.789 s, 15.196 mins\n"
     ]
    }
   ],
   "source": [
    "# -*- coding: utf-8 -*-\n",
    "\"\"\"\n",
    "Created on Wed Oct  4 16:14:30 2023\n",
    "\n",
    "@author: Antonina\n",
    "\"\"\"\n",
    "\n",
    "#%%\n",
    "# Simulated SDOF with:\n",
    "#K_tue=5;\n",
    "# C_true=0.2236; %system damping ratio 5%\n",
    "# m=1; %mass for sdof example\n",
    "\n",
    "def load_data(noise_x, noise_f):\n",
    "\n",
    "    #data = sio.loadmat(r\"G:\\My Drive\\Python_codes\\NNs\\sdof_ymeas.mat\")\n",
    "    data = sio.loadmat(\"Data/sdof_ymeas.mat\")\n",
    "    #  t_x_train, t_f_train = data[\"t\"], data[\"ymeas\"]\n",
    "    # data = matdata['data']\n",
    "    \n",
    "    x_tt_train, t_train = data[\"a\"], data[\"t\"]\n",
    "    x_train, f_train = data[\"u\"], data[\"force\"]\n",
    "    # train_x_tt = t_x_tt_train, x_train\n",
    "    # train_f = t_f_train, f_train\n",
    "\n",
    "    return  x_tt_train.T, t_train.T, x_train.T, f_train.T\n",
    "\n",
    "#m=1\n",
    "# [0][..., 0:1]     \n",
    "\n",
    "def pde_fn(t, x, log_c, log_k):\n",
    "    # log_k=tf.clip(np.log(3),np.log(20)) # to make constrains for the parameters\n",
    "    x_t = tf.gradients(x, t)                                                                                                                                                                                                                            \n",
    "    x_tt = tf.gradients(x_t, t)\n",
    "\n",
    "    f = tf.multiply(x_tt, 5.0)+ tf.exp(log_c) * x_t + tf.exp(log_k) * x\n",
    "\n",
    "    # return [f,x_tt]\n",
    "    return f\n",
    "\n",
    "def pde_xtt(t,x):\n",
    "    x_t = tf.gradients(x, t)                                                                                                                                                                                                                        \n",
    "    x_tt = tf.gradients(x_t, t)\n",
    "    \n",
    "    return x_tt\n",
    "    \n",
    "\n",
    "@neuq.utils.timer\n",
    "def Trainable(\n",
    "    x_tt_train, t_train, x_train, f_train, noise, layers, \n",
    "):\n",
    "    # build processes\n",
    "    \n",
    "    process_x = neuq.process.Process(\n",
    "        surrogate=neuq.surrogates.FNN(layers=layers, activation=tf.tanh),\n",
    "        # surrogate=neuq.surrogates.FNN(layers=layers,activation=RELu),\n",
    "        posterior=neuq_vars.fnn.Trainable(layers=layers),# displacement\n",
    "    )\n",
    "    process_log_c = neuq.process.Process(\n",
    "        surrogate=neuq.surrogates.Identity(),\n",
    "        posterior=neuq_vars.const.Trainable(value=0),\n",
    "    )\n",
    "    process_log_k = neuq.process.Process(\n",
    "        surrogate=neuq.surrogates.Identity(),\n",
    "        posterior=neuq_vars.const.Trainable(value=2),\n",
    "    )\n",
    "    method = neuq.inferences.DEns(\n",
    "        num_samples=10, num_iterations=10000, optimizer=tf.train.AdamOptimizer(1e-3),\n",
    "    )\n",
    "\n",
    "    # build losses\n",
    "    loss_x = neuq.likelihoods.MSE(\n",
    "        inputs=t_train,\n",
    "        targets=x_train, # could be the problem\n",
    "        processes=[process_x],\n",
    "        pde=pde_xtt, # dotdot _X\n",
    "        multiplier=1.0,\n",
    "    )\n",
    "    \n",
    "    loss_f = neuq.likelihoods.MSE(\n",
    "        inputs=t_train,\n",
    "        targets=f_train, # f_train  CHANGE!!!!\n",
    "        processes=[process_x, process_log_c, process_log_k], # tf train\n",
    "        pde=pde_fn,\n",
    "        multiplier=1.0,\n",
    "    )\n",
    "    # build model\n",
    "    model = neuq.models.Model(\n",
    "        processes=[process_x, process_log_c, process_log_k],\n",
    "        likelihoods=[loss_x, loss_f],\n",
    "    )\n",
    "    # assign and compile method\n",
    "    model.compile(method)\n",
    "    # obtain posterior samples\n",
    "    samples = model.run()\n",
    "\n",
    "    processes = [process_x, process_log_c, process_log_k]\n",
    "    return processes, samples, model\n",
    "\n",
    "\n",
    "if __name__ == \"__main__\":\n",
    "\n",
    "    noise = 0\n",
    "\n",
    "    x_tt_train, t_train, x_train, f_train = load_data(noise, noise)\n",
    "\n",
    "    # t_x_tt_train, x_tt_train = train_x_tt\n",
    "    # t_f_train, f_train = train_f\n",
    "\n",
    "    layers = [1, 100, 100, 1]\n",
    "\n",
    "    processes, samples, model = Trainable(\n",
    "        x_tt_train, t_train, x_train, f_train, noise, layers,\n",
    "    )\n",
    "\n",
    "    x_pred, logc_pred, logk_pred = model.predict(t_train, samples, processes, pde_fn=None)\n",
    "\t# samples = [[NN_weights/c/k] for comb in range(20)]\n",
    "\n",
    "    # then plot samples of c and k\n",
    "    # processes, samples, model = Samplable(\n",
    "    #    x_tt_train, t_train, noise, layers,\n",
    "    # )\n",
    "\t\n",
    "    # A=model.predict(samples, processes[0]) # for each t it will give 20 predictions for combinations of NN_weights/c/k\n",
    "#fsamp=samples[5]    \n",
    "# Csamp=samples[6]\n",
    "# Ksamp=samples[7]\n",
    "# f_post=u_pred[0,:,:]\n",
    "# C_post=np.exp(np.mean(Csamp))\n",
    "# K_post=np.exp(np.mean(Ksamp))\n",
    "    \n",
    "# plt.plot(Csamp)\n",
    "# plt.figure\n",
    "# plt.hist(np.exp(Csamp))\n",
    "# plt.plot(Ksamp)\n",
    "# u_pred, logk_1_pred, logk_2_pred = model.predict(x_tt_train, samples, processes, pde_fn=None)\n",
    "#         # np.concatenate([x_tt_train, t_train], axis=-1)\n",
    "# plt.plot(t_train.T,f_post.T)\n",
    "# plt.xlabel('time(s)')\n",
    "# plt.title('Predicted (accelerations)')\n",
    "# plt.figure()\n",
    "# plt.plot(t_train.T,x_tt_train.T)\n",
    "# plt.xlabel('time(s)')\n",
    "# plt.title('Training data data (accelerations)')        \n",
    "# print(C_post)   \n",
    "# print(K_post)     \n",
    "        "
   ]
  },
  {
   "cell_type": "code",
   "execution_count": null,
   "id": "dffe425c-51e2-4b35-9a19-35bd6df57b42",
   "metadata": {},
   "outputs": [],
   "source": [
    "[a.shape for a in samples]"
   ]
  },
  {
   "cell_type": "code",
   "execution_count": 9,
   "id": "5ed87f00-b366-42cd-bf10-195553192995",
   "metadata": {},
   "outputs": [
    {
     "data": {
      "image/png": "[encoded data removed]",
      "text/plain": [
       "<Figure size 640x480 with 1 Axes>"
      ]
     },
     "metadata": {},
     "output_type": "display_data"
    },
    {
     "data": {
      "image/png": "[encoded data removed]",
      "text/plain": [
       "<Figure size 640x480 with 1 Axes>"
      ]
     },
     "metadata": {},
     "output_type": "display_data"
    }
   ],
   "source": [
    "neuq.utils.hist(np.exp(logk_pred).flatten(), name=\"value of $k$\")\n",
    "neuq.utils.hist(np.exp(logc_pred).flatten(), name=\"value of $c$\")"
   ]
  },
  {
   "cell_type": "code",
   "execution_count": 10,
   "id": "afa2977d-fdff-4b19-b205-3e5c63e9143d",
   "metadata": {},
   "outputs": [
    {
     "data": {
      "text/plain": [
       "<matplotlib.legend.Legend at 0x7f9a16bbf5d0>"
      ]
     },
     "execution_count": 10,
     "metadata": {},
     "output_type": "execute_result"
    },
    {
     "data": {
      "image/png": "[encoded data removed]",
      "text/plain": [
       "<Figure size 640x480 with 1 Axes>"
      ]
     },
     "metadata": {},
     "output_type": "display_data"
    }
   ],
   "source": [
    "plt.plot(t_train,np.mean(x_pred,axis=(0, 2)),label='Predicted displacement')\n",
    "plt.plot(t_train,x_train,'r',label='Actual displacement')\n",
    "plt.legend()"
   ]
  },
  {
   "cell_type": "code",
   "execution_count": 11,
   "id": "f120771f-9a44-4a42-9ac5-f6e3b75c22d8",
   "metadata": {},
   "outputs": [
    {
     "name": "stdout",
     "output_type": "stream",
     "text": [
      "C_true=0.22(Ns/m) and C_post = 0.024605399\n",
      "K_true=10(N/m) and K_post = 1.0935041\n"
     ]
    }
   ],
   "source": [
    "Csamp=samples[6]    \n",
    "Ksamp=samples[7]\n",
    "C_post=np.exp(np.mean(Csamp))\n",
    "print(\"C_true=0.22(Ns/m) and C_post =\", C_post) \n",
    "K_post=np.exp(np.mean(Ksamp))\n",
    "print(\"K_true=10(N/m) and K_post =\", K_post) \n"
   ]
  },
  {
   "cell_type": "code",
   "execution_count": 12,
   "id": "5851cb3a-ac6b-4aea-af35-369d13b6f3a9",
   "metadata": {},
   "outputs": [
    {
     "data": {
      "text/plain": [
       "<matplotlib.legend.Legend at 0x7f9a16d0f510>"
      ]
     },
     "execution_count": 12,
     "metadata": {},
     "output_type": "execute_result"
    },
    {
     "data": {
      "image/png": "[encoded data removed]",
      "text/plain": [
       "<Figure size 640x480 with 1 Axes>"
      ]
     },
     "metadata": {},
     "output_type": "display_data"
    }
   ],
   "source": [
    "plt.plot(t_train,np.mean(x_pred,axis=(0, 2)),label='Predicted displacement')\n",
    "plt.plot(t_train,x_train,'r',label='Actual displacement')\n",
    "plt.legend()"
   ]
  },
  {
   "cell_type": "code",
   "execution_count": null,
   "id": "74fbd26a-01f7-4810-b45b-f35bd7540fb9",
   "metadata": {},
   "outputs": [],
   "source": [
    "# sio.savemat(\"G:/My Drive/Python_codes/sdof0.mat\", {\"x_pred\":x_pred, \"k\":samples[7].flatten(),\"c\":samples[6].flatten()})"
   ]
  },
  {
   "cell_type": "code",
   "execution_count": 31,
   "id": "bc3056f7-1fe0-4143-bf03-4b850017b1b1",
   "metadata": {},
   "outputs": [],
   "source": [
    "data_to_save = {\n",
    "   \"x_pred\":x_pred, \"c\":samples[6].flatten(),\"k\":samples[7].flatten()\n",
    "}\n",
    "file_name = 'output.mat'\n",
    "sio.savemat(file_name, data_to_save)"
   ]
  },
  {
   "cell_type": "code",
   "execution_count": null,
   "id": "0dd58ed1-af1b-49ef-b55a-da7ce3d68f31",
   "metadata": {},
   "outputs": [],
   "source": []
  }
 ],
 "metadata": {
  "kernelspec": {
   "display_name": "Python 3 (ipykernel)",
   "language": "python",
   "name": "python3"
  },
  "language_info": {
   "codemirror_mode": {
    "name": "ipython",
    "version": 3
   },
   "file_extension": ".py",
   "mimetype": "text/x-python",
   "name": "python",
   "nbconvert_exporter": "python",
   "pygments_lexer": "ipython3",
   "version": "3.11.0rc1"
  }
 },
 "nbformat": 4,
 "nbformat_minor": 5
}
